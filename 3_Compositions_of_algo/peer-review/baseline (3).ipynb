{
 "cells": [
  {
   "cell_type": "markdown",
   "metadata": {
    "id": "TK7oX5qdEEYr"
   },
   "source": [
    "<p style=\"align: center;\"><img align=center src=\"https://s8.hostingkartinok.com/uploads/images/2018/08/308b49fcfbc619d629fe4604bceb67ac.jpg\" width=500 height=450/></p>\n",
    "\n",
    "<h3 style=\"text-align: center;\"><b>Школа глубокого обучения ФПМИ МФТИ</b></h3>\n",
    "\n",
    "<h3 style=\"text-align: center;\"><b>Домашнее задание. Продвинутый поток. Весна 2021</b></h3>\n",
    "\n",
    "Это домашнее задание будет посвящено полноценному решению задачи машинного обучения."
   ]
  },
  {
   "cell_type": "markdown",
   "metadata": {
    "id": "zlB-owfaEEYs"
   },
   "source": [
    "Есть две части этого домашнего задания: \n",
    "* Сделать полноценный отчет о вашей работе: как вы обработали данные, какие модели попробовали и какие результаты получились (максимум 10 баллов). За каждую выполненную часть будет начислено определенное количество баллов.\n",
    "* Лучшее решение отправить в соревнование на [kaggle](https://www.kaggle.com/c/advanced-dls-spring-2021/) (максимум 5 баллов). За прохождение определенного порогов будут начисляться баллы.\n",
    "\n",
    "\n",
    "**Обе части будут проверяться в формате peer-review. Т.е. вашу посылку на степик будут проверять несколько других студентов и аггрегация их оценок будет выставлена. В то же время вам тоже нужно будет проверить несколько других учеников.**\n",
    "\n",
    "**Пожалуйста, делайте свою работу чистой и понятной, чтобы облегчить проверку. Если у вас будут проблемы с решением или хочется совета, то пишите в наш чат в телеграме или в лс @runfme. Если вы захотите проаппелировать оценку, то пипшите в лс @runfme.**\n",
    "\n",
    "**Во всех пунктах указания это минимальный набор вещей, которые стоит сделать. Если вы можете сделать какой-то шаг лучше или добавить что-то свое - дерзайте!**"
   ]
  },
  {
   "cell_type": "markdown",
   "metadata": {
    "id": "Tu_JvqcBEN8Y"
   },
   "source": [
    "# Как проверять?\n",
    "\n",
    "Ставьте полный балл, если выполнены все рекомендации или сделано что-то более интересное и сложное. За каждый отсустствующий пункт из рекомендация снижайте 1 балл."
   ]
  },
  {
   "cell_type": "markdown",
   "metadata": {
    "id": "ninJ63mJEEYt"
   },
   "source": [
    "# Метрика\n",
    "\n",
    "Перед решением любой задачи важно понимать, как будет оцениваться ваше решение. В данном случае мы используем стандартную для задачи классификации метрику ROC-AUC. Ее можно вычислить используя только предсказанные вероятности и истинные классы без конкретного порога классификации + она раотает даже если классы в данных сильно несбалансированны (примеров одного класса в десятки раз больше примеров длугого). Именно поэтому она очень удобна для соревнований.\n",
    "\n",
    "Посчитать ее легко:\n"
   ]
  },
  {
   "cell_type": "code",
   "execution_count": 1,
   "metadata": {
    "colab": {
     "base_uri": "https://localhost:8080/"
    },
    "id": "SQIrka7yEEYu",
    "outputId": "abfd79ce-a239-4cf1-9603-2c34c7b2e02e"
   },
   "outputs": [
    {
     "data": {
      "text/plain": [
       "0.8333333333333333"
      ]
     },
     "execution_count": 1,
     "metadata": {},
     "output_type": "execute_result"
    }
   ],
   "source": [
    "from sklearn.metrics import roc_auc_score\n",
    "\n",
    "y_true = [\n",
    "    0,\n",
    "    1,\n",
    "    1,\n",
    "    0,\n",
    "    1\n",
    "]\n",
    "\n",
    "y_predictions = [\n",
    "    0.1,\n",
    "    0.9,\n",
    "    0.4,\n",
    "    0.6,\n",
    "    0.61\n",
    "]\n",
    "\n",
    "roc_auc_score(y_true, y_predictions)"
   ]
  },
  {
   "cell_type": "markdown",
   "metadata": {
    "id": "IrDNNkNTEEYz"
   },
   "source": [
    "# Первая часть. Исследование"
   ]
  },
  {
   "cell_type": "code",
   "execution_count": 2,
   "metadata": {
    "id": "lzLqEeZKEEYz"
   },
   "outputs": [],
   "source": [
    "import pandas as pd\n",
    "import numpy as np\n",
    "from matplotlib import pyplot as plt"
   ]
  },
  {
   "cell_type": "markdown",
   "metadata": {
    "id": "LOlxdURSEEY3"
   },
   "source": [
    "## Загрузка данных (2 балла)\n",
    "\n",
    "1) Посмотрите на случайные строчки. \n",
    "\n",
    "2) Посмотрите, есть ли в датасете незаполненные значения (nan'ы) с помощью data.isna() или data.info() и, если нужно, замените их на что-то. Будет хорошо, если вы построите табличку с количеством nan в каждой колонке."
   ]
  },
  {
   "cell_type": "code",
   "execution_count": 3,
   "metadata": {
    "id": "pw-Brue9EEY3"
   },
   "outputs": [],
   "source": [
    "data = pd.read_csv('./train.csv')"
   ]
  },
  {
   "cell_type": "code",
   "execution_count": 4,
   "metadata": {
    "id": "KgnkkF5bEEY9"
   },
   "outputs": [],
   "source": [
    "# Для вашего удобства списки с именами разных колонок\n",
    "\n",
    "# Числовые признаки\n",
    "num_cols = [\n",
    "    'ClientPeriod',\n",
    "    'MonthlySpending',\n",
    "    'TotalSpent'\n",
    "]\n",
    "\n",
    "# Категориальные признаки\n",
    "cat_cols = [\n",
    "    'Sex',\n",
    "    'IsSeniorCitizen',\n",
    "    'HasPartner',\n",
    "    'HasChild',\n",
    "    'HasPhoneService',\n",
    "    'HasMultiplePhoneNumbers',\n",
    "    'HasInternetService',\n",
    "    'HasOnlineSecurityService',\n",
    "    'HasOnlineBackup',\n",
    "    'HasDeviceProtection',\n",
    "    'HasTechSupportAccess',\n",
    "    'HasOnlineTV',\n",
    "    'HasMovieSubscription',\n",
    "    'HasContractPhone',\n",
    "    'IsBillingPaperless',\n",
    "    'PaymentMethod'\n",
    "]\n",
    "\n",
    "feature_cols = num_cols + cat_cols\n",
    "target_col = 'Churn'"
   ]
  },
  {
   "cell_type": "code",
   "execution_count": 5,
   "metadata": {
    "colab": {
     "base_uri": "https://localhost:8080/",
     "height": 511
    },
    "id": "tHC6gWabEEZA",
    "outputId": "5676eb46-f4f3-4d50-9f0b-063d2515ddd2"
   },
   "outputs": [
    {
     "data": {
      "text/html": [
       "<div>\n",
       "<style scoped>\n",
       "    .dataframe tbody tr th:only-of-type {\n",
       "        vertical-align: middle;\n",
       "    }\n",
       "\n",
       "    .dataframe tbody tr th {\n",
       "        vertical-align: top;\n",
       "    }\n",
       "\n",
       "    .dataframe thead th {\n",
       "        text-align: right;\n",
       "    }\n",
       "</style>\n",
       "<table border=\"1\" class=\"dataframe\">\n",
       "  <thead>\n",
       "    <tr style=\"text-align: right;\">\n",
       "      <th></th>\n",
       "      <th>ClientPeriod</th>\n",
       "      <th>MonthlySpending</th>\n",
       "      <th>TotalSpent</th>\n",
       "      <th>Sex</th>\n",
       "      <th>IsSeniorCitizen</th>\n",
       "      <th>HasPartner</th>\n",
       "      <th>HasChild</th>\n",
       "      <th>HasPhoneService</th>\n",
       "      <th>HasMultiplePhoneNumbers</th>\n",
       "      <th>HasInternetService</th>\n",
       "      <th>HasOnlineSecurityService</th>\n",
       "      <th>HasOnlineBackup</th>\n",
       "      <th>HasDeviceProtection</th>\n",
       "      <th>HasTechSupportAccess</th>\n",
       "      <th>HasOnlineTV</th>\n",
       "      <th>HasMovieSubscription</th>\n",
       "      <th>HasContractPhone</th>\n",
       "      <th>IsBillingPaperless</th>\n",
       "      <th>PaymentMethod</th>\n",
       "      <th>Churn</th>\n",
       "    </tr>\n",
       "  </thead>\n",
       "  <tbody>\n",
       "    <tr>\n",
       "      <th>0</th>\n",
       "      <td>55</td>\n",
       "      <td>19.50</td>\n",
       "      <td>1026.35</td>\n",
       "      <td>Male</td>\n",
       "      <td>0</td>\n",
       "      <td>Yes</td>\n",
       "      <td>Yes</td>\n",
       "      <td>Yes</td>\n",
       "      <td>No</td>\n",
       "      <td>No</td>\n",
       "      <td>No internet service</td>\n",
       "      <td>No internet service</td>\n",
       "      <td>No internet service</td>\n",
       "      <td>No internet service</td>\n",
       "      <td>No internet service</td>\n",
       "      <td>No internet service</td>\n",
       "      <td>One year</td>\n",
       "      <td>No</td>\n",
       "      <td>Mailed check</td>\n",
       "      <td>0</td>\n",
       "    </tr>\n",
       "    <tr>\n",
       "      <th>1</th>\n",
       "      <td>72</td>\n",
       "      <td>25.85</td>\n",
       "      <td>1872.2</td>\n",
       "      <td>Male</td>\n",
       "      <td>0</td>\n",
       "      <td>Yes</td>\n",
       "      <td>No</td>\n",
       "      <td>Yes</td>\n",
       "      <td>Yes</td>\n",
       "      <td>No</td>\n",
       "      <td>No internet service</td>\n",
       "      <td>No internet service</td>\n",
       "      <td>No internet service</td>\n",
       "      <td>No internet service</td>\n",
       "      <td>No internet service</td>\n",
       "      <td>No internet service</td>\n",
       "      <td>Two year</td>\n",
       "      <td>No</td>\n",
       "      <td>Credit card (automatic)</td>\n",
       "      <td>0</td>\n",
       "    </tr>\n",
       "    <tr>\n",
       "      <th>2</th>\n",
       "      <td>1</td>\n",
       "      <td>75.90</td>\n",
       "      <td>75.9</td>\n",
       "      <td>Male</td>\n",
       "      <td>0</td>\n",
       "      <td>No</td>\n",
       "      <td>No</td>\n",
       "      <td>Yes</td>\n",
       "      <td>No</td>\n",
       "      <td>Fiber optic</td>\n",
       "      <td>No</td>\n",
       "      <td>No</td>\n",
       "      <td>No</td>\n",
       "      <td>Yes</td>\n",
       "      <td>No</td>\n",
       "      <td>No</td>\n",
       "      <td>Month-to-month</td>\n",
       "      <td>Yes</td>\n",
       "      <td>Electronic check</td>\n",
       "      <td>1</td>\n",
       "    </tr>\n",
       "    <tr>\n",
       "      <th>3</th>\n",
       "      <td>32</td>\n",
       "      <td>79.30</td>\n",
       "      <td>2570</td>\n",
       "      <td>Female</td>\n",
       "      <td>1</td>\n",
       "      <td>Yes</td>\n",
       "      <td>No</td>\n",
       "      <td>Yes</td>\n",
       "      <td>Yes</td>\n",
       "      <td>Fiber optic</td>\n",
       "      <td>No</td>\n",
       "      <td>No</td>\n",
       "      <td>Yes</td>\n",
       "      <td>No</td>\n",
       "      <td>No</td>\n",
       "      <td>No</td>\n",
       "      <td>Month-to-month</td>\n",
       "      <td>No</td>\n",
       "      <td>Mailed check</td>\n",
       "      <td>0</td>\n",
       "    </tr>\n",
       "    <tr>\n",
       "      <th>4</th>\n",
       "      <td>60</td>\n",
       "      <td>115.25</td>\n",
       "      <td>6758.45</td>\n",
       "      <td>Female</td>\n",
       "      <td>0</td>\n",
       "      <td>Yes</td>\n",
       "      <td>Yes</td>\n",
       "      <td>Yes</td>\n",
       "      <td>Yes</td>\n",
       "      <td>Fiber optic</td>\n",
       "      <td>Yes</td>\n",
       "      <td>Yes</td>\n",
       "      <td>Yes</td>\n",
       "      <td>Yes</td>\n",
       "      <td>Yes</td>\n",
       "      <td>Yes</td>\n",
       "      <td>Two year</td>\n",
       "      <td>No</td>\n",
       "      <td>Credit card (automatic)</td>\n",
       "      <td>0</td>\n",
       "    </tr>\n",
       "    <tr>\n",
       "      <th>5</th>\n",
       "      <td>25</td>\n",
       "      <td>19.80</td>\n",
       "      <td>475.2</td>\n",
       "      <td>Female</td>\n",
       "      <td>0</td>\n",
       "      <td>No</td>\n",
       "      <td>No</td>\n",
       "      <td>Yes</td>\n",
       "      <td>No</td>\n",
       "      <td>No</td>\n",
       "      <td>No internet service</td>\n",
       "      <td>No internet service</td>\n",
       "      <td>No internet service</td>\n",
       "      <td>No internet service</td>\n",
       "      <td>No internet service</td>\n",
       "      <td>No internet service</td>\n",
       "      <td>Two year</td>\n",
       "      <td>No</td>\n",
       "      <td>Credit card (automatic)</td>\n",
       "      <td>0</td>\n",
       "    </tr>\n",
       "    <tr>\n",
       "      <th>6</th>\n",
       "      <td>27</td>\n",
       "      <td>90.15</td>\n",
       "      <td>2423.4</td>\n",
       "      <td>Female</td>\n",
       "      <td>0</td>\n",
       "      <td>Yes</td>\n",
       "      <td>No</td>\n",
       "      <td>Yes</td>\n",
       "      <td>Yes</td>\n",
       "      <td>Fiber optic</td>\n",
       "      <td>No</td>\n",
       "      <td>No</td>\n",
       "      <td>Yes</td>\n",
       "      <td>No</td>\n",
       "      <td>No</td>\n",
       "      <td>Yes</td>\n",
       "      <td>Month-to-month</td>\n",
       "      <td>No</td>\n",
       "      <td>Bank transfer (automatic)</td>\n",
       "      <td>0</td>\n",
       "    </tr>\n",
       "    <tr>\n",
       "      <th>7</th>\n",
       "      <td>1</td>\n",
       "      <td>45.70</td>\n",
       "      <td>45.7</td>\n",
       "      <td>Male</td>\n",
       "      <td>0</td>\n",
       "      <td>No</td>\n",
       "      <td>No</td>\n",
       "      <td>Yes</td>\n",
       "      <td>No</td>\n",
       "      <td>DSL</td>\n",
       "      <td>No</td>\n",
       "      <td>No</td>\n",
       "      <td>No</td>\n",
       "      <td>No</td>\n",
       "      <td>No</td>\n",
       "      <td>No</td>\n",
       "      <td>Month-to-month</td>\n",
       "      <td>Yes</td>\n",
       "      <td>Mailed check</td>\n",
       "      <td>1</td>\n",
       "    </tr>\n",
       "    <tr>\n",
       "      <th>8</th>\n",
       "      <td>50</td>\n",
       "      <td>105.95</td>\n",
       "      <td>5341.8</td>\n",
       "      <td>Male</td>\n",
       "      <td>0</td>\n",
       "      <td>Yes</td>\n",
       "      <td>Yes</td>\n",
       "      <td>Yes</td>\n",
       "      <td>Yes</td>\n",
       "      <td>Fiber optic</td>\n",
       "      <td>Yes</td>\n",
       "      <td>No</td>\n",
       "      <td>Yes</td>\n",
       "      <td>No</td>\n",
       "      <td>Yes</td>\n",
       "      <td>Yes</td>\n",
       "      <td>Month-to-month</td>\n",
       "      <td>No</td>\n",
       "      <td>Credit card (automatic)</td>\n",
       "      <td>1</td>\n",
       "    </tr>\n",
       "    <tr>\n",
       "      <th>9</th>\n",
       "      <td>72</td>\n",
       "      <td>61.20</td>\n",
       "      <td>4390.25</td>\n",
       "      <td>Male</td>\n",
       "      <td>0</td>\n",
       "      <td>No</td>\n",
       "      <td>No</td>\n",
       "      <td>No</td>\n",
       "      <td>No phone service</td>\n",
       "      <td>DSL</td>\n",
       "      <td>Yes</td>\n",
       "      <td>No</td>\n",
       "      <td>Yes</td>\n",
       "      <td>Yes</td>\n",
       "      <td>Yes</td>\n",
       "      <td>Yes</td>\n",
       "      <td>Two year</td>\n",
       "      <td>Yes</td>\n",
       "      <td>Credit card (automatic)</td>\n",
       "      <td>0</td>\n",
       "    </tr>\n",
       "  </tbody>\n",
       "</table>\n",
       "</div>"
      ],
      "text/plain": [
       "   ClientPeriod  MonthlySpending TotalSpent     Sex  IsSeniorCitizen  \\\n",
       "0            55            19.50    1026.35    Male                0   \n",
       "1            72            25.85     1872.2    Male                0   \n",
       "2             1            75.90       75.9    Male                0   \n",
       "3            32            79.30       2570  Female                1   \n",
       "4            60           115.25    6758.45  Female                0   \n",
       "5            25            19.80      475.2  Female                0   \n",
       "6            27            90.15     2423.4  Female                0   \n",
       "7             1            45.70       45.7    Male                0   \n",
       "8            50           105.95     5341.8    Male                0   \n",
       "9            72            61.20    4390.25    Male                0   \n",
       "\n",
       "  HasPartner HasChild HasPhoneService HasMultiplePhoneNumbers  \\\n",
       "0        Yes      Yes             Yes                      No   \n",
       "1        Yes       No             Yes                     Yes   \n",
       "2         No       No             Yes                      No   \n",
       "3        Yes       No             Yes                     Yes   \n",
       "4        Yes      Yes             Yes                     Yes   \n",
       "5         No       No             Yes                      No   \n",
       "6        Yes       No             Yes                     Yes   \n",
       "7         No       No             Yes                      No   \n",
       "8        Yes      Yes             Yes                     Yes   \n",
       "9         No       No              No        No phone service   \n",
       "\n",
       "  HasInternetService HasOnlineSecurityService      HasOnlineBackup  \\\n",
       "0                 No      No internet service  No internet service   \n",
       "1                 No      No internet service  No internet service   \n",
       "2        Fiber optic                       No                   No   \n",
       "3        Fiber optic                       No                   No   \n",
       "4        Fiber optic                      Yes                  Yes   \n",
       "5                 No      No internet service  No internet service   \n",
       "6        Fiber optic                       No                   No   \n",
       "7                DSL                       No                   No   \n",
       "8        Fiber optic                      Yes                   No   \n",
       "9                DSL                      Yes                   No   \n",
       "\n",
       "   HasDeviceProtection HasTechSupportAccess          HasOnlineTV  \\\n",
       "0  No internet service  No internet service  No internet service   \n",
       "1  No internet service  No internet service  No internet service   \n",
       "2                   No                  Yes                   No   \n",
       "3                  Yes                   No                   No   \n",
       "4                  Yes                  Yes                  Yes   \n",
       "5  No internet service  No internet service  No internet service   \n",
       "6                  Yes                   No                   No   \n",
       "7                   No                   No                   No   \n",
       "8                  Yes                   No                  Yes   \n",
       "9                  Yes                  Yes                  Yes   \n",
       "\n",
       "  HasMovieSubscription HasContractPhone IsBillingPaperless  \\\n",
       "0  No internet service         One year                 No   \n",
       "1  No internet service         Two year                 No   \n",
       "2                   No   Month-to-month                Yes   \n",
       "3                   No   Month-to-month                 No   \n",
       "4                  Yes         Two year                 No   \n",
       "5  No internet service         Two year                 No   \n",
       "6                  Yes   Month-to-month                 No   \n",
       "7                   No   Month-to-month                Yes   \n",
       "8                  Yes   Month-to-month                 No   \n",
       "9                  Yes         Two year                Yes   \n",
       "\n",
       "               PaymentMethod  Churn  \n",
       "0               Mailed check      0  \n",
       "1    Credit card (automatic)      0  \n",
       "2           Electronic check      1  \n",
       "3               Mailed check      0  \n",
       "4    Credit card (automatic)      0  \n",
       "5    Credit card (automatic)      0  \n",
       "6  Bank transfer (automatic)      0  \n",
       "7               Mailed check      1  \n",
       "8    Credit card (automatic)      1  \n",
       "9    Credit card (automatic)      0  "
      ]
     },
     "execution_count": 5,
     "metadata": {},
     "output_type": "execute_result"
    }
   ],
   "source": [
    "# YOUR CODE\n",
    "data.head(10)"
   ]
  },
  {
   "cell_type": "code",
   "execution_count": 6,
   "metadata": {
    "colab": {
     "base_uri": "https://localhost:8080/"
    },
    "id": "Q74RSAWVARoE",
    "outputId": "b3815111-cb94-4689-8644-dca7a2630050",
    "scrolled": true
   },
   "outputs": [
    {
     "name": "stdout",
     "output_type": "stream",
     "text": [
      "<class 'pandas.core.frame.DataFrame'>\n",
      "RangeIndex: 5282 entries, 0 to 5281\n",
      "Data columns (total 20 columns):\n",
      " #   Column                    Non-Null Count  Dtype  \n",
      "---  ------                    --------------  -----  \n",
      " 0   ClientPeriod              5282 non-null   int64  \n",
      " 1   MonthlySpending           5282 non-null   float64\n",
      " 2   TotalSpent                5282 non-null   object \n",
      " 3   Sex                       5282 non-null   object \n",
      " 4   IsSeniorCitizen           5282 non-null   int64  \n",
      " 5   HasPartner                5282 non-null   object \n",
      " 6   HasChild                  5282 non-null   object \n",
      " 7   HasPhoneService           5282 non-null   object \n",
      " 8   HasMultiplePhoneNumbers   5282 non-null   object \n",
      " 9   HasInternetService        5282 non-null   object \n",
      " 10  HasOnlineSecurityService  5282 non-null   object \n",
      " 11  HasOnlineBackup           5282 non-null   object \n",
      " 12  HasDeviceProtection       5282 non-null   object \n",
      " 13  HasTechSupportAccess      5282 non-null   object \n",
      " 14  HasOnlineTV               5282 non-null   object \n",
      " 15  HasMovieSubscription      5282 non-null   object \n",
      " 16  HasContractPhone          5282 non-null   object \n",
      " 17  IsBillingPaperless        5282 non-null   object \n",
      " 18  PaymentMethod             5282 non-null   object \n",
      " 19  Churn                     5282 non-null   int64  \n",
      "dtypes: float64(1), int64(3), object(16)\n",
      "memory usage: 825.4+ KB\n"
     ]
    }
   ],
   "source": [
    "data.info()"
   ]
  },
  {
   "cell_type": "code",
   "execution_count": 16,
   "metadata": {},
   "outputs": [
    {
     "data": {
      "text/plain": [
       "ClientPeriod                                  0\n",
       "MonthlySpending                           25.75\n",
       "TotalSpent                                  0.0\n",
       "Sex                                        Male\n",
       "IsSeniorCitizen                               0\n",
       "HasPartner                                  Yes\n",
       "HasChild                                    Yes\n",
       "HasPhoneService                             Yes\n",
       "HasMultiplePhoneNumbers                     Yes\n",
       "HasInternetService                           No\n",
       "HasOnlineSecurityService    No internet service\n",
       "HasOnlineBackup             No internet service\n",
       "HasDeviceProtection         No internet service\n",
       "HasTechSupportAccess        No internet service\n",
       "HasOnlineTV                 No internet service\n",
       "HasMovieSubscription        No internet service\n",
       "HasContractPhone                       Two year\n",
       "IsBillingPaperless                           No\n",
       "PaymentMethod                      Mailed check\n",
       "Churn                                         0\n",
       "Name: 1048, dtype: object"
      ]
     },
     "execution_count": 16,
     "metadata": {},
     "output_type": "execute_result"
    }
   ],
   "source": [
    "data.iloc[1048]"
   ]
  },
  {
   "cell_type": "code",
   "execution_count": 7,
   "metadata": {
    "colab": {
     "base_uri": "https://localhost:8080/"
    },
    "id": "LsErv2-7AnQL",
    "outputId": "f3c01fd5-afde-4d78-c33b-b53c38663d0b"
   },
   "outputs": [
    {
     "data": {
      "text/plain": [
       "ClientPeriod                5282\n",
       "MonthlySpending             5282\n",
       "TotalSpent                  5282\n",
       "Sex                         5282\n",
       "IsSeniorCitizen             5282\n",
       "HasPartner                  5282\n",
       "HasChild                    5282\n",
       "HasPhoneService             5282\n",
       "HasMultiplePhoneNumbers     5282\n",
       "HasInternetService          5282\n",
       "HasOnlineSecurityService    5282\n",
       "HasOnlineBackup             5282\n",
       "HasDeviceProtection         5282\n",
       "HasTechSupportAccess        5282\n",
       "HasOnlineTV                 5282\n",
       "HasMovieSubscription        5282\n",
       "HasContractPhone            5282\n",
       "IsBillingPaperless          5282\n",
       "PaymentMethod               5282\n",
       "Churn                       5282\n",
       "dtype: int64"
      ]
     },
     "execution_count": 7,
     "metadata": {},
     "output_type": "execute_result"
    }
   ],
   "source": [
    "data.isna().count()\n"
   ]
  },
  {
   "cell_type": "code",
   "execution_count": 8,
   "metadata": {
    "id": "8nTQd5BNBJu1"
   },
   "outputs": [],
   "source": [
    "n,m=data.shape"
   ]
  },
  {
   "cell_type": "code",
   "execution_count": 11,
   "metadata": {
    "id": "t051S1hYBRA8"
   },
   "outputs": [],
   "source": [
    "check = pd.read_csv('test.csv')"
   ]
  },
  {
   "cell_type": "code",
   "execution_count": 12,
   "metadata": {
    "colab": {
     "base_uri": "https://localhost:8080/",
     "height": 307
    },
    "id": "zNF_N1-NCJcJ",
    "outputId": "5a21f1eb-4cdd-4805-c575-59ad21bc6ff1"
   },
   "outputs": [
    {
     "data": {
      "text/html": [
       "<div>\n",
       "<style scoped>\n",
       "    .dataframe tbody tr th:only-of-type {\n",
       "        vertical-align: middle;\n",
       "    }\n",
       "\n",
       "    .dataframe tbody tr th {\n",
       "        vertical-align: top;\n",
       "    }\n",
       "\n",
       "    .dataframe thead th {\n",
       "        text-align: right;\n",
       "    }\n",
       "</style>\n",
       "<table border=\"1\" class=\"dataframe\">\n",
       "  <thead>\n",
       "    <tr style=\"text-align: right;\">\n",
       "      <th></th>\n",
       "      <th>ClientPeriod</th>\n",
       "      <th>MonthlySpending</th>\n",
       "      <th>TotalSpent</th>\n",
       "      <th>Sex</th>\n",
       "      <th>IsSeniorCitizen</th>\n",
       "      <th>HasPartner</th>\n",
       "      <th>HasChild</th>\n",
       "      <th>HasPhoneService</th>\n",
       "      <th>HasMultiplePhoneNumbers</th>\n",
       "      <th>HasInternetService</th>\n",
       "      <th>HasOnlineSecurityService</th>\n",
       "      <th>HasOnlineBackup</th>\n",
       "      <th>HasDeviceProtection</th>\n",
       "      <th>HasTechSupportAccess</th>\n",
       "      <th>HasOnlineTV</th>\n",
       "      <th>HasMovieSubscription</th>\n",
       "      <th>HasContractPhone</th>\n",
       "      <th>IsBillingPaperless</th>\n",
       "      <th>PaymentMethod</th>\n",
       "    </tr>\n",
       "  </thead>\n",
       "  <tbody>\n",
       "    <tr>\n",
       "      <th>0</th>\n",
       "      <td>42</td>\n",
       "      <td>56.10</td>\n",
       "      <td>2386.85</td>\n",
       "      <td>Male</td>\n",
       "      <td>0</td>\n",
       "      <td>Yes</td>\n",
       "      <td>No</td>\n",
       "      <td>Yes</td>\n",
       "      <td>Yes</td>\n",
       "      <td>DSL</td>\n",
       "      <td>Yes</td>\n",
       "      <td>No</td>\n",
       "      <td>No</td>\n",
       "      <td>No</td>\n",
       "      <td>No</td>\n",
       "      <td>No</td>\n",
       "      <td>One year</td>\n",
       "      <td>No</td>\n",
       "      <td>Credit card (automatic)</td>\n",
       "    </tr>\n",
       "    <tr>\n",
       "      <th>1</th>\n",
       "      <td>29</td>\n",
       "      <td>98.50</td>\n",
       "      <td>3004.15</td>\n",
       "      <td>Male</td>\n",
       "      <td>1</td>\n",
       "      <td>Yes</td>\n",
       "      <td>No</td>\n",
       "      <td>Yes</td>\n",
       "      <td>Yes</td>\n",
       "      <td>Fiber optic</td>\n",
       "      <td>No</td>\n",
       "      <td>No</td>\n",
       "      <td>Yes</td>\n",
       "      <td>No</td>\n",
       "      <td>Yes</td>\n",
       "      <td>Yes</td>\n",
       "      <td>Month-to-month</td>\n",
       "      <td>Yes</td>\n",
       "      <td>Electronic check</td>\n",
       "    </tr>\n",
       "    <tr>\n",
       "      <th>2</th>\n",
       "      <td>9</td>\n",
       "      <td>76.25</td>\n",
       "      <td>684.85</td>\n",
       "      <td>Male</td>\n",
       "      <td>0</td>\n",
       "      <td>No</td>\n",
       "      <td>No</td>\n",
       "      <td>Yes</td>\n",
       "      <td>Yes</td>\n",
       "      <td>Fiber optic</td>\n",
       "      <td>No</td>\n",
       "      <td>No</td>\n",
       "      <td>No</td>\n",
       "      <td>No</td>\n",
       "      <td>No</td>\n",
       "      <td>No</td>\n",
       "      <td>Month-to-month</td>\n",
       "      <td>Yes</td>\n",
       "      <td>Electronic check</td>\n",
       "    </tr>\n",
       "    <tr>\n",
       "      <th>3</th>\n",
       "      <td>67</td>\n",
       "      <td>74.00</td>\n",
       "      <td>4868.4</td>\n",
       "      <td>Female</td>\n",
       "      <td>0</td>\n",
       "      <td>Yes</td>\n",
       "      <td>Yes</td>\n",
       "      <td>Yes</td>\n",
       "      <td>Yes</td>\n",
       "      <td>DSL</td>\n",
       "      <td>Yes</td>\n",
       "      <td>Yes</td>\n",
       "      <td>No</td>\n",
       "      <td>Yes</td>\n",
       "      <td>Yes</td>\n",
       "      <td>No</td>\n",
       "      <td>Two year</td>\n",
       "      <td>No</td>\n",
       "      <td>Credit card (automatic)</td>\n",
       "    </tr>\n",
       "    <tr>\n",
       "      <th>4</th>\n",
       "      <td>71</td>\n",
       "      <td>20.10</td>\n",
       "      <td>1389.6</td>\n",
       "      <td>Female</td>\n",
       "      <td>0</td>\n",
       "      <td>Yes</td>\n",
       "      <td>Yes</td>\n",
       "      <td>Yes</td>\n",
       "      <td>No</td>\n",
       "      <td>No</td>\n",
       "      <td>No internet service</td>\n",
       "      <td>No internet service</td>\n",
       "      <td>No internet service</td>\n",
       "      <td>No internet service</td>\n",
       "      <td>No internet service</td>\n",
       "      <td>No internet service</td>\n",
       "      <td>Two year</td>\n",
       "      <td>No</td>\n",
       "      <td>Bank transfer (automatic)</td>\n",
       "    </tr>\n",
       "  </tbody>\n",
       "</table>\n",
       "</div>"
      ],
      "text/plain": [
       "   ClientPeriod  MonthlySpending TotalSpent     Sex  IsSeniorCitizen  \\\n",
       "0            42            56.10    2386.85    Male                0   \n",
       "1            29            98.50    3004.15    Male                1   \n",
       "2             9            76.25     684.85    Male                0   \n",
       "3            67            74.00     4868.4  Female                0   \n",
       "4            71            20.10     1389.6  Female                0   \n",
       "\n",
       "  HasPartner HasChild HasPhoneService HasMultiplePhoneNumbers  \\\n",
       "0        Yes       No             Yes                     Yes   \n",
       "1        Yes       No             Yes                     Yes   \n",
       "2         No       No             Yes                     Yes   \n",
       "3        Yes      Yes             Yes                     Yes   \n",
       "4        Yes      Yes             Yes                      No   \n",
       "\n",
       "  HasInternetService HasOnlineSecurityService      HasOnlineBackup  \\\n",
       "0                DSL                      Yes                   No   \n",
       "1        Fiber optic                       No                   No   \n",
       "2        Fiber optic                       No                   No   \n",
       "3                DSL                      Yes                  Yes   \n",
       "4                 No      No internet service  No internet service   \n",
       "\n",
       "   HasDeviceProtection HasTechSupportAccess          HasOnlineTV  \\\n",
       "0                   No                   No                   No   \n",
       "1                  Yes                   No                  Yes   \n",
       "2                   No                   No                   No   \n",
       "3                   No                  Yes                  Yes   \n",
       "4  No internet service  No internet service  No internet service   \n",
       "\n",
       "  HasMovieSubscription HasContractPhone IsBillingPaperless  \\\n",
       "0                   No         One year                 No   \n",
       "1                  Yes   Month-to-month                Yes   \n",
       "2                   No   Month-to-month                Yes   \n",
       "3                   No         Two year                 No   \n",
       "4  No internet service         Two year                 No   \n",
       "\n",
       "               PaymentMethod  \n",
       "0    Credit card (automatic)  \n",
       "1           Electronic check  \n",
       "2           Electronic check  \n",
       "3    Credit card (automatic)  \n",
       "4  Bank transfer (automatic)  "
      ]
     },
     "execution_count": 12,
     "metadata": {},
     "output_type": "execute_result"
    }
   ],
   "source": [
    "check.head()"
   ]
  },
  {
   "cell_type": "code",
   "execution_count": 13,
   "metadata": {
    "colab": {
     "base_uri": "https://localhost:8080/"
    },
    "id": "gbEkZ8ZDCSTt",
    "outputId": "6c933c3b-506c-4983-fd5e-a2204d55b2e0"
   },
   "outputs": [
    {
     "name": "stdout",
     "output_type": "stream",
     "text": [
      "<class 'pandas.core.frame.DataFrame'>\n",
      "RangeIndex: 1761 entries, 0 to 1760\n",
      "Data columns (total 19 columns):\n",
      " #   Column                    Non-Null Count  Dtype  \n",
      "---  ------                    --------------  -----  \n",
      " 0   ClientPeriod              1761 non-null   int64  \n",
      " 1   MonthlySpending           1761 non-null   float64\n",
      " 2   TotalSpent                1761 non-null   object \n",
      " 3   Sex                       1761 non-null   object \n",
      " 4   IsSeniorCitizen           1761 non-null   int64  \n",
      " 5   HasPartner                1761 non-null   object \n",
      " 6   HasChild                  1761 non-null   object \n",
      " 7   HasPhoneService           1761 non-null   object \n",
      " 8   HasMultiplePhoneNumbers   1761 non-null   object \n",
      " 9   HasInternetService        1761 non-null   object \n",
      " 10  HasOnlineSecurityService  1761 non-null   object \n",
      " 11  HasOnlineBackup           1761 non-null   object \n",
      " 12  HasDeviceProtection       1761 non-null   object \n",
      " 13  HasTechSupportAccess      1761 non-null   object \n",
      " 14  HasOnlineTV               1761 non-null   object \n",
      " 15  HasMovieSubscription      1761 non-null   object \n",
      " 16  HasContractPhone          1761 non-null   object \n",
      " 17  IsBillingPaperless        1761 non-null   object \n",
      " 18  PaymentMethod             1761 non-null   object \n",
      "dtypes: float64(1), int64(2), object(16)\n",
      "memory usage: 261.5+ KB\n"
     ]
    }
   ],
   "source": [
    "check.info()"
   ]
  },
  {
   "cell_type": "code",
   "execution_count": 14,
   "metadata": {
    "id": "57FArey_dVs9"
   },
   "outputs": [],
   "source": [
    "for i in range(5282):\n",
    "  if (data.iloc[i,2]==' '):\n",
    "    data.iloc[i,2]=0"
   ]
  },
  {
   "cell_type": "code",
   "execution_count": 15,
   "metadata": {
    "colab": {
     "base_uri": "https://localhost:8080/"
    },
    "id": "3-CTsdFhfIDF",
    "outputId": "cb41e5c9-9d7d-472b-ff5c-9e730bdc348f"
   },
   "outputs": [
    {
     "name": "stdout",
     "output_type": "stream",
     "text": [
      "<class 'pandas.core.frame.DataFrame'>\n",
      "RangeIndex: 5282 entries, 0 to 5281\n",
      "Data columns (total 20 columns):\n",
      " #   Column                    Non-Null Count  Dtype  \n",
      "---  ------                    --------------  -----  \n",
      " 0   ClientPeriod              5282 non-null   int64  \n",
      " 1   MonthlySpending           5282 non-null   float64\n",
      " 2   TotalSpent                5282 non-null   float64\n",
      " 3   Sex                       5282 non-null   object \n",
      " 4   IsSeniorCitizen           5282 non-null   int64  \n",
      " 5   HasPartner                5282 non-null   object \n",
      " 6   HasChild                  5282 non-null   object \n",
      " 7   HasPhoneService           5282 non-null   object \n",
      " 8   HasMultiplePhoneNumbers   5282 non-null   object \n",
      " 9   HasInternetService        5282 non-null   object \n",
      " 10  HasOnlineSecurityService  5282 non-null   object \n",
      " 11  HasOnlineBackup           5282 non-null   object \n",
      " 12  HasDeviceProtection       5282 non-null   object \n",
      " 13  HasTechSupportAccess      5282 non-null   object \n",
      " 14  HasOnlineTV               5282 non-null   object \n",
      " 15  HasMovieSubscription      5282 non-null   object \n",
      " 16  HasContractPhone          5282 non-null   object \n",
      " 17  IsBillingPaperless        5282 non-null   object \n",
      " 18  PaymentMethod             5282 non-null   object \n",
      " 19  Churn                     5282 non-null   int64  \n",
      "dtypes: float64(2), int64(3), object(15)\n",
      "memory usage: 825.4+ KB\n"
     ]
    }
   ],
   "source": [
    "data['TotalSpent'] = data['TotalSpent'].apply(pd.to_numeric, downcast='float', errors='coerce')\n",
    "data.info()"
   ]
  },
  {
   "cell_type": "markdown",
   "metadata": {
    "id": "dK370bPCEEZD"
   },
   "source": [
    "## Анализ данных (3 балла)\n",
    "\n",
    "1) Для численных призанков постройте гистограмму (*plt.hist(...)*) или boxplot (*plt.boxplot(...)*). Для категориальных посчитайте количество каждого значения для каждого признака. Для каждой колонки надо сделать *data.value_counts()* и построить bar диаграммы *plt.bar(...)* или круговые диаграммы *plt.pie(...)* (хорошо, елси вы сможете это сделать на одном гарфике с помощью *plt.subplots(...)*). \n",
    "\n",
    "2) Посмотрите на распределение целевой переменной и скажите, являются ли классы несбалансированными.\n",
    "\n",
    "3) (Если будет желание) Поиграйте с разными библиотеками для визуализации - *sns*, *pandas_visual_analysis*, etc.\n",
    "\n",
    "Второй пункт очень важен, потому что существуют задачи классификации с несбалансированными классами. Например, это может значить, что в датасете намного больше примеров 0 класса. В таких случаях нужно 1) не использовать accuracy как метрику 2) использовать методы борьбы с imbalanced dataset (обычно если датасет сильно несбалансирован, т.е. класса 1 в 20 раз меньше класса 0)."
   ]
  },
  {
   "cell_type": "code",
   "execution_count": 64,
   "metadata": {
    "colab": {
     "base_uri": "https://localhost:8080/",
     "height": 332
    },
    "id": "NZkbgFJZEEZE",
    "outputId": "89aa4cd6-9447-42aa-91b9-31472b3870e8"
   },
   "outputs": [
    {
     "data": {
      "text/plain": [
       "(array([1205.,  565.,  425.,  423.,  388.,  362.,  340.,  364.,  377.,\n",
       "         833.]),\n",
       " array([ 0. ,  7.2, 14.4, 21.6, 28.8, 36. , 43.2, 50.4, 57.6, 64.8, 72. ]),\n",
       " <a list of 10 Patch objects>)"
      ]
     },
     "execution_count": 64,
     "metadata": {},
     "output_type": "execute_result"
    },
    {
     "data": {
      "image/png": "[encoded data removed]",
      "text/plain": [
       "<Figure size 432x288 with 1 Axes>"
      ]
     },
     "metadata": {
      "needs_background": "light"
     },
     "output_type": "display_data"
    }
   ],
   "source": [
    "# YOUR CODE\n",
    "plt.hist(data[::][num_cols[0]],bins=10)"
   ]
  },
  {
   "cell_type": "code",
   "execution_count": 65,
   "metadata": {
    "colab": {
     "base_uri": "https://localhost:8080/",
     "height": 366
    },
    "id": "HOBZsL_pFrPx",
    "outputId": "62ba231d-5d50-4b28-8ca7-641a02a16c50"
   },
   "outputs": [
    {
     "data": {
      "text/plain": [
       "(array([875., 332.,  64.,  78.,  79., 188., 236., 243., 179., 171., 328.,\n",
       "        335., 376., 337., 325., 334., 296., 277., 154.,  75.]),\n",
       " array([ 18.25 ,  23.275,  28.3  ,  33.325,  38.35 ,  43.375,  48.4  ,\n",
       "         53.425,  58.45 ,  63.475,  68.5  ,  73.525,  78.55 ,  83.575,\n",
       "         88.6  ,  93.625,  98.65 , 103.675, 108.7  , 113.725, 118.75 ]),\n",
       " <a list of 20 Patch objects>)"
      ]
     },
     "execution_count": 65,
     "metadata": {},
     "output_type": "execute_result"
    },
    {
     "data": {
      "image/png": "[encoded data removed]",
      "text/plain": [
       "<Figure size 432x288 with 1 Axes>"
      ]
     },
     "metadata": {
      "needs_background": "light"
     },
     "output_type": "display_data"
    }
   ],
   "source": [
    "plt.hist(data[::][num_cols[1]],bins=20)"
   ]
  },
  {
   "cell_type": "code",
   "execution_count": 73,
   "metadata": {
    "colab": {
     "base_uri": "https://localhost:8080/",
     "height": 366
    },
    "id": "Wah-wzE3FwDE",
    "outputId": "2de7181f-4159-4868-d3ea-b3765b302864"
   },
   "outputs": [
    {
     "data": {
      "text/plain": [
       "(array([2030.,  900.,  513.,  389.,  347.,  311.,  304.,  223.,  173.,\n",
       "          92.]),\n",
       " array([   0.        ,  868.47998047, 1736.95996094, 2605.43994141,\n",
       "        3473.91992188, 4342.39990234, 5210.87988281, 6079.35986328,\n",
       "        6947.83984375, 7816.31982422, 8684.79980469]),\n",
       " <a list of 10 Patch objects>)"
      ]
     },
     "execution_count": 73,
     "metadata": {},
     "output_type": "execute_result"
    },
    {
     "data": {
      "image/png": "[encoded data removed]",
      "text/plain": [
       "<Figure size 432x288 with 1 Axes>"
      ]
     },
     "metadata": {
      "needs_background": "light"
     },
     "output_type": "display_data"
    }
   ],
   "source": [
    "plt.hist(data[::][num_cols[2]])"
   ]
  },
  {
   "cell_type": "code",
   "execution_count": 21,
   "metadata": {
    "colab": {
     "base_uri": "https://localhost:8080/",
     "height": 1000
    },
    "id": "uRVsXXeLJWqM",
    "outputId": "c36bfae9-487b-4e63-e34e-80ae208611cc"
   },
   "outputs": [
    {
     "data": {
      "image/png": "[encoded data removed]",
      "text/plain": [
       "<Figure size 432x288 with 1 Axes>"
      ]
     },
     "metadata": {
      "needs_background": "light"
     },
     "output_type": "display_data"
    },
    {
     "data": {
      "image/png": "[encoded data removed]",
      "text/plain": [
       "<Figure size 432x288 with 1 Axes>"
      ]
     },
     "metadata": {
      "needs_background": "light"
     },
     "output_type": "display_data"
    },
    {
     "data": {
      "image/png": "[encoded data removed]",
      "text/plain": [
       "<Figure size 432x288 with 1 Axes>"
      ]
     },
     "metadata": {
      "needs_background": "light"
     },
     "output_type": "display_data"
    },
    {
     "data": {
      "image/png": "[encoded data removed]",
      "text/plain": [
       "<Figure size 432x288 with 1 Axes>"
      ]
     },
     "metadata": {
      "needs_background": "light"
     },
     "output_type": "display_data"
    },
    {
     "data": {
      "image/png": "[encoded data removed]",
      "text/plain": [
       "<Figure size 432x288 with 1 Axes>"
      ]
     },
     "metadata": {
      "needs_background": "light"
     },
     "output_type": "display_data"
    },
    {
     "data": {
      "image/png": "[encoded data removed]",
      "text/plain": [
       "<Figure size 432x288 with 1 Axes>"
      ]
     },
     "metadata": {
      "needs_background": "light"
     },
     "output_type": "display_data"
    },
    {
     "data": {
      "image/png": "[encoded data removed]",
      "text/plain": [
       "<Figure size 432x288 with 1 Axes>"
      ]
     },
     "metadata": {
      "needs_background": "light"
     },
     "output_type": "display_data"
    },
    {
     "data": {
      "image/png": "[encoded data removed]",
      "text/plain": [
       "<Figure size 432x288 with 1 Axes>"
      ]
     },
     "metadata": {
      "needs_background": "light"
     },
     "output_type": "display_data"
    },
    {
     "data": {
      "image/png": "[encoded data removed]",
      "text/plain": [
       "<Figure size 432x288 with 1 Axes>"
      ]
     },
     "metadata": {
      "needs_background": "light"
     },
     "output_type": "display_data"
    },
    {
     "data": {
      "image/png": "[encoded data removed]",
      "text/plain": [
       "<Figure size 432x288 with 1 Axes>"
      ]
     },
     "metadata": {
      "needs_background": "light"
     },
     "output_type": "display_data"
    },
    {
     "data": {
      "image/png": "[encoded data removed]",
      "text/plain": [
       "<Figure size 432x288 with 1 Axes>"
      ]
     },
     "metadata": {
      "needs_background": "light"
     },
     "output_type": "display_data"
    },
    {
     "data": {
      "image/png": "[encoded data removed]",
      "text/plain": [
       "<Figure size 432x288 with 1 Axes>"
      ]
     },
     "metadata": {
      "needs_background": "light"
     },
     "output_type": "display_data"
    },
    {
     "data": {
      "image/png": "[encoded data removed]",
      "text/plain": [
       "<Figure size 432x288 with 1 Axes>"
      ]
     },
     "metadata": {
      "needs_background": "light"
     },
     "output_type": "display_data"
    },
    {
     "data": {
      "image/png": "[encoded data removed]",
      "text/plain": [
       "<Figure size 432x288 with 1 Axes>"
      ]
     },
     "metadata": {
      "needs_background": "light"
     },
     "output_type": "display_data"
    },
    {
     "data": {
      "image/png": "[encoded data removed]",
      "text/plain": [
       "<Figure size 432x288 with 1 Axes>"
      ]
     },
     "metadata": {
      "needs_background": "light"
     },
     "output_type": "display_data"
    },
    {
     "data": {
      "image/png": "[encoded data removed]",
      "text/plain": [
       "<Figure size 432x288 with 1 Axes>"
      ]
     },
     "metadata": {
      "needs_background": "light"
     },
     "output_type": "display_data"
    }
   ],
   "source": [
    "import pylab\n",
    "k=0\n",
    "for i in cat_cols:\n",
    "  k+=1\n",
    "  pylab.subplot (1,1, 1)\n",
    "  plt.bar(data[::][i].unique(), height=data[::][i].value_counts())\n",
    "  plt.title(i)\n",
    "  pylab.show()"
   ]
  },
  {
   "cell_type": "code",
   "execution_count": 22,
   "metadata": {
    "colab": {
     "base_uri": "https://localhost:8080/",
     "height": 281
    },
    "id": "gwQYRMqZQKJ7",
    "outputId": "5c6b7135-1d45-46a4-968b-362ea1cb120a"
   },
   "outputs": [
    {
     "data": {
      "image/png": "[encoded data removed]",
      "text/plain": [
       "<Figure size 432x288 with 1 Axes>"
      ]
     },
     "metadata": {
      "needs_background": "light"
     },
     "output_type": "display_data"
    }
   ],
   "source": [
    "plt.bar(data[::][target_col].unique(), height=data[::][target_col].value_counts())\n",
    "plt.title(target_col)\n",
    "pylab.show()"
   ]
  },
  {
   "cell_type": "markdown",
   "metadata": {
    "id": "zg60u3QDEEZH"
   },
   "source": [
    "(Дополнительно) Если вы нашли какие-то ошибки в данных или выбросы, то можете их убрать. Тут можно поэксперементировать с обработкой данных как угодно, но не за баллы."
   ]
  },
  {
   "cell_type": "code",
   "execution_count": null,
   "metadata": {
    "id": "fwfksF1gEEZI"
   },
   "outputs": [],
   "source": [
    "# YOUR CODE"
   ]
  },
  {
   "cell_type": "markdown",
   "metadata": {
    "id": "DviiJd8REEZK"
   },
   "source": [
    "## Применение линейных моделей (3 балла)\n",
    "\n",
    "1) Обработайте данные для того, чтобы к ним можно было применить LogisticRegression. Т.е. отнормируйте числовые признаки, а категориальные закодируйте с помощью one-hot-encoding'а. \n",
    "\n",
    "2) С помощью кроссвалидации или разделения на train/valid выборку протестируйте разные значения гиперпараметра C и выберите лучший (можно тестировать С=100, 10, 1, 0.1, 0.01, 0.001) по метрике ROC-AUC. \n",
    "\n",
    "Если вы разделяете на train/valid, то используйте LogisticRegressionCV. Он сам при вызове .fit() подберет параметр С. (не забудьте передать scroing='roc_auc', чтобы при кроссвалидации сравнивались значения этой метрики, и refit=True, чтобы при потом модель обучилась на всем датасете с лучшим параметром C). \n",
    "\n",
    "\n",
    "(более сложный вариант) Если вы будете использовать кроссвалидацию, то преобразования данных и LogisticRegression нужно соединить в один Pipeline с помощью make_pipeline, как это делалось во втором семинаре. Потом pipeline надо передать в GridSearchCV. Для one-hot-encoding'a можно испльзовать комбинацию LabelEncoder + OneHotEncoder (сначала превращаем строчки в числа, а потом числа првращаем в one-hot вектора.)"
   ]
  },
  {
   "cell_type": "code",
   "execution_count": 23,
   "metadata": {
    "id": "xHCLDmwqEEZL"
   },
   "outputs": [],
   "source": [
    "from sklearn.linear_model import LogisticRegression, LogisticRegressionCV\n",
    "from sklearn.model_selection import train_test_split, GridSearchCV\n",
    "from sklearn.preprocessing import StandardScaler, RobustScaler, LabelEncoder, OneHotEncoder\n",
    "from sklearn.pipeline import make_pipeline"
   ]
  },
  {
   "cell_type": "code",
   "execution_count": 24,
   "metadata": {
    "id": "P2Yv3uYtEEZO"
   },
   "outputs": [],
   "source": [
    "# YOUR CODE"
   ]
  },
  {
   "cell_type": "code",
   "execution_count": 25,
   "metadata": {
    "id": "b1nosp9RT5fz"
   },
   "outputs": [],
   "source": [
    "OHE = OneHotEncoder(categories='auto', handle_unknown='error')"
   ]
  },
  {
   "cell_type": "code",
   "execution_count": 26,
   "metadata": {
    "colab": {
     "base_uri": "https://localhost:8080/"
    },
    "id": "0M02Q4lyY863",
    "outputId": "caead4b0-f3fa-4f0f-dbfc-d388c6ce26f8"
   },
   "outputs": [
    {
     "data": {
      "text/plain": [
       "[array(['Male', 'Female'], dtype=object),\n",
       " array([0, 1]),\n",
       " array(['Yes', 'No'], dtype=object),\n",
       " array(['Yes', 'No'], dtype=object),\n",
       " array(['Yes', 'No'], dtype=object),\n",
       " array(['No', 'Yes', 'No phone service'], dtype=object),\n",
       " array(['No', 'Fiber optic', 'DSL'], dtype=object),\n",
       " array(['No internet service', 'No', 'Yes'], dtype=object),\n",
       " array(['No internet service', 'No', 'Yes'], dtype=object),\n",
       " array(['No internet service', 'No', 'Yes'], dtype=object),\n",
       " array(['No internet service', 'Yes', 'No'], dtype=object),\n",
       " array(['No internet service', 'No', 'Yes'], dtype=object),\n",
       " array(['No internet service', 'No', 'Yes'], dtype=object),\n",
       " array(['One year', 'Two year', 'Month-to-month'], dtype=object),\n",
       " array(['No', 'Yes'], dtype=object),\n",
       " array(['Mailed check', 'Credit card (automatic)', 'Electronic check',\n",
       "        'Bank transfer (automatic)'], dtype=object)]"
      ]
     },
     "execution_count": 26,
     "metadata": {},
     "output_type": "execute_result"
    }
   ],
   "source": [
    "w=[]\n",
    "for i in cat_cols:\n",
    "  w.append(data[::][i].unique())\n",
    "w"
   ]
  },
  {
   "cell_type": "markdown",
   "metadata": {
    "id": "uVahy6JKEEZQ"
   },
   "source": [
    "Выпишите какое лучшее качество и с какими параметрами вам удалось получить"
   ]
  },
  {
   "cell_type": "code",
   "execution_count": 27,
   "metadata": {
    "id": "28yFHydohGVj"
   },
   "outputs": [],
   "source": [
    "z=pd.get_dummies(data[::][cat_cols])\n",
    "nd=data[data.columns[[0,1,2]]]"
   ]
  },
  {
   "cell_type": "code",
   "execution_count": 28,
   "metadata": {
    "id": "GOrYi7_bhf8K"
   },
   "outputs": [],
   "source": [
    "y=pd.concat([nd,z],axis=1)"
   ]
  },
  {
   "cell_type": "code",
   "execution_count": 29,
   "metadata": {
    "colab": {
     "base_uri": "https://localhost:8080/",
     "height": 470
    },
    "id": "L392VSTzjzVN",
    "outputId": "f26dc882-ea9d-4db5-c382-ce1fbc2b0bae"
   },
   "outputs": [
    {
     "data": {
      "text/html": [
       "<div>\n",
       "<style scoped>\n",
       "    .dataframe tbody tr th:only-of-type {\n",
       "        vertical-align: middle;\n",
       "    }\n",
       "\n",
       "    .dataframe tbody tr th {\n",
       "        vertical-align: top;\n",
       "    }\n",
       "\n",
       "    .dataframe thead th {\n",
       "        text-align: right;\n",
       "    }\n",
       "</style>\n",
       "<table border=\"1\" class=\"dataframe\">\n",
       "  <thead>\n",
       "    <tr style=\"text-align: right;\">\n",
       "      <th></th>\n",
       "      <th>ClientPeriod</th>\n",
       "      <th>MonthlySpending</th>\n",
       "      <th>TotalSpent</th>\n",
       "      <th>IsSeniorCitizen</th>\n",
       "      <th>Sex_Female</th>\n",
       "      <th>Sex_Male</th>\n",
       "      <th>HasPartner_No</th>\n",
       "      <th>HasPartner_Yes</th>\n",
       "      <th>HasChild_No</th>\n",
       "      <th>HasChild_Yes</th>\n",
       "      <th>HasPhoneService_No</th>\n",
       "      <th>HasPhoneService_Yes</th>\n",
       "      <th>HasMultiplePhoneNumbers_No</th>\n",
       "      <th>HasMultiplePhoneNumbers_No phone service</th>\n",
       "      <th>HasMultiplePhoneNumbers_Yes</th>\n",
       "      <th>HasInternetService_DSL</th>\n",
       "      <th>HasInternetService_Fiber optic</th>\n",
       "      <th>HasInternetService_No</th>\n",
       "      <th>HasOnlineSecurityService_No</th>\n",
       "      <th>HasOnlineSecurityService_No internet service</th>\n",
       "      <th>HasOnlineSecurityService_Yes</th>\n",
       "      <th>HasOnlineBackup_No</th>\n",
       "      <th>HasOnlineBackup_No internet service</th>\n",
       "      <th>HasOnlineBackup_Yes</th>\n",
       "      <th>HasDeviceProtection_No</th>\n",
       "      <th>HasDeviceProtection_No internet service</th>\n",
       "      <th>HasDeviceProtection_Yes</th>\n",
       "      <th>HasTechSupportAccess_No</th>\n",
       "      <th>HasTechSupportAccess_No internet service</th>\n",
       "      <th>HasTechSupportAccess_Yes</th>\n",
       "      <th>HasOnlineTV_No</th>\n",
       "      <th>HasOnlineTV_No internet service</th>\n",
       "      <th>HasOnlineTV_Yes</th>\n",
       "      <th>HasMovieSubscription_No</th>\n",
       "      <th>HasMovieSubscription_No internet service</th>\n",
       "      <th>HasMovieSubscription_Yes</th>\n",
       "      <th>HasContractPhone_Month-to-month</th>\n",
       "      <th>HasContractPhone_One year</th>\n",
       "      <th>HasContractPhone_Two year</th>\n",
       "      <th>IsBillingPaperless_No</th>\n",
       "      <th>IsBillingPaperless_Yes</th>\n",
       "      <th>PaymentMethod_Bank transfer (automatic)</th>\n",
       "      <th>PaymentMethod_Credit card (automatic)</th>\n",
       "      <th>PaymentMethod_Electronic check</th>\n",
       "      <th>PaymentMethod_Mailed check</th>\n",
       "    </tr>\n",
       "  </thead>\n",
       "  <tbody>\n",
       "    <tr>\n",
       "      <th>0</th>\n",
       "      <td>55</td>\n",
       "      <td>19.50</td>\n",
       "      <td>1026.35</td>\n",
       "      <td>0</td>\n",
       "      <td>0</td>\n",
       "      <td>1</td>\n",
       "      <td>0</td>\n",
       "      <td>1</td>\n",
       "      <td>0</td>\n",
       "      <td>1</td>\n",
       "      <td>0</td>\n",
       "      <td>1</td>\n",
       "      <td>1</td>\n",
       "      <td>0</td>\n",
       "      <td>0</td>\n",
       "      <td>0</td>\n",
       "      <td>0</td>\n",
       "      <td>1</td>\n",
       "      <td>0</td>\n",
       "      <td>1</td>\n",
       "      <td>0</td>\n",
       "      <td>0</td>\n",
       "      <td>1</td>\n",
       "      <td>0</td>\n",
       "      <td>0</td>\n",
       "      <td>1</td>\n",
       "      <td>0</td>\n",
       "      <td>0</td>\n",
       "      <td>1</td>\n",
       "      <td>0</td>\n",
       "      <td>0</td>\n",
       "      <td>1</td>\n",
       "      <td>0</td>\n",
       "      <td>0</td>\n",
       "      <td>1</td>\n",
       "      <td>0</td>\n",
       "      <td>0</td>\n",
       "      <td>1</td>\n",
       "      <td>0</td>\n",
       "      <td>1</td>\n",
       "      <td>0</td>\n",
       "      <td>0</td>\n",
       "      <td>0</td>\n",
       "      <td>0</td>\n",
       "      <td>1</td>\n",
       "    </tr>\n",
       "    <tr>\n",
       "      <th>1</th>\n",
       "      <td>72</td>\n",
       "      <td>25.85</td>\n",
       "      <td>1872.2</td>\n",
       "      <td>0</td>\n",
       "      <td>0</td>\n",
       "      <td>1</td>\n",
       "      <td>0</td>\n",
       "      <td>1</td>\n",
       "      <td>1</td>\n",
       "      <td>0</td>\n",
       "      <td>0</td>\n",
       "      <td>1</td>\n",
       "      <td>0</td>\n",
       "      <td>0</td>\n",
       "      <td>1</td>\n",
       "      <td>0</td>\n",
       "      <td>0</td>\n",
       "      <td>1</td>\n",
       "      <td>0</td>\n",
       "      <td>1</td>\n",
       "      <td>0</td>\n",
       "      <td>0</td>\n",
       "      <td>1</td>\n",
       "      <td>0</td>\n",
       "      <td>0</td>\n",
       "      <td>1</td>\n",
       "      <td>0</td>\n",
       "      <td>0</td>\n",
       "      <td>1</td>\n",
       "      <td>0</td>\n",
       "      <td>0</td>\n",
       "      <td>1</td>\n",
       "      <td>0</td>\n",
       "      <td>0</td>\n",
       "      <td>1</td>\n",
       "      <td>0</td>\n",
       "      <td>0</td>\n",
       "      <td>0</td>\n",
       "      <td>1</td>\n",
       "      <td>1</td>\n",
       "      <td>0</td>\n",
       "      <td>0</td>\n",
       "      <td>1</td>\n",
       "      <td>0</td>\n",
       "      <td>0</td>\n",
       "    </tr>\n",
       "    <tr>\n",
       "      <th>2</th>\n",
       "      <td>1</td>\n",
       "      <td>75.90</td>\n",
       "      <td>75.9</td>\n",
       "      <td>0</td>\n",
       "      <td>0</td>\n",
       "      <td>1</td>\n",
       "      <td>1</td>\n",
       "      <td>0</td>\n",
       "      <td>1</td>\n",
       "      <td>0</td>\n",
       "      <td>0</td>\n",
       "      <td>1</td>\n",
       "      <td>1</td>\n",
       "      <td>0</td>\n",
       "      <td>0</td>\n",
       "      <td>0</td>\n",
       "      <td>1</td>\n",
       "      <td>0</td>\n",
       "      <td>1</td>\n",
       "      <td>0</td>\n",
       "      <td>0</td>\n",
       "      <td>1</td>\n",
       "      <td>0</td>\n",
       "      <td>0</td>\n",
       "      <td>1</td>\n",
       "      <td>0</td>\n",
       "      <td>0</td>\n",
       "      <td>0</td>\n",
       "      <td>0</td>\n",
       "      <td>1</td>\n",
       "      <td>1</td>\n",
       "      <td>0</td>\n",
       "      <td>0</td>\n",
       "      <td>1</td>\n",
       "      <td>0</td>\n",
       "      <td>0</td>\n",
       "      <td>1</td>\n",
       "      <td>0</td>\n",
       "      <td>0</td>\n",
       "      <td>0</td>\n",
       "      <td>1</td>\n",
       "      <td>0</td>\n",
       "      <td>0</td>\n",
       "      <td>1</td>\n",
       "      <td>0</td>\n",
       "    </tr>\n",
       "    <tr>\n",
       "      <th>3</th>\n",
       "      <td>32</td>\n",
       "      <td>79.30</td>\n",
       "      <td>2570</td>\n",
       "      <td>1</td>\n",
       "      <td>1</td>\n",
       "      <td>0</td>\n",
       "      <td>0</td>\n",
       "      <td>1</td>\n",
       "      <td>1</td>\n",
       "      <td>0</td>\n",
       "      <td>0</td>\n",
       "      <td>1</td>\n",
       "      <td>0</td>\n",
       "      <td>0</td>\n",
       "      <td>1</td>\n",
       "      <td>0</td>\n",
       "      <td>1</td>\n",
       "      <td>0</td>\n",
       "      <td>1</td>\n",
       "      <td>0</td>\n",
       "      <td>0</td>\n",
       "      <td>1</td>\n",
       "      <td>0</td>\n",
       "      <td>0</td>\n",
       "      <td>0</td>\n",
       "      <td>0</td>\n",
       "      <td>1</td>\n",
       "      <td>1</td>\n",
       "      <td>0</td>\n",
       "      <td>0</td>\n",
       "      <td>1</td>\n",
       "      <td>0</td>\n",
       "      <td>0</td>\n",
       "      <td>1</td>\n",
       "      <td>0</td>\n",
       "      <td>0</td>\n",
       "      <td>1</td>\n",
       "      <td>0</td>\n",
       "      <td>0</td>\n",
       "      <td>1</td>\n",
       "      <td>0</td>\n",
       "      <td>0</td>\n",
       "      <td>0</td>\n",
       "      <td>0</td>\n",
       "      <td>1</td>\n",
       "    </tr>\n",
       "    <tr>\n",
       "      <th>4</th>\n",
       "      <td>60</td>\n",
       "      <td>115.25</td>\n",
       "      <td>6758.45</td>\n",
       "      <td>0</td>\n",
       "      <td>1</td>\n",
       "      <td>0</td>\n",
       "      <td>0</td>\n",
       "      <td>1</td>\n",
       "      <td>0</td>\n",
       "      <td>1</td>\n",
       "      <td>0</td>\n",
       "      <td>1</td>\n",
       "      <td>0</td>\n",
       "      <td>0</td>\n",
       "      <td>1</td>\n",
       "      <td>0</td>\n",
       "      <td>1</td>\n",
       "      <td>0</td>\n",
       "      <td>0</td>\n",
       "      <td>0</td>\n",
       "      <td>1</td>\n",
       "      <td>0</td>\n",
       "      <td>0</td>\n",
       "      <td>1</td>\n",
       "      <td>0</td>\n",
       "      <td>0</td>\n",
       "      <td>1</td>\n",
       "      <td>0</td>\n",
       "      <td>0</td>\n",
       "      <td>1</td>\n",
       "      <td>0</td>\n",
       "      <td>0</td>\n",
       "      <td>1</td>\n",
       "      <td>0</td>\n",
       "      <td>0</td>\n",
       "      <td>1</td>\n",
       "      <td>0</td>\n",
       "      <td>0</td>\n",
       "      <td>1</td>\n",
       "      <td>1</td>\n",
       "      <td>0</td>\n",
       "      <td>0</td>\n",
       "      <td>1</td>\n",
       "      <td>0</td>\n",
       "      <td>0</td>\n",
       "    </tr>\n",
       "    <tr>\n",
       "      <th>...</th>\n",
       "      <td>...</td>\n",
       "      <td>...</td>\n",
       "      <td>...</td>\n",
       "      <td>...</td>\n",
       "      <td>...</td>\n",
       "      <td>...</td>\n",
       "      <td>...</td>\n",
       "      <td>...</td>\n",
       "      <td>...</td>\n",
       "      <td>...</td>\n",
       "      <td>...</td>\n",
       "      <td>...</td>\n",
       "      <td>...</td>\n",
       "      <td>...</td>\n",
       "      <td>...</td>\n",
       "      <td>...</td>\n",
       "      <td>...</td>\n",
       "      <td>...</td>\n",
       "      <td>...</td>\n",
       "      <td>...</td>\n",
       "      <td>...</td>\n",
       "      <td>...</td>\n",
       "      <td>...</td>\n",
       "      <td>...</td>\n",
       "      <td>...</td>\n",
       "      <td>...</td>\n",
       "      <td>...</td>\n",
       "      <td>...</td>\n",
       "      <td>...</td>\n",
       "      <td>...</td>\n",
       "      <td>...</td>\n",
       "      <td>...</td>\n",
       "      <td>...</td>\n",
       "      <td>...</td>\n",
       "      <td>...</td>\n",
       "      <td>...</td>\n",
       "      <td>...</td>\n",
       "      <td>...</td>\n",
       "      <td>...</td>\n",
       "      <td>...</td>\n",
       "      <td>...</td>\n",
       "      <td>...</td>\n",
       "      <td>...</td>\n",
       "      <td>...</td>\n",
       "      <td>...</td>\n",
       "    </tr>\n",
       "    <tr>\n",
       "      <th>5277</th>\n",
       "      <td>3</td>\n",
       "      <td>30.40</td>\n",
       "      <td>82.15</td>\n",
       "      <td>0</td>\n",
       "      <td>0</td>\n",
       "      <td>1</td>\n",
       "      <td>1</td>\n",
       "      <td>0</td>\n",
       "      <td>1</td>\n",
       "      <td>0</td>\n",
       "      <td>1</td>\n",
       "      <td>0</td>\n",
       "      <td>0</td>\n",
       "      <td>1</td>\n",
       "      <td>0</td>\n",
       "      <td>1</td>\n",
       "      <td>0</td>\n",
       "      <td>0</td>\n",
       "      <td>1</td>\n",
       "      <td>0</td>\n",
       "      <td>0</td>\n",
       "      <td>1</td>\n",
       "      <td>0</td>\n",
       "      <td>0</td>\n",
       "      <td>1</td>\n",
       "      <td>0</td>\n",
       "      <td>0</td>\n",
       "      <td>0</td>\n",
       "      <td>0</td>\n",
       "      <td>1</td>\n",
       "      <td>1</td>\n",
       "      <td>0</td>\n",
       "      <td>0</td>\n",
       "      <td>1</td>\n",
       "      <td>0</td>\n",
       "      <td>0</td>\n",
       "      <td>1</td>\n",
       "      <td>0</td>\n",
       "      <td>0</td>\n",
       "      <td>1</td>\n",
       "      <td>0</td>\n",
       "      <td>0</td>\n",
       "      <td>0</td>\n",
       "      <td>1</td>\n",
       "      <td>0</td>\n",
       "    </tr>\n",
       "    <tr>\n",
       "      <th>5278</th>\n",
       "      <td>50</td>\n",
       "      <td>44.45</td>\n",
       "      <td>2188.45</td>\n",
       "      <td>0</td>\n",
       "      <td>0</td>\n",
       "      <td>1</td>\n",
       "      <td>0</td>\n",
       "      <td>1</td>\n",
       "      <td>1</td>\n",
       "      <td>0</td>\n",
       "      <td>1</td>\n",
       "      <td>0</td>\n",
       "      <td>0</td>\n",
       "      <td>1</td>\n",
       "      <td>0</td>\n",
       "      <td>1</td>\n",
       "      <td>0</td>\n",
       "      <td>0</td>\n",
       "      <td>0</td>\n",
       "      <td>0</td>\n",
       "      <td>1</td>\n",
       "      <td>1</td>\n",
       "      <td>0</td>\n",
       "      <td>0</td>\n",
       "      <td>1</td>\n",
       "      <td>0</td>\n",
       "      <td>0</td>\n",
       "      <td>0</td>\n",
       "      <td>0</td>\n",
       "      <td>1</td>\n",
       "      <td>0</td>\n",
       "      <td>0</td>\n",
       "      <td>1</td>\n",
       "      <td>1</td>\n",
       "      <td>0</td>\n",
       "      <td>0</td>\n",
       "      <td>0</td>\n",
       "      <td>1</td>\n",
       "      <td>0</td>\n",
       "      <td>0</td>\n",
       "      <td>1</td>\n",
       "      <td>1</td>\n",
       "      <td>0</td>\n",
       "      <td>0</td>\n",
       "      <td>0</td>\n",
       "    </tr>\n",
       "    <tr>\n",
       "      <th>5279</th>\n",
       "      <td>1</td>\n",
       "      <td>55.05</td>\n",
       "      <td>55.05</td>\n",
       "      <td>0</td>\n",
       "      <td>0</td>\n",
       "      <td>1</td>\n",
       "      <td>1</td>\n",
       "      <td>0</td>\n",
       "      <td>1</td>\n",
       "      <td>0</td>\n",
       "      <td>0</td>\n",
       "      <td>1</td>\n",
       "      <td>1</td>\n",
       "      <td>0</td>\n",
       "      <td>0</td>\n",
       "      <td>1</td>\n",
       "      <td>0</td>\n",
       "      <td>0</td>\n",
       "      <td>1</td>\n",
       "      <td>0</td>\n",
       "      <td>0</td>\n",
       "      <td>1</td>\n",
       "      <td>0</td>\n",
       "      <td>0</td>\n",
       "      <td>0</td>\n",
       "      <td>0</td>\n",
       "      <td>1</td>\n",
       "      <td>0</td>\n",
       "      <td>0</td>\n",
       "      <td>1</td>\n",
       "      <td>1</td>\n",
       "      <td>0</td>\n",
       "      <td>0</td>\n",
       "      <td>1</td>\n",
       "      <td>0</td>\n",
       "      <td>0</td>\n",
       "      <td>1</td>\n",
       "      <td>0</td>\n",
       "      <td>0</td>\n",
       "      <td>1</td>\n",
       "      <td>0</td>\n",
       "      <td>0</td>\n",
       "      <td>0</td>\n",
       "      <td>0</td>\n",
       "      <td>1</td>\n",
       "    </tr>\n",
       "    <tr>\n",
       "      <th>5280</th>\n",
       "      <td>29</td>\n",
       "      <td>76.00</td>\n",
       "      <td>2215.25</td>\n",
       "      <td>0</td>\n",
       "      <td>1</td>\n",
       "      <td>0</td>\n",
       "      <td>1</td>\n",
       "      <td>0</td>\n",
       "      <td>1</td>\n",
       "      <td>0</td>\n",
       "      <td>0</td>\n",
       "      <td>1</td>\n",
       "      <td>0</td>\n",
       "      <td>0</td>\n",
       "      <td>1</td>\n",
       "      <td>0</td>\n",
       "      <td>1</td>\n",
       "      <td>0</td>\n",
       "      <td>1</td>\n",
       "      <td>0</td>\n",
       "      <td>0</td>\n",
       "      <td>1</td>\n",
       "      <td>0</td>\n",
       "      <td>0</td>\n",
       "      <td>1</td>\n",
       "      <td>0</td>\n",
       "      <td>0</td>\n",
       "      <td>1</td>\n",
       "      <td>0</td>\n",
       "      <td>0</td>\n",
       "      <td>1</td>\n",
       "      <td>0</td>\n",
       "      <td>0</td>\n",
       "      <td>1</td>\n",
       "      <td>0</td>\n",
       "      <td>0</td>\n",
       "      <td>1</td>\n",
       "      <td>0</td>\n",
       "      <td>0</td>\n",
       "      <td>0</td>\n",
       "      <td>1</td>\n",
       "      <td>0</td>\n",
       "      <td>1</td>\n",
       "      <td>0</td>\n",
       "      <td>0</td>\n",
       "    </tr>\n",
       "    <tr>\n",
       "      <th>5281</th>\n",
       "      <td>19</td>\n",
       "      <td>75.90</td>\n",
       "      <td>1375.6</td>\n",
       "      <td>0</td>\n",
       "      <td>1</td>\n",
       "      <td>0</td>\n",
       "      <td>1</td>\n",
       "      <td>0</td>\n",
       "      <td>0</td>\n",
       "      <td>1</td>\n",
       "      <td>0</td>\n",
       "      <td>1</td>\n",
       "      <td>0</td>\n",
       "      <td>0</td>\n",
       "      <td>1</td>\n",
       "      <td>1</td>\n",
       "      <td>0</td>\n",
       "      <td>0</td>\n",
       "      <td>0</td>\n",
       "      <td>0</td>\n",
       "      <td>1</td>\n",
       "      <td>0</td>\n",
       "      <td>0</td>\n",
       "      <td>1</td>\n",
       "      <td>1</td>\n",
       "      <td>0</td>\n",
       "      <td>0</td>\n",
       "      <td>0</td>\n",
       "      <td>0</td>\n",
       "      <td>1</td>\n",
       "      <td>0</td>\n",
       "      <td>0</td>\n",
       "      <td>1</td>\n",
       "      <td>1</td>\n",
       "      <td>0</td>\n",
       "      <td>0</td>\n",
       "      <td>1</td>\n",
       "      <td>0</td>\n",
       "      <td>0</td>\n",
       "      <td>0</td>\n",
       "      <td>1</td>\n",
       "      <td>0</td>\n",
       "      <td>0</td>\n",
       "      <td>0</td>\n",
       "      <td>1</td>\n",
       "    </tr>\n",
       "  </tbody>\n",
       "</table>\n",
       "<p>5282 rows × 45 columns</p>\n",
       "</div>"
      ],
      "text/plain": [
       "      ClientPeriod  ...  PaymentMethod_Mailed check\n",
       "0               55  ...                           1\n",
       "1               72  ...                           0\n",
       "2                1  ...                           0\n",
       "3               32  ...                           1\n",
       "4               60  ...                           0\n",
       "...            ...  ...                         ...\n",
       "5277             3  ...                           0\n",
       "5278            50  ...                           0\n",
       "5279             1  ...                           1\n",
       "5280            29  ...                           0\n",
       "5281            19  ...                           1\n",
       "\n",
       "[5282 rows x 45 columns]"
      ]
     },
     "execution_count": 29,
     "metadata": {},
     "output_type": "execute_result"
    }
   ],
   "source": [
    "y"
   ]
  },
  {
   "cell_type": "code",
   "execution_count": 34,
   "metadata": {
    "id": "p0cz6U91q6Yh"
   },
   "outputs": [],
   "source": [
    "tar=data[::][\"Churn\"]\n",
    "train_feature_matrix, test_feature_matrix, train_labels, test_labels = train_test_split(\n",
    "    y.values, tar.values, test_size=0.2, random_state=42)"
   ]
  },
  {
   "cell_type": "code",
   "execution_count": 35,
   "metadata": {
    "colab": {
     "base_uri": "https://localhost:8080/"
    },
    "id": "yp2xVdO5sjoE",
    "outputId": "69fcac55-3281-4ac3-d9db-c99099a9c4d7"
   },
   "outputs": [
    {
     "name": "stdout",
     "output_type": "stream",
     "text": [
      "<class 'pandas.core.frame.DataFrame'>\n",
      "RangeIndex: 5282 entries, 0 to 5281\n",
      "Data columns (total 45 columns):\n",
      " #   Column                                        Non-Null Count  Dtype  \n",
      "---  ------                                        --------------  -----  \n",
      " 0   ClientPeriod                                  5282 non-null   int64  \n",
      " 1   MonthlySpending                               5282 non-null   float64\n",
      " 2   TotalSpent                                    5282 non-null   object \n",
      " 3   IsSeniorCitizen                               5282 non-null   int64  \n",
      " 4   Sex_Female                                    5282 non-null   uint8  \n",
      " 5   Sex_Male                                      5282 non-null   uint8  \n",
      " 6   HasPartner_No                                 5282 non-null   uint8  \n",
      " 7   HasPartner_Yes                                5282 non-null   uint8  \n",
      " 8   HasChild_No                                   5282 non-null   uint8  \n",
      " 9   HasChild_Yes                                  5282 non-null   uint8  \n",
      " 10  HasPhoneService_No                            5282 non-null   uint8  \n",
      " 11  HasPhoneService_Yes                           5282 non-null   uint8  \n",
      " 12  HasMultiplePhoneNumbers_No                    5282 non-null   uint8  \n",
      " 13  HasMultiplePhoneNumbers_No phone service      5282 non-null   uint8  \n",
      " 14  HasMultiplePhoneNumbers_Yes                   5282 non-null   uint8  \n",
      " 15  HasInternetService_DSL                        5282 non-null   uint8  \n",
      " 16  HasInternetService_Fiber optic                5282 non-null   uint8  \n",
      " 17  HasInternetService_No                         5282 non-null   uint8  \n",
      " 18  HasOnlineSecurityService_No                   5282 non-null   uint8  \n",
      " 19  HasOnlineSecurityService_No internet service  5282 non-null   uint8  \n",
      " 20  HasOnlineSecurityService_Yes                  5282 non-null   uint8  \n",
      " 21  HasOnlineBackup_No                            5282 non-null   uint8  \n",
      " 22  HasOnlineBackup_No internet service           5282 non-null   uint8  \n",
      " 23  HasOnlineBackup_Yes                           5282 non-null   uint8  \n",
      " 24  HasDeviceProtection_No                        5282 non-null   uint8  \n",
      " 25  HasDeviceProtection_No internet service       5282 non-null   uint8  \n",
      " 26  HasDeviceProtection_Yes                       5282 non-null   uint8  \n",
      " 27  HasTechSupportAccess_No                       5282 non-null   uint8  \n",
      " 28  HasTechSupportAccess_No internet service      5282 non-null   uint8  \n",
      " 29  HasTechSupportAccess_Yes                      5282 non-null   uint8  \n",
      " 30  HasOnlineTV_No                                5282 non-null   uint8  \n",
      " 31  HasOnlineTV_No internet service               5282 non-null   uint8  \n",
      " 32  HasOnlineTV_Yes                               5282 non-null   uint8  \n",
      " 33  HasMovieSubscription_No                       5282 non-null   uint8  \n",
      " 34  HasMovieSubscription_No internet service      5282 non-null   uint8  \n",
      " 35  HasMovieSubscription_Yes                      5282 non-null   uint8  \n",
      " 36  HasContractPhone_Month-to-month               5282 non-null   uint8  \n",
      " 37  HasContractPhone_One year                     5282 non-null   uint8  \n",
      " 38  HasContractPhone_Two year                     5282 non-null   uint8  \n",
      " 39  IsBillingPaperless_No                         5282 non-null   uint8  \n",
      " 40  IsBillingPaperless_Yes                        5282 non-null   uint8  \n",
      " 41  PaymentMethod_Bank transfer (automatic)       5282 non-null   uint8  \n",
      " 42  PaymentMethod_Credit card (automatic)         5282 non-null   uint8  \n",
      " 43  PaymentMethod_Electronic check                5282 non-null   uint8  \n",
      " 44  PaymentMethod_Mailed check                    5282 non-null   uint8  \n",
      "dtypes: float64(1), int64(2), object(1), uint8(41)\n",
      "memory usage: 376.7+ KB\n"
     ]
    }
   ],
   "source": [
    "y.info()"
   ]
  },
  {
   "cell_type": "code",
   "execution_count": 36,
   "metadata": {
    "colab": {
     "base_uri": "https://localhost:8080/"
    },
    "id": "snYzM3uuqwDN",
    "outputId": "9b90d684-c263-405b-d3b2-7e4b750be19f"
   },
   "outputs": [
    {
     "name": "stderr",
     "output_type": "stream",
     "text": [
      "/usr/local/lib/python3.7/dist-packages/sklearn/linear_model/_sag.py:330: ConvergenceWarning: The max_iter was reached which means the coef_ did not converge\n",
      "  \"the coef_ did not converge\", ConvergenceWarning)\n"
     ]
    }
   ],
   "source": [
    "model=LogisticRegression(penalty='l1', dual=False, tol=0.00001, C=0.5, fit_intercept=False, solver='saga')\n",
    "# обучение модели\n",
    "model.fit(train_feature_matrix, train_labels)\n",
    "# предсказание на тестовой выборке\n",
    "y_pred = model.predict(test_feature_matrix)"
   ]
  },
  {
   "cell_type": "code",
   "execution_count": 37,
   "metadata": {
    "colab": {
     "base_uri": "https://localhost:8080/"
    },
    "id": "wSSqZimZy9Xz",
    "outputId": "a7969d1c-9736-4920-a938-02834145adea"
   },
   "outputs": [
    {
     "data": {
      "text/plain": [
       "0.7426679280983917"
      ]
     },
     "execution_count": 37,
     "metadata": {},
     "output_type": "execute_result"
    }
   ],
   "source": [
    "from sklearn.metrics import accuracy_score\n",
    "accuracy_score(test_labels, y_pred)"
   ]
  },
  {
   "cell_type": "code",
   "execution_count": 256,
   "metadata": {
    "colab": {
     "base_uri": "https://localhost:8080/"
    },
    "id": "gmCjybN1_pdd",
    "outputId": "526a38d7-83ec-478f-ebd6-45459b8e3535"
   },
   "outputs": [
    {
     "data": {
      "text/plain": [
       "0.6519103074408252"
      ]
     },
     "execution_count": 256,
     "metadata": {},
     "output_type": "execute_result"
    }
   ],
   "source": [
    "roc_auc_score(test_labels,y_pred)"
   ]
  },
  {
   "cell_type": "markdown",
   "metadata": {
    "id": "36729TOQEEZR"
   },
   "source": []
  },
  {
   "cell_type": "markdown",
   "metadata": {
    "id": "BlTeVy7fEEZR"
   },
   "source": [
    "## Применение градиентного бустинга (2 балла)\n",
    "\n",
    "Если вы хотите получить баллы за точный ответ, то стоит попробовать градиентный бустинг. Часто градиентный бустинг с дефолтными параметрами даст вам 80% результата за 0% усилий.\n",
    "\n",
    "Мы будем использовать catboost, поэтому нам не надо кодировать категориальные признаки. catboost сделает это сам (в .fit() надо передать cat_features=cat_cols). А численные признаки нормировать для моделей, основанных на деревьях не нужно.\n",
    "\n",
    "1) Разделите выборку на train/valid. Протестируйте catboost cо стандартными параметрами.\n",
    "\n",
    "2) Протестируйте разные занчения параметроа количества деревьев и learning_rate'а и выберите лучшую по метрике ROC-AUC комбинацию. \n",
    "\n",
    "(Дополнительно) Есть некоторые сложности с тем, чтобы использовать CatBoostClassifier вместе с GridSearchCV, поэтому мы не просим использовать кроссвалидацию. Но можете попробовать)"
   ]
  },
  {
   "cell_type": "code",
   "execution_count": 257,
   "metadata": {
    "id": "vYLsqmh254pW"
   },
   "outputs": [],
   "source": [
    "train_feature_matrix, test_feature_matrix, train_labels, test_labels = train_test_split(\n",
    "    data.iloc[:,:-1], tar, test_size=0.2, random_state=42)"
   ]
  },
  {
   "cell_type": "code",
   "execution_count": 40,
   "metadata": {
    "colab": {
     "base_uri": "https://localhost:8080/"
    },
    "id": "Fioxxlp-EEZS",
    "outputId": "1ff81783-b3c3-4353-9f0e-a84e60b82842"
   },
   "outputs": [
    {
     "name": "stdout",
     "output_type": "stream",
     "text": [
      "Collecting catboost\n",
      "  Downloading catboost-1.0.0-cp37-none-manylinux1_x86_64.whl (76.4 MB)\n",
      "\u001b[K     |████████████████████████████████| 76.4 MB 34 kB/s \n",
      "\u001b[?25hRequirement already satisfied: graphviz in /usr/local/lib/python3.7/dist-packages (from catboost) (0.10.1)\n",
      "Requirement already satisfied: pandas>=0.24.0 in /usr/local/lib/python3.7/dist-packages (from catboost) (1.1.5)\n",
      "Requirement already satisfied: scipy in /usr/local/lib/python3.7/dist-packages (from catboost) (1.4.1)\n",
      "Requirement already satisfied: plotly in /usr/local/lib/python3.7/dist-packages (from catboost) (4.4.1)\n",
      "Requirement already satisfied: six in /usr/local/lib/python3.7/dist-packages (from catboost) (1.15.0)\n",
      "Requirement already satisfied: matplotlib in /usr/local/lib/python3.7/dist-packages (from catboost) (3.2.2)\n",
      "Requirement already satisfied: numpy>=1.16.0 in /usr/local/lib/python3.7/dist-packages (from catboost) (1.19.5)\n",
      "Requirement already satisfied: pytz>=2017.2 in /usr/local/lib/python3.7/dist-packages (from pandas>=0.24.0->catboost) (2018.9)\n",
      "Requirement already satisfied: python-dateutil>=2.7.3 in /usr/local/lib/python3.7/dist-packages (from pandas>=0.24.0->catboost) (2.8.2)\n",
      "Requirement already satisfied: kiwisolver>=1.0.1 in /usr/local/lib/python3.7/dist-packages (from matplotlib->catboost) (1.3.2)\n",
      "Requirement already satisfied: pyparsing!=2.0.4,!=2.1.2,!=2.1.6,>=2.0.1 in /usr/local/lib/python3.7/dist-packages (from matplotlib->catboost) (2.4.7)\n",
      "Requirement already satisfied: cycler>=0.10 in /usr/local/lib/python3.7/dist-packages (from matplotlib->catboost) (0.10.0)\n",
      "Requirement already satisfied: retrying>=1.3.3 in /usr/local/lib/python3.7/dist-packages (from plotly->catboost) (1.3.3)\n",
      "Installing collected packages: catboost\n",
      "Successfully installed catboost-1.0.0\n"
     ]
    }
   ],
   "source": [
    "!pip install catboost \n",
    "from sklearn.ensemble import GradientBoostingClassifier\n",
    "from catboost import CatBoostRegressor, CatBoostClassifier"
   ]
  },
  {
   "cell_type": "code",
   "execution_count": 262,
   "metadata": {
    "colab": {
     "base_uri": "https://localhost:8080/"
    },
    "id": "V0woPEdb81YH",
    "outputId": "d6b624f3-ad7c-458c-b78b-dc6345d57d7f"
   },
   "outputs": [
    {
     "name": "stdout",
     "output_type": "stream",
     "text": [
      "Learning rate set to 0.019062\n",
      "0:\tlearn: 0.6802202\ttotal: 16.4ms\tremaining: 16.4s\n",
      "1:\tlearn: 0.6676204\ttotal: 31.5ms\tremaining: 15.7s\n",
      "2:\tlearn: 0.6558795\ttotal: 47.2ms\tremaining: 15.7s\n",
      "3:\tlearn: 0.6457028\ttotal: 55.3ms\tremaining: 13.8s\n",
      "4:\tlearn: 0.6338911\ttotal: 79ms\tremaining: 15.7s\n",
      "5:\tlearn: 0.6235039\ttotal: 94.7ms\tremaining: 15.7s\n",
      "6:\tlearn: 0.6147887\ttotal: 104ms\tremaining: 14.8s\n",
      "7:\tlearn: 0.6061780\ttotal: 118ms\tremaining: 14.6s\n",
      "8:\tlearn: 0.5986740\ttotal: 123ms\tremaining: 13.6s\n",
      "9:\tlearn: 0.5904615\ttotal: 136ms\tremaining: 13.5s\n",
      "10:\tlearn: 0.5825070\ttotal: 153ms\tremaining: 13.8s\n",
      "11:\tlearn: 0.5748601\ttotal: 168ms\tremaining: 13.8s\n",
      "12:\tlearn: 0.5674660\ttotal: 184ms\tremaining: 13.9s\n",
      "13:\tlearn: 0.5606648\ttotal: 197ms\tremaining: 13.9s\n",
      "14:\tlearn: 0.5540216\ttotal: 215ms\tremaining: 14.1s\n",
      "15:\tlearn: 0.5475793\ttotal: 229ms\tremaining: 14.1s\n",
      "16:\tlearn: 0.5414257\ttotal: 245ms\tremaining: 14.2s\n",
      "17:\tlearn: 0.5357865\ttotal: 260ms\tremaining: 14.2s\n",
      "18:\tlearn: 0.5299627\ttotal: 275ms\tremaining: 14.2s\n",
      "19:\tlearn: 0.5263611\ttotal: 282ms\tremaining: 13.8s\n",
      "20:\tlearn: 0.5221744\ttotal: 293ms\tremaining: 13.7s\n",
      "21:\tlearn: 0.5169551\ttotal: 309ms\tremaining: 13.7s\n",
      "22:\tlearn: 0.5134565\ttotal: 316ms\tremaining: 13.4s\n",
      "23:\tlearn: 0.5098396\ttotal: 324ms\tremaining: 13.2s\n",
      "24:\tlearn: 0.5064225\ttotal: 339ms\tremaining: 13.2s\n",
      "25:\tlearn: 0.5031718\ttotal: 351ms\tremaining: 13.1s\n",
      "26:\tlearn: 0.5006989\ttotal: 357ms\tremaining: 12.8s\n",
      "27:\tlearn: 0.4980931\ttotal: 363ms\tremaining: 12.6s\n",
      "28:\tlearn: 0.4958594\ttotal: 369ms\tremaining: 12.3s\n",
      "29:\tlearn: 0.4924214\ttotal: 381ms\tremaining: 12.3s\n",
      "30:\tlearn: 0.4887608\ttotal: 402ms\tremaining: 12.6s\n",
      "31:\tlearn: 0.4857618\ttotal: 412ms\tremaining: 12.5s\n",
      "32:\tlearn: 0.4826308\ttotal: 430ms\tremaining: 12.6s\n",
      "33:\tlearn: 0.4799548\ttotal: 444ms\tremaining: 12.6s\n",
      "34:\tlearn: 0.4771127\ttotal: 457ms\tremaining: 12.6s\n",
      "35:\tlearn: 0.4758882\ttotal: 462ms\tremaining: 12.4s\n",
      "36:\tlearn: 0.4732860\ttotal: 477ms\tremaining: 12.4s\n",
      "37:\tlearn: 0.4704919\ttotal: 499ms\tremaining: 12.6s\n",
      "38:\tlearn: 0.4681434\ttotal: 510ms\tremaining: 12.6s\n",
      "39:\tlearn: 0.4661077\ttotal: 529ms\tremaining: 12.7s\n",
      "40:\tlearn: 0.4636155\ttotal: 544ms\tremaining: 12.7s\n",
      "41:\tlearn: 0.4622455\ttotal: 552ms\tremaining: 12.6s\n",
      "42:\tlearn: 0.4618263\ttotal: 556ms\tremaining: 12.4s\n",
      "43:\tlearn: 0.4596072\ttotal: 569ms\tremaining: 12.4s\n",
      "44:\tlearn: 0.4578246\ttotal: 580ms\tremaining: 12.3s\n",
      "45:\tlearn: 0.4561697\ttotal: 592ms\tremaining: 12.3s\n",
      "46:\tlearn: 0.4551544\ttotal: 604ms\tremaining: 12.2s\n",
      "47:\tlearn: 0.4531108\ttotal: 617ms\tremaining: 12.2s\n",
      "48:\tlearn: 0.4513103\ttotal: 634ms\tremaining: 12.3s\n",
      "49:\tlearn: 0.4505927\ttotal: 639ms\tremaining: 12.1s\n",
      "50:\tlearn: 0.4491081\ttotal: 653ms\tremaining: 12.2s\n",
      "51:\tlearn: 0.4472834\ttotal: 667ms\tremaining: 12.2s\n",
      "52:\tlearn: 0.4460584\ttotal: 676ms\tremaining: 12.1s\n",
      "53:\tlearn: 0.4452776\ttotal: 682ms\tremaining: 12s\n",
      "54:\tlearn: 0.4446345\ttotal: 689ms\tremaining: 11.8s\n",
      "55:\tlearn: 0.4432630\ttotal: 704ms\tremaining: 11.9s\n",
      "56:\tlearn: 0.4426690\ttotal: 711ms\tremaining: 11.8s\n",
      "57:\tlearn: 0.4416488\ttotal: 723ms\tremaining: 11.7s\n",
      "58:\tlearn: 0.4404718\ttotal: 743ms\tremaining: 11.9s\n",
      "59:\tlearn: 0.4394022\ttotal: 756ms\tremaining: 11.8s\n",
      "60:\tlearn: 0.4383374\ttotal: 770ms\tremaining: 11.9s\n",
      "61:\tlearn: 0.4372967\ttotal: 783ms\tremaining: 11.8s\n",
      "62:\tlearn: 0.4362069\ttotal: 797ms\tremaining: 11.8s\n",
      "63:\tlearn: 0.4352875\ttotal: 811ms\tremaining: 11.9s\n",
      "64:\tlearn: 0.4342803\ttotal: 825ms\tremaining: 11.9s\n",
      "65:\tlearn: 0.4334160\ttotal: 839ms\tremaining: 11.9s\n",
      "66:\tlearn: 0.4329953\ttotal: 846ms\tremaining: 11.8s\n",
      "67:\tlearn: 0.4321361\ttotal: 861ms\tremaining: 11.8s\n",
      "68:\tlearn: 0.4314256\ttotal: 872ms\tremaining: 11.8s\n",
      "69:\tlearn: 0.4304938\ttotal: 887ms\tremaining: 11.8s\n",
      "70:\tlearn: 0.4299349\ttotal: 894ms\tremaining: 11.7s\n",
      "71:\tlearn: 0.4292060\ttotal: 908ms\tremaining: 11.7s\n",
      "72:\tlearn: 0.4291127\ttotal: 911ms\tremaining: 11.6s\n",
      "73:\tlearn: 0.4284335\ttotal: 920ms\tremaining: 11.5s\n",
      "74:\tlearn: 0.4281127\ttotal: 926ms\tremaining: 11.4s\n",
      "75:\tlearn: 0.4275552\ttotal: 935ms\tremaining: 11.4s\n",
      "76:\tlearn: 0.4271678\ttotal: 942ms\tremaining: 11.3s\n",
      "77:\tlearn: 0.4267103\ttotal: 951ms\tremaining: 11.2s\n",
      "78:\tlearn: 0.4263089\ttotal: 960ms\tremaining: 11.2s\n",
      "79:\tlearn: 0.4253866\ttotal: 976ms\tremaining: 11.2s\n",
      "80:\tlearn: 0.4247733\ttotal: 990ms\tremaining: 11.2s\n",
      "81:\tlearn: 0.4239276\ttotal: 1.01s\tremaining: 11.3s\n",
      "82:\tlearn: 0.4232069\ttotal: 1.02s\tremaining: 11.3s\n",
      "83:\tlearn: 0.4226393\ttotal: 1.03s\tremaining: 11.3s\n",
      "84:\tlearn: 0.4223718\ttotal: 1.05s\tremaining: 11.3s\n",
      "85:\tlearn: 0.4217315\ttotal: 1.06s\tremaining: 11.3s\n",
      "86:\tlearn: 0.4210448\ttotal: 1.07s\tremaining: 11.3s\n",
      "87:\tlearn: 0.4203851\ttotal: 1.09s\tremaining: 11.3s\n",
      "88:\tlearn: 0.4198718\ttotal: 1.1s\tremaining: 11.3s\n",
      "89:\tlearn: 0.4193025\ttotal: 1.11s\tremaining: 11.3s\n",
      "90:\tlearn: 0.4190476\ttotal: 1.13s\tremaining: 11.3s\n",
      "91:\tlearn: 0.4184990\ttotal: 1.14s\tremaining: 11.3s\n",
      "92:\tlearn: 0.4181854\ttotal: 1.15s\tremaining: 11.3s\n",
      "93:\tlearn: 0.4175703\ttotal: 1.17s\tremaining: 11.2s\n",
      "94:\tlearn: 0.4172907\ttotal: 1.18s\tremaining: 11.2s\n",
      "95:\tlearn: 0.4168432\ttotal: 1.19s\tremaining: 11.2s\n",
      "96:\tlearn: 0.4165733\ttotal: 1.2s\tremaining: 11.2s\n",
      "97:\tlearn: 0.4162595\ttotal: 1.22s\tremaining: 11.2s\n",
      "98:\tlearn: 0.4160796\ttotal: 1.23s\tremaining: 11.2s\n",
      "99:\tlearn: 0.4160552\ttotal: 1.23s\tremaining: 11.1s\n",
      "100:\tlearn: 0.4160318\ttotal: 1.23s\tremaining: 11s\n",
      "101:\tlearn: 0.4155862\ttotal: 1.24s\tremaining: 11s\n",
      "102:\tlearn: 0.4151681\ttotal: 1.27s\tremaining: 11s\n",
      "103:\tlearn: 0.4149370\ttotal: 1.28s\tremaining: 11s\n",
      "104:\tlearn: 0.4147113\ttotal: 1.29s\tremaining: 11s\n",
      "105:\tlearn: 0.4143842\ttotal: 1.3s\tremaining: 10.9s\n",
      "106:\tlearn: 0.4143663\ttotal: 1.3s\tremaining: 10.8s\n",
      "107:\tlearn: 0.4138929\ttotal: 1.31s\tremaining: 10.9s\n",
      "108:\tlearn: 0.4136867\ttotal: 1.33s\tremaining: 10.8s\n",
      "109:\tlearn: 0.4134950\ttotal: 1.33s\tremaining: 10.8s\n",
      "110:\tlearn: 0.4132030\ttotal: 1.35s\tremaining: 10.8s\n",
      "111:\tlearn: 0.4129948\ttotal: 1.37s\tremaining: 10.9s\n",
      "112:\tlearn: 0.4126107\ttotal: 1.39s\tremaining: 10.9s\n",
      "113:\tlearn: 0.4124581\ttotal: 1.4s\tremaining: 10.9s\n",
      "114:\tlearn: 0.4121103\ttotal: 1.42s\tremaining: 10.9s\n",
      "115:\tlearn: 0.4119493\ttotal: 1.43s\tremaining: 10.9s\n",
      "116:\tlearn: 0.4116917\ttotal: 1.44s\tremaining: 10.9s\n",
      "117:\tlearn: 0.4112735\ttotal: 1.45s\tremaining: 10.9s\n",
      "118:\tlearn: 0.4111235\ttotal: 1.46s\tremaining: 10.8s\n",
      "119:\tlearn: 0.4106969\ttotal: 1.48s\tremaining: 10.8s\n",
      "120:\tlearn: 0.4106014\ttotal: 1.49s\tremaining: 10.8s\n",
      "121:\tlearn: 0.4105373\ttotal: 1.49s\tremaining: 10.7s\n",
      "122:\tlearn: 0.4104406\ttotal: 1.5s\tremaining: 10.7s\n",
      "123:\tlearn: 0.4101019\ttotal: 1.52s\tremaining: 10.7s\n",
      "124:\tlearn: 0.4097343\ttotal: 1.53s\tremaining: 10.7s\n",
      "125:\tlearn: 0.4096463\ttotal: 1.54s\tremaining: 10.7s\n",
      "126:\tlearn: 0.4096393\ttotal: 1.54s\tremaining: 10.6s\n",
      "127:\tlearn: 0.4095747\ttotal: 1.55s\tremaining: 10.6s\n",
      "128:\tlearn: 0.4094826\ttotal: 1.56s\tremaining: 10.5s\n",
      "129:\tlearn: 0.4093240\ttotal: 1.57s\tremaining: 10.5s\n",
      "130:\tlearn: 0.4088748\ttotal: 1.59s\tremaining: 10.5s\n",
      "131:\tlearn: 0.4086263\ttotal: 1.6s\tremaining: 10.6s\n",
      "132:\tlearn: 0.4082430\ttotal: 1.62s\tremaining: 10.6s\n",
      "133:\tlearn: 0.4080504\ttotal: 1.63s\tremaining: 10.5s\n",
      "134:\tlearn: 0.4079327\ttotal: 1.63s\tremaining: 10.5s\n",
      "135:\tlearn: 0.4074595\ttotal: 1.65s\tremaining: 10.5s\n",
      "136:\tlearn: 0.4074173\ttotal: 1.65s\tremaining: 10.4s\n",
      "137:\tlearn: 0.4073693\ttotal: 1.66s\tremaining: 10.4s\n",
      "138:\tlearn: 0.4070575\ttotal: 1.67s\tremaining: 10.3s\n",
      "139:\tlearn: 0.4068660\ttotal: 1.69s\tremaining: 10.4s\n",
      "140:\tlearn: 0.4065734\ttotal: 1.7s\tremaining: 10.4s\n",
      "141:\tlearn: 0.4060514\ttotal: 1.72s\tremaining: 10.4s\n",
      "142:\tlearn: 0.4058937\ttotal: 1.73s\tremaining: 10.4s\n",
      "143:\tlearn: 0.4056583\ttotal: 1.75s\tremaining: 10.4s\n",
      "144:\tlearn: 0.4055330\ttotal: 1.76s\tremaining: 10.4s\n",
      "145:\tlearn: 0.4054309\ttotal: 1.77s\tremaining: 10.4s\n",
      "146:\tlearn: 0.4053458\ttotal: 1.78s\tremaining: 10.3s\n",
      "147:\tlearn: 0.4051344\ttotal: 1.8s\tremaining: 10.3s\n",
      "148:\tlearn: 0.4049231\ttotal: 1.81s\tremaining: 10.3s\n",
      "149:\tlearn: 0.4046159\ttotal: 1.82s\tremaining: 10.3s\n",
      "150:\tlearn: 0.4043897\ttotal: 1.84s\tremaining: 10.3s\n",
      "151:\tlearn: 0.4040523\ttotal: 1.86s\tremaining: 10.4s\n",
      "152:\tlearn: 0.4039831\ttotal: 1.86s\tremaining: 10.3s\n",
      "153:\tlearn: 0.4039813\ttotal: 1.86s\tremaining: 10.2s\n",
      "154:\tlearn: 0.4038370\ttotal: 1.88s\tremaining: 10.3s\n",
      "155:\tlearn: 0.4036836\ttotal: 1.9s\tremaining: 10.3s\n",
      "156:\tlearn: 0.4033227\ttotal: 1.92s\tremaining: 10.3s\n",
      "157:\tlearn: 0.4032350\ttotal: 1.92s\tremaining: 10.3s\n",
      "158:\tlearn: 0.4031251\ttotal: 1.94s\tremaining: 10.3s\n",
      "159:\tlearn: 0.4031094\ttotal: 1.94s\tremaining: 10.2s\n",
      "160:\tlearn: 0.4030631\ttotal: 1.95s\tremaining: 10.2s\n",
      "161:\tlearn: 0.4029351\ttotal: 1.96s\tremaining: 10.1s\n",
      "162:\tlearn: 0.4028874\ttotal: 1.97s\tremaining: 10.1s\n",
      "163:\tlearn: 0.4027552\ttotal: 1.98s\tremaining: 10.1s\n",
      "164:\tlearn: 0.4027510\ttotal: 1.98s\tremaining: 10s\n",
      "165:\tlearn: 0.4026685\ttotal: 1.99s\tremaining: 9.98s\n",
      "166:\tlearn: 0.4024459\ttotal: 2s\tremaining: 9.99s\n",
      "167:\tlearn: 0.4022332\ttotal: 2.02s\tremaining: 9.99s\n",
      "168:\tlearn: 0.4020545\ttotal: 2.03s\tremaining: 9.98s\n",
      "169:\tlearn: 0.4019980\ttotal: 2.04s\tremaining: 9.95s\n",
      "170:\tlearn: 0.4019447\ttotal: 2.04s\tremaining: 9.9s\n",
      "171:\tlearn: 0.4018419\ttotal: 2.05s\tremaining: 9.89s\n",
      "172:\tlearn: 0.4016348\ttotal: 2.07s\tremaining: 9.88s\n",
      "173:\tlearn: 0.4013176\ttotal: 2.08s\tremaining: 9.88s\n",
      "174:\tlearn: 0.4013170\ttotal: 2.08s\tremaining: 9.82s\n",
      "175:\tlearn: 0.4012355\ttotal: 2.1s\tremaining: 9.82s\n",
      "176:\tlearn: 0.4012075\ttotal: 2.11s\tremaining: 9.79s\n",
      "177:\tlearn: 0.4008621\ttotal: 2.12s\tremaining: 9.78s\n",
      "178:\tlearn: 0.4007225\ttotal: 2.13s\tremaining: 9.78s\n",
      "179:\tlearn: 0.4007221\ttotal: 2.14s\tremaining: 9.73s\n",
      "180:\tlearn: 0.4006448\ttotal: 2.14s\tremaining: 9.7s\n",
      "181:\tlearn: 0.4006051\ttotal: 2.16s\tremaining: 9.7s\n",
      "182:\tlearn: 0.4004230\ttotal: 2.17s\tremaining: 9.71s\n",
      "183:\tlearn: 0.4003725\ttotal: 2.19s\tremaining: 9.72s\n",
      "184:\tlearn: 0.4003256\ttotal: 2.2s\tremaining: 9.71s\n",
      "185:\tlearn: 0.4001093\ttotal: 2.22s\tremaining: 9.71s\n",
      "186:\tlearn: 0.4000904\ttotal: 2.23s\tremaining: 9.67s\n",
      "187:\tlearn: 0.4000270\ttotal: 2.23s\tremaining: 9.64s\n",
      "188:\tlearn: 0.3999522\ttotal: 2.24s\tremaining: 9.62s\n",
      "189:\tlearn: 0.3997750\ttotal: 2.25s\tremaining: 9.61s\n",
      "190:\tlearn: 0.3996295\ttotal: 2.27s\tremaining: 9.61s\n",
      "191:\tlearn: 0.3996293\ttotal: 2.27s\tremaining: 9.56s\n",
      "192:\tlearn: 0.3995508\ttotal: 2.29s\tremaining: 9.56s\n",
      "193:\tlearn: 0.3994090\ttotal: 2.3s\tremaining: 9.54s\n",
      "194:\tlearn: 0.3993484\ttotal: 2.32s\tremaining: 9.56s\n",
      "195:\tlearn: 0.3992102\ttotal: 2.33s\tremaining: 9.56s\n",
      "196:\tlearn: 0.3991283\ttotal: 2.35s\tremaining: 9.56s\n",
      "197:\tlearn: 0.3989892\ttotal: 2.36s\tremaining: 9.56s\n",
      "198:\tlearn: 0.3988810\ttotal: 2.37s\tremaining: 9.55s\n",
      "199:\tlearn: 0.3988722\ttotal: 2.38s\tremaining: 9.52s\n",
      "200:\tlearn: 0.3988014\ttotal: 2.38s\tremaining: 9.48s\n",
      "201:\tlearn: 0.3986302\ttotal: 2.4s\tremaining: 9.47s\n",
      "202:\tlearn: 0.3985856\ttotal: 2.4s\tremaining: 9.44s\n",
      "203:\tlearn: 0.3984790\ttotal: 2.42s\tremaining: 9.43s\n",
      "204:\tlearn: 0.3984431\ttotal: 2.42s\tremaining: 9.4s\n",
      "205:\tlearn: 0.3983103\ttotal: 2.44s\tremaining: 9.42s\n",
      "206:\tlearn: 0.3981254\ttotal: 2.46s\tremaining: 9.42s\n",
      "207:\tlearn: 0.3979181\ttotal: 2.47s\tremaining: 9.42s\n",
      "208:\tlearn: 0.3977782\ttotal: 2.49s\tremaining: 9.43s\n",
      "209:\tlearn: 0.3977782\ttotal: 2.5s\tremaining: 9.39s\n",
      "210:\tlearn: 0.3977406\ttotal: 2.5s\tremaining: 9.36s\n",
      "211:\tlearn: 0.3977311\ttotal: 2.51s\tremaining: 9.32s\n",
      "212:\tlearn: 0.3977235\ttotal: 2.52s\tremaining: 9.32s\n",
      "213:\tlearn: 0.3975369\ttotal: 2.54s\tremaining: 9.32s\n",
      "214:\tlearn: 0.3974143\ttotal: 2.55s\tremaining: 9.31s\n",
      "215:\tlearn: 0.3973367\ttotal: 2.57s\tremaining: 9.34s\n",
      "216:\tlearn: 0.3973306\ttotal: 2.58s\tremaining: 9.3s\n",
      "217:\tlearn: 0.3971041\ttotal: 2.59s\tremaining: 9.3s\n",
      "218:\tlearn: 0.3970975\ttotal: 2.6s\tremaining: 9.28s\n",
      "219:\tlearn: 0.3969487\ttotal: 2.61s\tremaining: 9.27s\n",
      "220:\tlearn: 0.3968608\ttotal: 2.63s\tremaining: 9.27s\n",
      "221:\tlearn: 0.3967122\ttotal: 2.64s\tremaining: 9.26s\n",
      "222:\tlearn: 0.3965116\ttotal: 2.66s\tremaining: 9.27s\n",
      "223:\tlearn: 0.3964019\ttotal: 2.67s\tremaining: 9.27s\n",
      "224:\tlearn: 0.3963167\ttotal: 2.69s\tremaining: 9.27s\n",
      "225:\tlearn: 0.3961949\ttotal: 2.7s\tremaining: 9.25s\n",
      "226:\tlearn: 0.3960866\ttotal: 2.72s\tremaining: 9.25s\n",
      "227:\tlearn: 0.3960018\ttotal: 2.73s\tremaining: 9.25s\n",
      "228:\tlearn: 0.3958559\ttotal: 2.75s\tremaining: 9.27s\n",
      "229:\tlearn: 0.3957985\ttotal: 2.76s\tremaining: 9.24s\n",
      "230:\tlearn: 0.3955327\ttotal: 2.77s\tremaining: 9.24s\n",
      "231:\tlearn: 0.3953811\ttotal: 2.79s\tremaining: 9.24s\n",
      "232:\tlearn: 0.3952751\ttotal: 2.81s\tremaining: 9.23s\n",
      "233:\tlearn: 0.3952751\ttotal: 2.81s\tremaining: 9.19s\n",
      "234:\tlearn: 0.3950980\ttotal: 2.82s\tremaining: 9.19s\n",
      "235:\tlearn: 0.3948776\ttotal: 2.84s\tremaining: 9.18s\n",
      "236:\tlearn: 0.3947188\ttotal: 2.85s\tremaining: 9.18s\n",
      "237:\tlearn: 0.3946265\ttotal: 2.87s\tremaining: 9.18s\n",
      "238:\tlearn: 0.3945562\ttotal: 2.87s\tremaining: 9.15s\n",
      "239:\tlearn: 0.3944922\ttotal: 2.89s\tremaining: 9.15s\n",
      "240:\tlearn: 0.3943509\ttotal: 2.9s\tremaining: 9.14s\n",
      "241:\tlearn: 0.3943483\ttotal: 2.91s\tremaining: 9.11s\n",
      "242:\tlearn: 0.3941953\ttotal: 2.92s\tremaining: 9.11s\n",
      "243:\tlearn: 0.3941082\ttotal: 2.94s\tremaining: 9.11s\n",
      "244:\tlearn: 0.3940041\ttotal: 2.96s\tremaining: 9.12s\n",
      "245:\tlearn: 0.3938820\ttotal: 2.97s\tremaining: 9.11s\n",
      "246:\tlearn: 0.3938216\ttotal: 2.99s\tremaining: 9.1s\n",
      "247:\tlearn: 0.3937127\ttotal: 3s\tremaining: 9.1s\n",
      "248:\tlearn: 0.3935051\ttotal: 3.02s\tremaining: 9.11s\n",
      "249:\tlearn: 0.3933193\ttotal: 3.04s\tremaining: 9.11s\n",
      "250:\tlearn: 0.3932054\ttotal: 3.05s\tremaining: 9.11s\n",
      "251:\tlearn: 0.3931888\ttotal: 3.06s\tremaining: 9.08s\n",
      "252:\tlearn: 0.3931502\ttotal: 3.06s\tremaining: 9.05s\n",
      "253:\tlearn: 0.3931430\ttotal: 3.07s\tremaining: 9.02s\n",
      "254:\tlearn: 0.3931410\ttotal: 3.08s\tremaining: 8.98s\n",
      "255:\tlearn: 0.3930445\ttotal: 3.08s\tremaining: 8.97s\n",
      "256:\tlearn: 0.3929493\ttotal: 3.1s\tremaining: 8.98s\n",
      "257:\tlearn: 0.3929113\ttotal: 3.11s\tremaining: 8.94s\n",
      "258:\tlearn: 0.3928318\ttotal: 3.12s\tremaining: 8.93s\n",
      "259:\tlearn: 0.3928307\ttotal: 3.13s\tremaining: 8.91s\n",
      "260:\tlearn: 0.3928184\ttotal: 3.13s\tremaining: 8.87s\n",
      "261:\tlearn: 0.3926486\ttotal: 3.15s\tremaining: 8.88s\n",
      "262:\tlearn: 0.3926486\ttotal: 3.16s\tremaining: 8.85s\n",
      "263:\tlearn: 0.3926396\ttotal: 3.16s\tremaining: 8.82s\n",
      "264:\tlearn: 0.3926396\ttotal: 3.17s\tremaining: 8.78s\n",
      "265:\tlearn: 0.3925350\ttotal: 3.18s\tremaining: 8.77s\n",
      "266:\tlearn: 0.3925302\ttotal: 3.18s\tremaining: 8.74s\n",
      "267:\tlearn: 0.3923831\ttotal: 3.19s\tremaining: 8.73s\n",
      "268:\tlearn: 0.3923722\ttotal: 3.2s\tremaining: 8.71s\n",
      "269:\tlearn: 0.3923646\ttotal: 3.21s\tremaining: 8.68s\n",
      "270:\tlearn: 0.3923640\ttotal: 3.22s\tremaining: 8.66s\n",
      "271:\tlearn: 0.3922178\ttotal: 3.23s\tremaining: 8.65s\n",
      "272:\tlearn: 0.3921158\ttotal: 3.25s\tremaining: 8.65s\n",
      "273:\tlearn: 0.3920732\ttotal: 3.25s\tremaining: 8.62s\n",
      "274:\tlearn: 0.3919387\ttotal: 3.27s\tremaining: 8.61s\n",
      "275:\tlearn: 0.3918551\ttotal: 3.28s\tremaining: 8.61s\n",
      "276:\tlearn: 0.3918514\ttotal: 3.28s\tremaining: 8.57s\n",
      "277:\tlearn: 0.3917622\ttotal: 3.3s\tremaining: 8.57s\n",
      "278:\tlearn: 0.3916560\ttotal: 3.31s\tremaining: 8.56s\n",
      "279:\tlearn: 0.3916400\ttotal: 3.32s\tremaining: 8.53s\n",
      "280:\tlearn: 0.3915883\ttotal: 3.34s\tremaining: 8.55s\n",
      "281:\tlearn: 0.3915297\ttotal: 3.35s\tremaining: 8.54s\n",
      "282:\tlearn: 0.3915216\ttotal: 3.37s\tremaining: 8.53s\n",
      "283:\tlearn: 0.3914402\ttotal: 3.38s\tremaining: 8.53s\n",
      "284:\tlearn: 0.3913565\ttotal: 3.4s\tremaining: 8.53s\n",
      "285:\tlearn: 0.3911912\ttotal: 3.42s\tremaining: 8.53s\n",
      "286:\tlearn: 0.3911294\ttotal: 3.42s\tremaining: 8.51s\n",
      "287:\tlearn: 0.3910010\ttotal: 3.44s\tremaining: 8.5s\n",
      "288:\tlearn: 0.3909557\ttotal: 3.45s\tremaining: 8.49s\n",
      "289:\tlearn: 0.3908616\ttotal: 3.46s\tremaining: 8.48s\n",
      "290:\tlearn: 0.3908554\ttotal: 3.47s\tremaining: 8.46s\n",
      "291:\tlearn: 0.3906274\ttotal: 3.49s\tremaining: 8.47s\n",
      "292:\tlearn: 0.3905822\ttotal: 3.51s\tremaining: 8.48s\n",
      "293:\tlearn: 0.3905574\ttotal: 3.52s\tremaining: 8.45s\n",
      "294:\tlearn: 0.3904886\ttotal: 3.53s\tremaining: 8.45s\n",
      "295:\tlearn: 0.3904886\ttotal: 3.54s\tremaining: 8.41s\n",
      "296:\tlearn: 0.3903336\ttotal: 3.55s\tremaining: 8.4s\n",
      "297:\tlearn: 0.3903145\ttotal: 3.56s\tremaining: 8.38s\n",
      "298:\tlearn: 0.3902658\ttotal: 3.57s\tremaining: 8.37s\n",
      "299:\tlearn: 0.3902211\ttotal: 3.58s\tremaining: 8.35s\n",
      "300:\tlearn: 0.3900231\ttotal: 3.59s\tremaining: 8.34s\n",
      "301:\tlearn: 0.3899526\ttotal: 3.6s\tremaining: 8.33s\n",
      "302:\tlearn: 0.3897722\ttotal: 3.62s\tremaining: 8.33s\n",
      "303:\tlearn: 0.3895775\ttotal: 3.64s\tremaining: 8.33s\n",
      "304:\tlearn: 0.3894447\ttotal: 3.65s\tremaining: 8.33s\n",
      "305:\tlearn: 0.3894447\ttotal: 3.66s\tremaining: 8.29s\n",
      "306:\tlearn: 0.3893904\ttotal: 3.67s\tremaining: 8.29s\n",
      "307:\tlearn: 0.3893902\ttotal: 3.68s\tremaining: 8.27s\n",
      "308:\tlearn: 0.3893676\ttotal: 3.7s\tremaining: 8.28s\n",
      "309:\tlearn: 0.3893432\ttotal: 3.71s\tremaining: 8.26s\n",
      "310:\tlearn: 0.3892978\ttotal: 3.73s\tremaining: 8.26s\n",
      "311:\tlearn: 0.3892978\ttotal: 3.73s\tremaining: 8.22s\n",
      "312:\tlearn: 0.3892976\ttotal: 3.73s\tremaining: 8.2s\n",
      "313:\tlearn: 0.3892557\ttotal: 3.75s\tremaining: 8.19s\n",
      "314:\tlearn: 0.3892557\ttotal: 3.75s\tremaining: 8.16s\n",
      "315:\tlearn: 0.3892537\ttotal: 3.77s\tremaining: 8.16s\n",
      "316:\tlearn: 0.3892536\ttotal: 3.77s\tremaining: 8.13s\n",
      "317:\tlearn: 0.3892064\ttotal: 3.79s\tremaining: 8.12s\n",
      "318:\tlearn: 0.3891357\ttotal: 3.79s\tremaining: 8.1s\n",
      "319:\tlearn: 0.3891357\ttotal: 3.8s\tremaining: 8.07s\n",
      "320:\tlearn: 0.3889648\ttotal: 3.81s\tremaining: 8.06s\n",
      "321:\tlearn: 0.3886533\ttotal: 3.83s\tremaining: 8.06s\n",
      "322:\tlearn: 0.3886480\ttotal: 3.83s\tremaining: 8.03s\n",
      "323:\tlearn: 0.3884966\ttotal: 3.85s\tremaining: 8.02s\n",
      "324:\tlearn: 0.3884753\ttotal: 3.85s\tremaining: 8s\n",
      "325:\tlearn: 0.3884508\ttotal: 3.87s\tremaining: 8s\n",
      "326:\tlearn: 0.3884508\ttotal: 3.87s\tremaining: 7.97s\n",
      "327:\tlearn: 0.3883988\ttotal: 3.89s\tremaining: 7.96s\n",
      "328:\tlearn: 0.3883827\ttotal: 3.89s\tremaining: 7.93s\n",
      "329:\tlearn: 0.3882786\ttotal: 3.91s\tremaining: 7.93s\n",
      "330:\tlearn: 0.3880154\ttotal: 3.92s\tremaining: 7.93s\n",
      "331:\tlearn: 0.3879991\ttotal: 3.94s\tremaining: 7.93s\n",
      "332:\tlearn: 0.3879222\ttotal: 3.96s\tremaining: 7.92s\n",
      "333:\tlearn: 0.3878578\ttotal: 3.97s\tremaining: 7.92s\n",
      "334:\tlearn: 0.3877998\ttotal: 3.99s\tremaining: 7.92s\n",
      "335:\tlearn: 0.3876001\ttotal: 4s\tremaining: 7.91s\n",
      "336:\tlearn: 0.3875134\ttotal: 4.02s\tremaining: 7.9s\n",
      "337:\tlearn: 0.3874886\ttotal: 4.03s\tremaining: 7.89s\n",
      "338:\tlearn: 0.3874742\ttotal: 4.04s\tremaining: 7.87s\n",
      "339:\tlearn: 0.3874722\ttotal: 4.04s\tremaining: 7.84s\n",
      "340:\tlearn: 0.3874466\ttotal: 4.05s\tremaining: 7.83s\n",
      "341:\tlearn: 0.3874319\ttotal: 4.06s\tremaining: 7.81s\n",
      "342:\tlearn: 0.3873520\ttotal: 4.08s\tremaining: 7.8s\n",
      "343:\tlearn: 0.3873099\ttotal: 4.09s\tremaining: 7.79s\n",
      "344:\tlearn: 0.3872195\ttotal: 4.1s\tremaining: 7.79s\n",
      "345:\tlearn: 0.3871784\ttotal: 4.12s\tremaining: 7.78s\n",
      "346:\tlearn: 0.3871060\ttotal: 4.13s\tremaining: 7.78s\n",
      "347:\tlearn: 0.3870462\ttotal: 4.15s\tremaining: 7.77s\n",
      "348:\tlearn: 0.3869413\ttotal: 4.16s\tremaining: 7.76s\n",
      "349:\tlearn: 0.3868122\ttotal: 4.18s\tremaining: 7.76s\n",
      "350:\tlearn: 0.3867418\ttotal: 4.19s\tremaining: 7.75s\n",
      "351:\tlearn: 0.3864999\ttotal: 4.21s\tremaining: 7.74s\n",
      "352:\tlearn: 0.3863438\ttotal: 4.22s\tremaining: 7.74s\n",
      "353:\tlearn: 0.3863373\ttotal: 4.23s\tremaining: 7.73s\n",
      "354:\tlearn: 0.3861830\ttotal: 4.25s\tremaining: 7.72s\n",
      "355:\tlearn: 0.3861734\ttotal: 4.26s\tremaining: 7.71s\n",
      "356:\tlearn: 0.3860526\ttotal: 4.28s\tremaining: 7.71s\n",
      "357:\tlearn: 0.3859830\ttotal: 4.29s\tremaining: 7.7s\n",
      "358:\tlearn: 0.3859776\ttotal: 4.31s\tremaining: 7.7s\n",
      "359:\tlearn: 0.3859601\ttotal: 4.33s\tremaining: 7.7s\n",
      "360:\tlearn: 0.3859095\ttotal: 4.34s\tremaining: 7.69s\n",
      "361:\tlearn: 0.3858657\ttotal: 4.36s\tremaining: 7.68s\n",
      "362:\tlearn: 0.3858657\ttotal: 4.36s\tremaining: 7.65s\n",
      "363:\tlearn: 0.3858051\ttotal: 4.37s\tremaining: 7.64s\n",
      "364:\tlearn: 0.3857914\ttotal: 4.38s\tremaining: 7.62s\n",
      "365:\tlearn: 0.3857623\ttotal: 4.39s\tremaining: 7.61s\n",
      "366:\tlearn: 0.3857127\ttotal: 4.41s\tremaining: 7.61s\n",
      "367:\tlearn: 0.3856694\ttotal: 4.42s\tremaining: 7.6s\n",
      "368:\tlearn: 0.3856692\ttotal: 4.43s\tremaining: 7.57s\n",
      "369:\tlearn: 0.3854492\ttotal: 4.44s\tremaining: 7.57s\n",
      "370:\tlearn: 0.3852307\ttotal: 4.46s\tremaining: 7.56s\n",
      "371:\tlearn: 0.3851351\ttotal: 4.47s\tremaining: 7.54s\n",
      "372:\tlearn: 0.3851228\ttotal: 4.48s\tremaining: 7.54s\n",
      "373:\tlearn: 0.3850439\ttotal: 4.5s\tremaining: 7.53s\n",
      "374:\tlearn: 0.3849205\ttotal: 4.52s\tremaining: 7.53s\n",
      "375:\tlearn: 0.3848935\ttotal: 4.53s\tremaining: 7.52s\n",
      "376:\tlearn: 0.3848764\ttotal: 4.53s\tremaining: 7.49s\n",
      "377:\tlearn: 0.3847821\ttotal: 4.55s\tremaining: 7.49s\n",
      "378:\tlearn: 0.3845844\ttotal: 4.56s\tremaining: 7.47s\n",
      "379:\tlearn: 0.3844830\ttotal: 4.58s\tremaining: 7.47s\n",
      "380:\tlearn: 0.3844529\ttotal: 4.59s\tremaining: 7.45s\n",
      "381:\tlearn: 0.3843328\ttotal: 4.61s\tremaining: 7.45s\n",
      "382:\tlearn: 0.3843255\ttotal: 4.61s\tremaining: 7.43s\n",
      "383:\tlearn: 0.3843079\ttotal: 4.63s\tremaining: 7.42s\n",
      "384:\tlearn: 0.3843066\ttotal: 4.63s\tremaining: 7.4s\n",
      "385:\tlearn: 0.3842587\ttotal: 4.65s\tremaining: 7.39s\n",
      "386:\tlearn: 0.3842376\ttotal: 4.66s\tremaining: 7.38s\n",
      "387:\tlearn: 0.3841242\ttotal: 4.67s\tremaining: 7.37s\n",
      "388:\tlearn: 0.3840655\ttotal: 4.69s\tremaining: 7.36s\n",
      "389:\tlearn: 0.3840655\ttotal: 4.69s\tremaining: 7.33s\n",
      "390:\tlearn: 0.3840587\ttotal: 4.7s\tremaining: 7.33s\n",
      "391:\tlearn: 0.3839539\ttotal: 4.72s\tremaining: 7.32s\n",
      "392:\tlearn: 0.3838469\ttotal: 4.73s\tremaining: 7.31s\n",
      "393:\tlearn: 0.3838443\ttotal: 4.74s\tremaining: 7.29s\n",
      "394:\tlearn: 0.3838384\ttotal: 4.75s\tremaining: 7.27s\n",
      "395:\tlearn: 0.3838369\ttotal: 4.75s\tremaining: 7.25s\n",
      "396:\tlearn: 0.3836967\ttotal: 4.77s\tremaining: 7.25s\n",
      "397:\tlearn: 0.3836967\ttotal: 4.77s\tremaining: 7.22s\n",
      "398:\tlearn: 0.3836955\ttotal: 4.78s\tremaining: 7.2s\n",
      "399:\tlearn: 0.3836473\ttotal: 4.79s\tremaining: 7.19s\n",
      "400:\tlearn: 0.3836336\ttotal: 4.81s\tremaining: 7.18s\n",
      "401:\tlearn: 0.3834334\ttotal: 4.82s\tremaining: 7.17s\n",
      "402:\tlearn: 0.3834327\ttotal: 4.83s\tremaining: 7.15s\n",
      "403:\tlearn: 0.3832634\ttotal: 4.84s\tremaining: 7.14s\n",
      "404:\tlearn: 0.3832185\ttotal: 4.85s\tremaining: 7.12s\n",
      "405:\tlearn: 0.3830128\ttotal: 4.86s\tremaining: 7.12s\n",
      "406:\tlearn: 0.3829480\ttotal: 4.88s\tremaining: 7.11s\n",
      "407:\tlearn: 0.3828480\ttotal: 4.89s\tremaining: 7.1s\n",
      "408:\tlearn: 0.3827767\ttotal: 4.91s\tremaining: 7.09s\n",
      "409:\tlearn: 0.3825442\ttotal: 4.92s\tremaining: 7.09s\n",
      "410:\tlearn: 0.3824305\ttotal: 4.94s\tremaining: 7.08s\n",
      "411:\tlearn: 0.3823802\ttotal: 4.96s\tremaining: 7.08s\n",
      "412:\tlearn: 0.3822979\ttotal: 4.97s\tremaining: 7.07s\n",
      "413:\tlearn: 0.3822605\ttotal: 4.99s\tremaining: 7.06s\n",
      "414:\tlearn: 0.3822605\ttotal: 4.99s\tremaining: 7.03s\n",
      "415:\tlearn: 0.3821660\ttotal: 5s\tremaining: 7.02s\n",
      "416:\tlearn: 0.3821441\ttotal: 5.02s\tremaining: 7.02s\n",
      "417:\tlearn: 0.3820526\ttotal: 5.04s\tremaining: 7.01s\n",
      "418:\tlearn: 0.3819996\ttotal: 5.05s\tremaining: 7s\n",
      "419:\tlearn: 0.3819195\ttotal: 5.07s\tremaining: 7s\n",
      "420:\tlearn: 0.3817611\ttotal: 5.08s\tremaining: 6.99s\n",
      "421:\tlearn: 0.3816217\ttotal: 5.1s\tremaining: 6.98s\n",
      "422:\tlearn: 0.3815155\ttotal: 5.11s\tremaining: 6.97s\n",
      "423:\tlearn: 0.3813884\ttotal: 5.13s\tremaining: 6.97s\n",
      "424:\tlearn: 0.3813449\ttotal: 5.14s\tremaining: 6.95s\n",
      "425:\tlearn: 0.3812270\ttotal: 5.15s\tremaining: 6.94s\n",
      "426:\tlearn: 0.3811839\ttotal: 5.17s\tremaining: 6.93s\n",
      "427:\tlearn: 0.3811555\ttotal: 5.18s\tremaining: 6.92s\n",
      "428:\tlearn: 0.3809611\ttotal: 5.19s\tremaining: 6.91s\n",
      "429:\tlearn: 0.3809386\ttotal: 5.2s\tremaining: 6.89s\n",
      "430:\tlearn: 0.3807816\ttotal: 5.21s\tremaining: 6.88s\n",
      "431:\tlearn: 0.3806749\ttotal: 5.23s\tremaining: 6.87s\n",
      "432:\tlearn: 0.3805578\ttotal: 5.24s\tremaining: 6.87s\n",
      "433:\tlearn: 0.3805253\ttotal: 5.26s\tremaining: 6.86s\n",
      "434:\tlearn: 0.3804038\ttotal: 5.27s\tremaining: 6.85s\n",
      "435:\tlearn: 0.3802756\ttotal: 5.29s\tremaining: 6.84s\n",
      "436:\tlearn: 0.3800962\ttotal: 5.3s\tremaining: 6.83s\n",
      "437:\tlearn: 0.3800513\ttotal: 5.32s\tremaining: 6.83s\n",
      "438:\tlearn: 0.3800513\ttotal: 5.32s\tremaining: 6.8s\n",
      "439:\tlearn: 0.3799556\ttotal: 5.34s\tremaining: 6.8s\n",
      "440:\tlearn: 0.3798697\ttotal: 5.36s\tremaining: 6.79s\n",
      "441:\tlearn: 0.3797926\ttotal: 5.37s\tremaining: 6.78s\n",
      "442:\tlearn: 0.3796910\ttotal: 5.38s\tremaining: 6.77s\n",
      "443:\tlearn: 0.3795315\ttotal: 5.4s\tremaining: 6.76s\n",
      "444:\tlearn: 0.3794347\ttotal: 5.42s\tremaining: 6.75s\n",
      "445:\tlearn: 0.3793415\ttotal: 5.43s\tremaining: 6.75s\n",
      "446:\tlearn: 0.3793115\ttotal: 5.45s\tremaining: 6.75s\n",
      "447:\tlearn: 0.3793101\ttotal: 5.46s\tremaining: 6.72s\n",
      "448:\tlearn: 0.3792906\ttotal: 5.46s\tremaining: 6.7s\n",
      "449:\tlearn: 0.3792825\ttotal: 5.47s\tremaining: 6.68s\n",
      "450:\tlearn: 0.3792825\ttotal: 5.47s\tremaining: 6.66s\n",
      "451:\tlearn: 0.3790574\ttotal: 5.49s\tremaining: 6.65s\n",
      "452:\tlearn: 0.3789933\ttotal: 5.52s\tremaining: 6.66s\n",
      "453:\tlearn: 0.3788960\ttotal: 5.53s\tremaining: 6.65s\n",
      "454:\tlearn: 0.3786993\ttotal: 5.55s\tremaining: 6.65s\n",
      "455:\tlearn: 0.3784706\ttotal: 5.56s\tremaining: 6.64s\n",
      "456:\tlearn: 0.3783733\ttotal: 5.58s\tremaining: 6.63s\n",
      "457:\tlearn: 0.3782749\ttotal: 5.59s\tremaining: 6.62s\n",
      "458:\tlearn: 0.3781190\ttotal: 5.61s\tremaining: 6.61s\n",
      "459:\tlearn: 0.3781189\ttotal: 5.61s\tremaining: 6.59s\n",
      "460:\tlearn: 0.3779008\ttotal: 5.63s\tremaining: 6.58s\n",
      "461:\tlearn: 0.3777416\ttotal: 5.65s\tremaining: 6.58s\n",
      "462:\tlearn: 0.3777073\ttotal: 5.66s\tremaining: 6.56s\n",
      "463:\tlearn: 0.3776053\ttotal: 5.67s\tremaining: 6.55s\n",
      "464:\tlearn: 0.3775632\ttotal: 5.69s\tremaining: 6.54s\n",
      "465:\tlearn: 0.3775547\ttotal: 5.69s\tremaining: 6.52s\n",
      "466:\tlearn: 0.3774602\ttotal: 5.71s\tremaining: 6.51s\n",
      "467:\tlearn: 0.3772469\ttotal: 5.72s\tremaining: 6.5s\n",
      "468:\tlearn: 0.3771229\ttotal: 5.74s\tremaining: 6.49s\n",
      "469:\tlearn: 0.3769798\ttotal: 5.75s\tremaining: 6.49s\n",
      "470:\tlearn: 0.3769144\ttotal: 5.77s\tremaining: 6.48s\n",
      "471:\tlearn: 0.3768544\ttotal: 5.78s\tremaining: 6.47s\n",
      "472:\tlearn: 0.3768116\ttotal: 5.8s\tremaining: 6.46s\n",
      "473:\tlearn: 0.3767843\ttotal: 5.81s\tremaining: 6.45s\n",
      "474:\tlearn: 0.3766994\ttotal: 5.82s\tremaining: 6.44s\n",
      "475:\tlearn: 0.3764660\ttotal: 5.84s\tremaining: 6.43s\n",
      "476:\tlearn: 0.3761862\ttotal: 5.86s\tremaining: 6.42s\n",
      "477:\tlearn: 0.3759633\ttotal: 5.88s\tremaining: 6.42s\n",
      "478:\tlearn: 0.3759354\ttotal: 5.89s\tremaining: 6.4s\n",
      "479:\tlearn: 0.3758852\ttotal: 5.9s\tremaining: 6.39s\n",
      "480:\tlearn: 0.3757945\ttotal: 5.91s\tremaining: 6.38s\n",
      "481:\tlearn: 0.3756094\ttotal: 5.93s\tremaining: 6.37s\n",
      "482:\tlearn: 0.3755350\ttotal: 5.94s\tremaining: 6.36s\n",
      "483:\tlearn: 0.3754102\ttotal: 5.96s\tremaining: 6.35s\n",
      "484:\tlearn: 0.3752288\ttotal: 5.97s\tremaining: 6.34s\n",
      "485:\tlearn: 0.3751229\ttotal: 5.99s\tremaining: 6.33s\n",
      "486:\tlearn: 0.3750601\ttotal: 6s\tremaining: 6.32s\n",
      "487:\tlearn: 0.3749816\ttotal: 6.02s\tremaining: 6.32s\n",
      "488:\tlearn: 0.3748840\ttotal: 6.04s\tremaining: 6.31s\n",
      "489:\tlearn: 0.3747618\ttotal: 6.05s\tremaining: 6.3s\n",
      "490:\tlearn: 0.3744820\ttotal: 6.07s\tremaining: 6.29s\n",
      "491:\tlearn: 0.3744437\ttotal: 6.08s\tremaining: 6.28s\n",
      "492:\tlearn: 0.3742538\ttotal: 6.1s\tremaining: 6.27s\n",
      "493:\tlearn: 0.3741750\ttotal: 6.11s\tremaining: 6.26s\n",
      "494:\tlearn: 0.3739479\ttotal: 6.13s\tremaining: 6.25s\n",
      "495:\tlearn: 0.3737041\ttotal: 6.14s\tremaining: 6.24s\n",
      "496:\tlearn: 0.3733950\ttotal: 6.16s\tremaining: 6.23s\n",
      "497:\tlearn: 0.3733291\ttotal: 6.17s\tremaining: 6.22s\n",
      "498:\tlearn: 0.3731679\ttotal: 6.18s\tremaining: 6.21s\n",
      "499:\tlearn: 0.3729292\ttotal: 6.2s\tremaining: 6.2s\n",
      "500:\tlearn: 0.3727793\ttotal: 6.21s\tremaining: 6.19s\n",
      "501:\tlearn: 0.3726432\ttotal: 6.23s\tremaining: 6.18s\n",
      "502:\tlearn: 0.3724003\ttotal: 6.25s\tremaining: 6.17s\n",
      "503:\tlearn: 0.3722813\ttotal: 6.26s\tremaining: 6.16s\n",
      "504:\tlearn: 0.3720150\ttotal: 6.28s\tremaining: 6.16s\n",
      "505:\tlearn: 0.3719796\ttotal: 6.3s\tremaining: 6.15s\n",
      "506:\tlearn: 0.3719651\ttotal: 6.31s\tremaining: 6.13s\n",
      "507:\tlearn: 0.3719363\ttotal: 6.32s\tremaining: 6.12s\n",
      "508:\tlearn: 0.3717927\ttotal: 6.34s\tremaining: 6.11s\n",
      "509:\tlearn: 0.3716745\ttotal: 6.35s\tremaining: 6.1s\n",
      "510:\tlearn: 0.3715925\ttotal: 6.37s\tremaining: 6.09s\n",
      "511:\tlearn: 0.3714454\ttotal: 6.38s\tremaining: 6.08s\n",
      "512:\tlearn: 0.3712417\ttotal: 6.39s\tremaining: 6.07s\n",
      "513:\tlearn: 0.3712204\ttotal: 6.41s\tremaining: 6.06s\n",
      "514:\tlearn: 0.3711872\ttotal: 6.42s\tremaining: 6.05s\n",
      "515:\tlearn: 0.3710834\ttotal: 6.44s\tremaining: 6.04s\n",
      "516:\tlearn: 0.3710130\ttotal: 6.45s\tremaining: 6.03s\n",
      "517:\tlearn: 0.3707672\ttotal: 6.46s\tremaining: 6.01s\n",
      "518:\tlearn: 0.3705935\ttotal: 6.49s\tremaining: 6.01s\n",
      "519:\tlearn: 0.3705057\ttotal: 6.5s\tremaining: 6s\n",
      "520:\tlearn: 0.3703528\ttotal: 6.52s\tremaining: 6s\n",
      "521:\tlearn: 0.3701911\ttotal: 6.54s\tremaining: 5.99s\n",
      "522:\tlearn: 0.3700950\ttotal: 6.55s\tremaining: 5.98s\n",
      "523:\tlearn: 0.3699014\ttotal: 6.57s\tremaining: 5.97s\n",
      "524:\tlearn: 0.3696830\ttotal: 6.58s\tremaining: 5.96s\n",
      "525:\tlearn: 0.3695592\ttotal: 6.6s\tremaining: 5.95s\n",
      "526:\tlearn: 0.3694392\ttotal: 6.62s\tremaining: 5.94s\n",
      "527:\tlearn: 0.3693108\ttotal: 6.63s\tremaining: 5.93s\n",
      "528:\tlearn: 0.3692178\ttotal: 6.65s\tremaining: 5.92s\n",
      "529:\tlearn: 0.3689859\ttotal: 6.66s\tremaining: 5.91s\n",
      "530:\tlearn: 0.3689003\ttotal: 6.68s\tremaining: 5.9s\n",
      "531:\tlearn: 0.3688408\ttotal: 6.7s\tremaining: 5.89s\n",
      "532:\tlearn: 0.3687961\ttotal: 6.71s\tremaining: 5.88s\n",
      "533:\tlearn: 0.3686040\ttotal: 6.73s\tremaining: 5.87s\n",
      "534:\tlearn: 0.3685146\ttotal: 6.74s\tremaining: 5.86s\n",
      "535:\tlearn: 0.3684720\ttotal: 6.76s\tremaining: 5.85s\n",
      "536:\tlearn: 0.3683123\ttotal: 6.77s\tremaining: 5.84s\n",
      "537:\tlearn: 0.3680774\ttotal: 6.79s\tremaining: 5.83s\n",
      "538:\tlearn: 0.3680325\ttotal: 6.8s\tremaining: 5.82s\n",
      "539:\tlearn: 0.3679317\ttotal: 6.82s\tremaining: 5.81s\n",
      "540:\tlearn: 0.3678275\ttotal: 6.83s\tremaining: 5.79s\n",
      "541:\tlearn: 0.3677243\ttotal: 6.84s\tremaining: 5.78s\n",
      "542:\tlearn: 0.3675254\ttotal: 6.86s\tremaining: 5.77s\n",
      "543:\tlearn: 0.3673664\ttotal: 6.87s\tremaining: 5.76s\n",
      "544:\tlearn: 0.3672810\ttotal: 6.89s\tremaining: 5.75s\n",
      "545:\tlearn: 0.3671397\ttotal: 6.91s\tremaining: 5.75s\n",
      "546:\tlearn: 0.3669351\ttotal: 6.93s\tremaining: 5.74s\n",
      "547:\tlearn: 0.3668932\ttotal: 6.94s\tremaining: 5.72s\n",
      "548:\tlearn: 0.3667044\ttotal: 6.96s\tremaining: 5.71s\n",
      "549:\tlearn: 0.3665993\ttotal: 6.97s\tremaining: 5.7s\n",
      "550:\tlearn: 0.3664318\ttotal: 6.99s\tremaining: 5.69s\n",
      "551:\tlearn: 0.3662676\ttotal: 7s\tremaining: 5.68s\n",
      "552:\tlearn: 0.3661394\ttotal: 7.01s\tremaining: 5.67s\n",
      "553:\tlearn: 0.3658688\ttotal: 7.03s\tremaining: 5.66s\n",
      "554:\tlearn: 0.3658015\ttotal: 7.05s\tremaining: 5.65s\n",
      "555:\tlearn: 0.3656600\ttotal: 7.06s\tremaining: 5.64s\n",
      "556:\tlearn: 0.3654625\ttotal: 7.08s\tremaining: 5.63s\n",
      "557:\tlearn: 0.3653292\ttotal: 7.09s\tremaining: 5.62s\n",
      "558:\tlearn: 0.3652777\ttotal: 7.11s\tremaining: 5.61s\n",
      "559:\tlearn: 0.3652493\ttotal: 7.13s\tremaining: 5.6s\n",
      "560:\tlearn: 0.3651950\ttotal: 7.15s\tremaining: 5.59s\n",
      "561:\tlearn: 0.3649172\ttotal: 7.16s\tremaining: 5.58s\n",
      "562:\tlearn: 0.3646886\ttotal: 7.18s\tremaining: 5.57s\n",
      "563:\tlearn: 0.3645510\ttotal: 7.19s\tremaining: 5.56s\n",
      "564:\tlearn: 0.3644832\ttotal: 7.21s\tremaining: 5.55s\n",
      "565:\tlearn: 0.3643821\ttotal: 7.22s\tremaining: 5.54s\n",
      "566:\tlearn: 0.3642986\ttotal: 7.24s\tremaining: 5.53s\n",
      "567:\tlearn: 0.3642432\ttotal: 7.25s\tremaining: 5.52s\n",
      "568:\tlearn: 0.3641580\ttotal: 7.27s\tremaining: 5.5s\n",
      "569:\tlearn: 0.3640259\ttotal: 7.28s\tremaining: 5.49s\n",
      "570:\tlearn: 0.3639292\ttotal: 7.3s\tremaining: 5.48s\n",
      "571:\tlearn: 0.3639189\ttotal: 7.32s\tremaining: 5.48s\n",
      "572:\tlearn: 0.3636712\ttotal: 7.34s\tremaining: 5.47s\n",
      "573:\tlearn: 0.3635009\ttotal: 7.35s\tremaining: 5.46s\n",
      "574:\tlearn: 0.3634683\ttotal: 7.37s\tremaining: 5.45s\n",
      "575:\tlearn: 0.3633361\ttotal: 7.39s\tremaining: 5.44s\n",
      "576:\tlearn: 0.3633197\ttotal: 7.4s\tremaining: 5.43s\n",
      "577:\tlearn: 0.3631044\ttotal: 7.42s\tremaining: 5.42s\n",
      "578:\tlearn: 0.3628314\ttotal: 7.43s\tremaining: 5.4s\n",
      "579:\tlearn: 0.3627407\ttotal: 7.45s\tremaining: 5.39s\n",
      "580:\tlearn: 0.3625921\ttotal: 7.46s\tremaining: 5.38s\n",
      "581:\tlearn: 0.3623774\ttotal: 7.47s\tremaining: 5.37s\n",
      "582:\tlearn: 0.3621894\ttotal: 7.49s\tremaining: 5.36s\n",
      "583:\tlearn: 0.3621117\ttotal: 7.51s\tremaining: 5.35s\n",
      "584:\tlearn: 0.3619942\ttotal: 7.53s\tremaining: 5.34s\n",
      "585:\tlearn: 0.3618573\ttotal: 7.54s\tremaining: 5.33s\n",
      "586:\tlearn: 0.3617293\ttotal: 7.56s\tremaining: 5.32s\n",
      "587:\tlearn: 0.3616245\ttotal: 7.58s\tremaining: 5.31s\n",
      "588:\tlearn: 0.3614381\ttotal: 7.59s\tremaining: 5.3s\n",
      "589:\tlearn: 0.3613254\ttotal: 7.61s\tremaining: 5.29s\n",
      "590:\tlearn: 0.3611558\ttotal: 7.63s\tremaining: 5.28s\n",
      "591:\tlearn: 0.3609808\ttotal: 7.64s\tremaining: 5.26s\n",
      "592:\tlearn: 0.3608742\ttotal: 7.66s\tremaining: 5.25s\n",
      "593:\tlearn: 0.3608639\ttotal: 7.67s\tremaining: 5.24s\n",
      "594:\tlearn: 0.3607153\ttotal: 7.68s\tremaining: 5.23s\n",
      "595:\tlearn: 0.3604810\ttotal: 7.7s\tremaining: 5.22s\n",
      "596:\tlearn: 0.3603970\ttotal: 7.72s\tremaining: 5.21s\n",
      "597:\tlearn: 0.3602176\ttotal: 7.74s\tremaining: 5.2s\n",
      "598:\tlearn: 0.3601638\ttotal: 7.76s\tremaining: 5.19s\n",
      "599:\tlearn: 0.3599826\ttotal: 7.77s\tremaining: 5.18s\n",
      "600:\tlearn: 0.3598362\ttotal: 7.79s\tremaining: 5.17s\n",
      "601:\tlearn: 0.3596575\ttotal: 7.8s\tremaining: 5.16s\n",
      "602:\tlearn: 0.3595506\ttotal: 7.82s\tremaining: 5.15s\n",
      "603:\tlearn: 0.3593832\ttotal: 7.84s\tremaining: 5.14s\n",
      "604:\tlearn: 0.3591903\ttotal: 7.86s\tremaining: 5.13s\n",
      "605:\tlearn: 0.3590977\ttotal: 7.87s\tremaining: 5.12s\n",
      "606:\tlearn: 0.3590656\ttotal: 7.89s\tremaining: 5.11s\n",
      "607:\tlearn: 0.3589032\ttotal: 7.9s\tremaining: 5.09s\n",
      "608:\tlearn: 0.3588657\ttotal: 7.92s\tremaining: 5.08s\n",
      "609:\tlearn: 0.3586461\ttotal: 7.93s\tremaining: 5.07s\n",
      "610:\tlearn: 0.3585204\ttotal: 7.95s\tremaining: 5.06s\n",
      "611:\tlearn: 0.3584988\ttotal: 7.97s\tremaining: 5.05s\n",
      "612:\tlearn: 0.3584137\ttotal: 7.98s\tremaining: 5.04s\n",
      "613:\tlearn: 0.3582005\ttotal: 8s\tremaining: 5.03s\n",
      "614:\tlearn: 0.3580290\ttotal: 8.01s\tremaining: 5.02s\n",
      "615:\tlearn: 0.3579919\ttotal: 8.03s\tremaining: 5s\n",
      "616:\tlearn: 0.3579207\ttotal: 8.04s\tremaining: 4.99s\n",
      "617:\tlearn: 0.3577642\ttotal: 8.06s\tremaining: 4.98s\n",
      "618:\tlearn: 0.3577110\ttotal: 8.08s\tremaining: 4.97s\n",
      "619:\tlearn: 0.3575777\ttotal: 8.09s\tremaining: 4.96s\n",
      "620:\tlearn: 0.3574969\ttotal: 8.11s\tremaining: 4.95s\n",
      "621:\tlearn: 0.3573851\ttotal: 8.12s\tremaining: 4.94s\n",
      "622:\tlearn: 0.3573441\ttotal: 8.14s\tremaining: 4.92s\n",
      "623:\tlearn: 0.3572920\ttotal: 8.16s\tremaining: 4.92s\n",
      "624:\tlearn: 0.3571162\ttotal: 8.18s\tremaining: 4.91s\n",
      "625:\tlearn: 0.3570017\ttotal: 8.19s\tremaining: 4.89s\n",
      "626:\tlearn: 0.3569313\ttotal: 8.21s\tremaining: 4.88s\n",
      "627:\tlearn: 0.3568608\ttotal: 8.22s\tremaining: 4.87s\n",
      "628:\tlearn: 0.3568494\ttotal: 8.24s\tremaining: 4.86s\n",
      "629:\tlearn: 0.3567501\ttotal: 8.25s\tremaining: 4.85s\n",
      "630:\tlearn: 0.3566778\ttotal: 8.27s\tremaining: 4.84s\n",
      "631:\tlearn: 0.3565773\ttotal: 8.29s\tremaining: 4.83s\n",
      "632:\tlearn: 0.3565356\ttotal: 8.31s\tremaining: 4.82s\n",
      "633:\tlearn: 0.3565005\ttotal: 8.32s\tremaining: 4.8s\n",
      "634:\tlearn: 0.3564006\ttotal: 8.34s\tremaining: 4.79s\n",
      "635:\tlearn: 0.3562832\ttotal: 8.35s\tremaining: 4.78s\n",
      "636:\tlearn: 0.3561627\ttotal: 8.37s\tremaining: 4.77s\n",
      "637:\tlearn: 0.3560949\ttotal: 8.39s\tremaining: 4.76s\n",
      "638:\tlearn: 0.3560600\ttotal: 8.4s\tremaining: 4.75s\n",
      "639:\tlearn: 0.3559547\ttotal: 8.42s\tremaining: 4.73s\n",
      "640:\tlearn: 0.3558912\ttotal: 8.43s\tremaining: 4.72s\n",
      "641:\tlearn: 0.3558522\ttotal: 8.45s\tremaining: 4.71s\n",
      "642:\tlearn: 0.3557256\ttotal: 8.46s\tremaining: 4.7s\n",
      "643:\tlearn: 0.3555498\ttotal: 8.48s\tremaining: 4.69s\n",
      "644:\tlearn: 0.3554296\ttotal: 8.49s\tremaining: 4.67s\n",
      "645:\tlearn: 0.3553206\ttotal: 8.51s\tremaining: 4.66s\n",
      "646:\tlearn: 0.3551569\ttotal: 8.53s\tremaining: 4.66s\n",
      "647:\tlearn: 0.3549499\ttotal: 8.55s\tremaining: 4.64s\n",
      "648:\tlearn: 0.3548301\ttotal: 8.56s\tremaining: 4.63s\n",
      "649:\tlearn: 0.3546431\ttotal: 8.58s\tremaining: 4.62s\n",
      "650:\tlearn: 0.3545273\ttotal: 8.6s\tremaining: 4.61s\n",
      "651:\tlearn: 0.3543379\ttotal: 8.61s\tremaining: 4.6s\n",
      "652:\tlearn: 0.3541814\ttotal: 8.63s\tremaining: 4.58s\n",
      "653:\tlearn: 0.3541395\ttotal: 8.64s\tremaining: 4.57s\n",
      "654:\tlearn: 0.3540264\ttotal: 8.66s\tremaining: 4.56s\n",
      "655:\tlearn: 0.3539402\ttotal: 8.67s\tremaining: 4.55s\n",
      "656:\tlearn: 0.3539108\ttotal: 8.69s\tremaining: 4.54s\n",
      "657:\tlearn: 0.3537062\ttotal: 8.7s\tremaining: 4.52s\n",
      "658:\tlearn: 0.3535489\ttotal: 8.72s\tremaining: 4.51s\n",
      "659:\tlearn: 0.3534389\ttotal: 8.73s\tremaining: 4.5s\n",
      "660:\tlearn: 0.3533750\ttotal: 8.75s\tremaining: 4.49s\n",
      "661:\tlearn: 0.3532700\ttotal: 8.77s\tremaining: 4.48s\n",
      "662:\tlearn: 0.3532277\ttotal: 8.79s\tremaining: 4.47s\n",
      "663:\tlearn: 0.3530480\ttotal: 8.8s\tremaining: 4.45s\n",
      "664:\tlearn: 0.3529787\ttotal: 8.81s\tremaining: 4.44s\n",
      "665:\tlearn: 0.3527500\ttotal: 8.83s\tremaining: 4.43s\n",
      "666:\tlearn: 0.3526996\ttotal: 8.84s\tremaining: 4.42s\n",
      "667:\tlearn: 0.3526358\ttotal: 8.86s\tremaining: 4.4s\n",
      "668:\tlearn: 0.3525989\ttotal: 8.87s\tremaining: 4.39s\n",
      "669:\tlearn: 0.3524926\ttotal: 8.89s\tremaining: 4.38s\n",
      "670:\tlearn: 0.3523280\ttotal: 8.9s\tremaining: 4.37s\n",
      "671:\tlearn: 0.3521568\ttotal: 8.92s\tremaining: 4.35s\n",
      "672:\tlearn: 0.3520324\ttotal: 8.94s\tremaining: 4.34s\n",
      "673:\tlearn: 0.3519618\ttotal: 8.95s\tremaining: 4.33s\n",
      "674:\tlearn: 0.3518475\ttotal: 8.97s\tremaining: 4.32s\n",
      "675:\tlearn: 0.3517113\ttotal: 8.99s\tremaining: 4.31s\n",
      "676:\tlearn: 0.3515483\ttotal: 9.01s\tremaining: 4.3s\n",
      "677:\tlearn: 0.3514760\ttotal: 9.02s\tremaining: 4.28s\n",
      "678:\tlearn: 0.3513114\ttotal: 9.04s\tremaining: 4.27s\n",
      "679:\tlearn: 0.3512225\ttotal: 9.05s\tremaining: 4.26s\n",
      "680:\tlearn: 0.3511650\ttotal: 9.07s\tremaining: 4.25s\n",
      "681:\tlearn: 0.3510483\ttotal: 9.08s\tremaining: 4.24s\n",
      "682:\tlearn: 0.3509996\ttotal: 9.1s\tremaining: 4.22s\n",
      "683:\tlearn: 0.3509575\ttotal: 9.11s\tremaining: 4.21s\n",
      "684:\tlearn: 0.3509121\ttotal: 9.13s\tremaining: 4.2s\n",
      "685:\tlearn: 0.3508131\ttotal: 9.14s\tremaining: 4.18s\n",
      "686:\tlearn: 0.3507432\ttotal: 9.15s\tremaining: 4.17s\n",
      "687:\tlearn: 0.3506151\ttotal: 9.17s\tremaining: 4.16s\n",
      "688:\tlearn: 0.3504952\ttotal: 9.19s\tremaining: 4.15s\n",
      "689:\tlearn: 0.3504205\ttotal: 9.21s\tremaining: 4.13s\n",
      "690:\tlearn: 0.3503654\ttotal: 9.22s\tremaining: 4.12s\n",
      "691:\tlearn: 0.3502477\ttotal: 9.24s\tremaining: 4.11s\n",
      "692:\tlearn: 0.3501013\ttotal: 9.25s\tremaining: 4.1s\n",
      "693:\tlearn: 0.3500676\ttotal: 9.27s\tremaining: 4.08s\n",
      "694:\tlearn: 0.3499399\ttotal: 9.28s\tremaining: 4.07s\n",
      "695:\tlearn: 0.3498035\ttotal: 9.3s\tremaining: 4.06s\n",
      "696:\tlearn: 0.3497576\ttotal: 9.31s\tremaining: 4.05s\n",
      "697:\tlearn: 0.3497189\ttotal: 9.33s\tremaining: 4.04s\n",
      "698:\tlearn: 0.3496243\ttotal: 9.34s\tremaining: 4.02s\n",
      "699:\tlearn: 0.3495361\ttotal: 9.36s\tremaining: 4.01s\n",
      "700:\tlearn: 0.3494624\ttotal: 9.37s\tremaining: 4s\n",
      "701:\tlearn: 0.3492557\ttotal: 9.38s\tremaining: 3.98s\n",
      "702:\tlearn: 0.3491276\ttotal: 9.4s\tremaining: 3.97s\n",
      "703:\tlearn: 0.3489763\ttotal: 9.42s\tremaining: 3.96s\n",
      "704:\tlearn: 0.3488645\ttotal: 9.44s\tremaining: 3.95s\n",
      "705:\tlearn: 0.3487650\ttotal: 9.46s\tremaining: 3.94s\n",
      "706:\tlearn: 0.3486919\ttotal: 9.47s\tremaining: 3.92s\n",
      "707:\tlearn: 0.3485967\ttotal: 9.49s\tremaining: 3.91s\n",
      "708:\tlearn: 0.3485517\ttotal: 9.5s\tremaining: 3.9s\n",
      "709:\tlearn: 0.3485251\ttotal: 9.53s\tremaining: 3.89s\n",
      "710:\tlearn: 0.3484342\ttotal: 9.54s\tremaining: 3.88s\n",
      "711:\tlearn: 0.3483010\ttotal: 9.56s\tremaining: 3.87s\n",
      "712:\tlearn: 0.3481973\ttotal: 9.57s\tremaining: 3.85s\n",
      "713:\tlearn: 0.3481312\ttotal: 9.59s\tremaining: 3.84s\n",
      "714:\tlearn: 0.3480526\ttotal: 9.6s\tremaining: 3.83s\n",
      "715:\tlearn: 0.3479238\ttotal: 9.62s\tremaining: 3.81s\n",
      "716:\tlearn: 0.3477306\ttotal: 9.64s\tremaining: 3.8s\n",
      "717:\tlearn: 0.3476919\ttotal: 9.65s\tremaining: 3.79s\n",
      "718:\tlearn: 0.3476278\ttotal: 9.67s\tremaining: 3.78s\n",
      "719:\tlearn: 0.3475464\ttotal: 9.69s\tremaining: 3.77s\n",
      "720:\tlearn: 0.3474801\ttotal: 9.71s\tremaining: 3.75s\n",
      "721:\tlearn: 0.3473264\ttotal: 9.72s\tremaining: 3.74s\n",
      "722:\tlearn: 0.3472579\ttotal: 9.74s\tremaining: 3.73s\n",
      "723:\tlearn: 0.3471237\ttotal: 9.75s\tremaining: 3.72s\n",
      "724:\tlearn: 0.3469266\ttotal: 9.77s\tremaining: 3.71s\n",
      "725:\tlearn: 0.3467737\ttotal: 9.78s\tremaining: 3.69s\n",
      "726:\tlearn: 0.3467039\ttotal: 9.8s\tremaining: 3.68s\n",
      "727:\tlearn: 0.3465386\ttotal: 9.81s\tremaining: 3.67s\n",
      "728:\tlearn: 0.3465028\ttotal: 9.83s\tremaining: 3.65s\n",
      "729:\tlearn: 0.3464725\ttotal: 9.85s\tremaining: 3.64s\n",
      "730:\tlearn: 0.3463899\ttotal: 9.86s\tremaining: 3.63s\n",
      "731:\tlearn: 0.3463041\ttotal: 9.88s\tremaining: 3.62s\n",
      "732:\tlearn: 0.3462360\ttotal: 9.9s\tremaining: 3.6s\n",
      "733:\tlearn: 0.3460964\ttotal: 9.91s\tremaining: 3.59s\n",
      "734:\tlearn: 0.3460222\ttotal: 9.93s\tremaining: 3.58s\n",
      "735:\tlearn: 0.3459854\ttotal: 9.95s\tremaining: 3.57s\n",
      "736:\tlearn: 0.3458800\ttotal: 9.96s\tremaining: 3.56s\n",
      "737:\tlearn: 0.3458432\ttotal: 9.98s\tremaining: 3.54s\n",
      "738:\tlearn: 0.3456914\ttotal: 9.99s\tremaining: 3.53s\n",
      "739:\tlearn: 0.3455664\ttotal: 10s\tremaining: 3.52s\n",
      "740:\tlearn: 0.3455061\ttotal: 10s\tremaining: 3.5s\n",
      "741:\tlearn: 0.3453658\ttotal: 10s\tremaining: 3.49s\n",
      "742:\tlearn: 0.3452644\ttotal: 10.1s\tremaining: 3.48s\n",
      "743:\tlearn: 0.3451571\ttotal: 10.1s\tremaining: 3.46s\n",
      "744:\tlearn: 0.3450993\ttotal: 10.1s\tremaining: 3.45s\n",
      "745:\tlearn: 0.3450243\ttotal: 10.1s\tremaining: 3.44s\n",
      "746:\tlearn: 0.3449621\ttotal: 10.1s\tremaining: 3.43s\n",
      "747:\tlearn: 0.3448362\ttotal: 10.1s\tremaining: 3.41s\n",
      "748:\tlearn: 0.3447704\ttotal: 10.1s\tremaining: 3.4s\n",
      "749:\tlearn: 0.3446736\ttotal: 10.2s\tremaining: 3.39s\n",
      "750:\tlearn: 0.3445663\ttotal: 10.2s\tremaining: 3.38s\n",
      "751:\tlearn: 0.3445322\ttotal: 10.2s\tremaining: 3.36s\n",
      "752:\tlearn: 0.3444805\ttotal: 10.2s\tremaining: 3.35s\n",
      "753:\tlearn: 0.3443837\ttotal: 10.2s\tremaining: 3.34s\n",
      "754:\tlearn: 0.3443462\ttotal: 10.2s\tremaining: 3.32s\n",
      "755:\tlearn: 0.3441951\ttotal: 10.3s\tremaining: 3.31s\n",
      "756:\tlearn: 0.3441231\ttotal: 10.3s\tremaining: 3.3s\n",
      "757:\tlearn: 0.3439618\ttotal: 10.3s\tremaining: 3.29s\n",
      "758:\tlearn: 0.3438300\ttotal: 10.3s\tremaining: 3.27s\n",
      "759:\tlearn: 0.3437997\ttotal: 10.3s\tremaining: 3.26s\n",
      "760:\tlearn: 0.3436939\ttotal: 10.3s\tremaining: 3.25s\n",
      "761:\tlearn: 0.3435934\ttotal: 10.3s\tremaining: 3.23s\n",
      "762:\tlearn: 0.3435832\ttotal: 10.4s\tremaining: 3.22s\n",
      "763:\tlearn: 0.3434661\ttotal: 10.4s\tremaining: 3.21s\n",
      "764:\tlearn: 0.3433676\ttotal: 10.4s\tremaining: 3.19s\n",
      "765:\tlearn: 0.3432518\ttotal: 10.4s\tremaining: 3.18s\n",
      "766:\tlearn: 0.3432358\ttotal: 10.4s\tremaining: 3.17s\n",
      "767:\tlearn: 0.3430541\ttotal: 10.4s\tremaining: 3.15s\n",
      "768:\tlearn: 0.3429480\ttotal: 10.5s\tremaining: 3.14s\n",
      "769:\tlearn: 0.3428442\ttotal: 10.5s\tremaining: 3.13s\n",
      "770:\tlearn: 0.3427556\ttotal: 10.5s\tremaining: 3.12s\n",
      "771:\tlearn: 0.3426377\ttotal: 10.5s\tremaining: 3.1s\n",
      "772:\tlearn: 0.3424881\ttotal: 10.5s\tremaining: 3.09s\n",
      "773:\tlearn: 0.3422878\ttotal: 10.5s\tremaining: 3.08s\n",
      "774:\tlearn: 0.3422589\ttotal: 10.6s\tremaining: 3.06s\n",
      "775:\tlearn: 0.3421590\ttotal: 10.6s\tremaining: 3.05s\n",
      "776:\tlearn: 0.3420330\ttotal: 10.6s\tremaining: 3.04s\n",
      "777:\tlearn: 0.3419338\ttotal: 10.6s\tremaining: 3.03s\n",
      "778:\tlearn: 0.3418815\ttotal: 10.6s\tremaining: 3.01s\n",
      "779:\tlearn: 0.3417931\ttotal: 10.6s\tremaining: 3s\n",
      "780:\tlearn: 0.3417014\ttotal: 10.7s\tremaining: 2.99s\n",
      "781:\tlearn: 0.3416203\ttotal: 10.7s\tremaining: 2.97s\n",
      "782:\tlearn: 0.3415861\ttotal: 10.7s\tremaining: 2.96s\n",
      "783:\tlearn: 0.3414572\ttotal: 10.7s\tremaining: 2.95s\n",
      "784:\tlearn: 0.3413774\ttotal: 10.7s\tremaining: 2.94s\n",
      "785:\tlearn: 0.3413072\ttotal: 10.7s\tremaining: 2.92s\n",
      "786:\tlearn: 0.3412764\ttotal: 10.7s\tremaining: 2.91s\n",
      "787:\tlearn: 0.3412185\ttotal: 10.8s\tremaining: 2.9s\n",
      "788:\tlearn: 0.3410788\ttotal: 10.8s\tremaining: 2.88s\n",
      "789:\tlearn: 0.3410599\ttotal: 10.8s\tremaining: 2.87s\n",
      "790:\tlearn: 0.3409171\ttotal: 10.8s\tremaining: 2.86s\n",
      "791:\tlearn: 0.3407519\ttotal: 10.8s\tremaining: 2.85s\n",
      "792:\tlearn: 0.3407054\ttotal: 10.9s\tremaining: 2.83s\n",
      "793:\tlearn: 0.3405698\ttotal: 10.9s\tremaining: 2.82s\n",
      "794:\tlearn: 0.3403880\ttotal: 10.9s\tremaining: 2.81s\n",
      "795:\tlearn: 0.3403093\ttotal: 10.9s\tremaining: 2.8s\n",
      "796:\tlearn: 0.3402394\ttotal: 10.9s\tremaining: 2.78s\n",
      "797:\tlearn: 0.3402312\ttotal: 10.9s\tremaining: 2.77s\n",
      "798:\tlearn: 0.3401883\ttotal: 11s\tremaining: 2.76s\n",
      "799:\tlearn: 0.3401609\ttotal: 11s\tremaining: 2.74s\n",
      "800:\tlearn: 0.3400359\ttotal: 11s\tremaining: 2.73s\n",
      "801:\tlearn: 0.3398317\ttotal: 11s\tremaining: 2.72s\n",
      "802:\tlearn: 0.3397926\ttotal: 11s\tremaining: 2.7s\n",
      "803:\tlearn: 0.3396846\ttotal: 11s\tremaining: 2.69s\n",
      "804:\tlearn: 0.3396568\ttotal: 11.1s\tremaining: 2.68s\n",
      "805:\tlearn: 0.3395792\ttotal: 11.1s\tremaining: 2.66s\n",
      "806:\tlearn: 0.3394639\ttotal: 11.1s\tremaining: 2.65s\n",
      "807:\tlearn: 0.3393901\ttotal: 11.1s\tremaining: 2.64s\n",
      "808:\tlearn: 0.3393227\ttotal: 11.1s\tremaining: 2.63s\n",
      "809:\tlearn: 0.3392146\ttotal: 11.1s\tremaining: 2.61s\n",
      "810:\tlearn: 0.3391779\ttotal: 11.2s\tremaining: 2.6s\n",
      "811:\tlearn: 0.3391406\ttotal: 11.2s\tremaining: 2.59s\n",
      "812:\tlearn: 0.3390314\ttotal: 11.2s\tremaining: 2.57s\n",
      "813:\tlearn: 0.3390040\ttotal: 11.2s\tremaining: 2.56s\n",
      "814:\tlearn: 0.3389771\ttotal: 11.2s\tremaining: 2.54s\n",
      "815:\tlearn: 0.3388217\ttotal: 11.2s\tremaining: 2.53s\n",
      "816:\tlearn: 0.3387994\ttotal: 11.2s\tremaining: 2.52s\n",
      "817:\tlearn: 0.3387588\ttotal: 11.3s\tremaining: 2.5s\n",
      "818:\tlearn: 0.3386945\ttotal: 11.3s\tremaining: 2.49s\n",
      "819:\tlearn: 0.3385632\ttotal: 11.3s\tremaining: 2.48s\n",
      "820:\tlearn: 0.3385228\ttotal: 11.3s\tremaining: 2.47s\n",
      "821:\tlearn: 0.3384815\ttotal: 11.3s\tremaining: 2.45s\n",
      "822:\tlearn: 0.3384512\ttotal: 11.3s\tremaining: 2.44s\n",
      "823:\tlearn: 0.3383725\ttotal: 11.4s\tremaining: 2.43s\n",
      "824:\tlearn: 0.3383449\ttotal: 11.4s\tremaining: 2.41s\n",
      "825:\tlearn: 0.3382161\ttotal: 11.4s\tremaining: 2.4s\n",
      "826:\tlearn: 0.3381773\ttotal: 11.4s\tremaining: 2.39s\n",
      "827:\tlearn: 0.3381080\ttotal: 11.4s\tremaining: 2.37s\n",
      "828:\tlearn: 0.3380583\ttotal: 11.4s\tremaining: 2.36s\n",
      "829:\tlearn: 0.3379398\ttotal: 11.5s\tremaining: 2.35s\n",
      "830:\tlearn: 0.3377801\ttotal: 11.5s\tremaining: 2.33s\n",
      "831:\tlearn: 0.3376519\ttotal: 11.5s\tremaining: 2.32s\n",
      "832:\tlearn: 0.3375913\ttotal: 11.5s\tremaining: 2.31s\n",
      "833:\tlearn: 0.3375236\ttotal: 11.5s\tremaining: 2.29s\n",
      "834:\tlearn: 0.3373095\ttotal: 11.5s\tremaining: 2.28s\n",
      "835:\tlearn: 0.3372401\ttotal: 11.6s\tremaining: 2.27s\n",
      "836:\tlearn: 0.3371080\ttotal: 11.6s\tremaining: 2.25s\n",
      "837:\tlearn: 0.3370815\ttotal: 11.6s\tremaining: 2.24s\n",
      "838:\tlearn: 0.3370590\ttotal: 11.6s\tremaining: 2.23s\n",
      "839:\tlearn: 0.3370075\ttotal: 11.6s\tremaining: 2.21s\n",
      "840:\tlearn: 0.3368632\ttotal: 11.6s\tremaining: 2.2s\n",
      "841:\tlearn: 0.3367426\ttotal: 11.6s\tremaining: 2.18s\n",
      "842:\tlearn: 0.3366732\ttotal: 11.7s\tremaining: 2.17s\n",
      "843:\tlearn: 0.3365673\ttotal: 11.7s\tremaining: 2.16s\n",
      "844:\tlearn: 0.3365421\ttotal: 11.7s\tremaining: 2.14s\n",
      "845:\tlearn: 0.3364059\ttotal: 11.7s\tremaining: 2.13s\n",
      "846:\tlearn: 0.3363071\ttotal: 11.7s\tremaining: 2.12s\n",
      "847:\tlearn: 0.3361270\ttotal: 11.7s\tremaining: 2.1s\n",
      "848:\tlearn: 0.3359307\ttotal: 11.8s\tremaining: 2.09s\n",
      "849:\tlearn: 0.3357868\ttotal: 11.8s\tremaining: 2.08s\n",
      "850:\tlearn: 0.3357024\ttotal: 11.8s\tremaining: 2.06s\n",
      "851:\tlearn: 0.3355265\ttotal: 11.8s\tremaining: 2.05s\n",
      "852:\tlearn: 0.3354803\ttotal: 11.8s\tremaining: 2.04s\n",
      "853:\tlearn: 0.3353907\ttotal: 11.8s\tremaining: 2.02s\n",
      "854:\tlearn: 0.3353266\ttotal: 11.9s\tremaining: 2.01s\n",
      "855:\tlearn: 0.3351759\ttotal: 11.9s\tremaining: 2s\n",
      "856:\tlearn: 0.3350328\ttotal: 11.9s\tremaining: 1.98s\n",
      "857:\tlearn: 0.3348458\ttotal: 11.9s\tremaining: 1.97s\n",
      "858:\tlearn: 0.3348134\ttotal: 11.9s\tremaining: 1.96s\n",
      "859:\tlearn: 0.3346996\ttotal: 11.9s\tremaining: 1.94s\n",
      "860:\tlearn: 0.3346850\ttotal: 11.9s\tremaining: 1.93s\n",
      "861:\tlearn: 0.3346410\ttotal: 12s\tremaining: 1.91s\n",
      "862:\tlearn: 0.3344730\ttotal: 12s\tremaining: 1.9s\n",
      "863:\tlearn: 0.3344375\ttotal: 12s\tremaining: 1.89s\n",
      "864:\tlearn: 0.3343560\ttotal: 12s\tremaining: 1.87s\n",
      "865:\tlearn: 0.3343324\ttotal: 12s\tremaining: 1.86s\n",
      "866:\tlearn: 0.3342742\ttotal: 12s\tremaining: 1.85s\n",
      "867:\tlearn: 0.3340311\ttotal: 12.1s\tremaining: 1.83s\n",
      "868:\tlearn: 0.3339005\ttotal: 12.1s\tremaining: 1.82s\n",
      "869:\tlearn: 0.3337963\ttotal: 12.1s\tremaining: 1.81s\n",
      "870:\tlearn: 0.3337519\ttotal: 12.1s\tremaining: 1.79s\n",
      "871:\tlearn: 0.3337249\ttotal: 12.1s\tremaining: 1.78s\n",
      "872:\tlearn: 0.3336352\ttotal: 12.1s\tremaining: 1.77s\n",
      "873:\tlearn: 0.3336008\ttotal: 12.2s\tremaining: 1.75s\n",
      "874:\tlearn: 0.3334822\ttotal: 12.2s\tremaining: 1.74s\n",
      "875:\tlearn: 0.3334557\ttotal: 12.2s\tremaining: 1.73s\n",
      "876:\tlearn: 0.3333147\ttotal: 12.2s\tremaining: 1.71s\n",
      "877:\tlearn: 0.3332001\ttotal: 12.2s\tremaining: 1.7s\n",
      "878:\tlearn: 0.3330997\ttotal: 12.2s\tremaining: 1.68s\n",
      "879:\tlearn: 0.3330335\ttotal: 12.3s\tremaining: 1.67s\n",
      "880:\tlearn: 0.3329206\ttotal: 12.3s\tremaining: 1.66s\n",
      "881:\tlearn: 0.3328971\ttotal: 12.3s\tremaining: 1.64s\n",
      "882:\tlearn: 0.3328285\ttotal: 12.3s\tremaining: 1.63s\n",
      "883:\tlearn: 0.3327243\ttotal: 12.3s\tremaining: 1.62s\n",
      "884:\tlearn: 0.3326393\ttotal: 12.3s\tremaining: 1.6s\n",
      "885:\tlearn: 0.3325875\ttotal: 12.3s\tremaining: 1.59s\n",
      "886:\tlearn: 0.3325491\ttotal: 12.4s\tremaining: 1.57s\n",
      "887:\tlearn: 0.3325258\ttotal: 12.4s\tremaining: 1.56s\n",
      "888:\tlearn: 0.3324273\ttotal: 12.4s\tremaining: 1.55s\n",
      "889:\tlearn: 0.3323823\ttotal: 12.4s\tremaining: 1.53s\n",
      "890:\tlearn: 0.3323415\ttotal: 12.4s\tremaining: 1.52s\n",
      "891:\tlearn: 0.3322183\ttotal: 12.4s\tremaining: 1.51s\n",
      "892:\tlearn: 0.3321966\ttotal: 12.5s\tremaining: 1.49s\n",
      "893:\tlearn: 0.3321100\ttotal: 12.5s\tremaining: 1.48s\n",
      "894:\tlearn: 0.3319276\ttotal: 12.5s\tremaining: 1.47s\n",
      "895:\tlearn: 0.3318273\ttotal: 12.5s\tremaining: 1.45s\n",
      "896:\tlearn: 0.3317889\ttotal: 12.5s\tremaining: 1.44s\n",
      "897:\tlearn: 0.3316853\ttotal: 12.6s\tremaining: 1.43s\n",
      "898:\tlearn: 0.3316275\ttotal: 12.6s\tremaining: 1.41s\n",
      "899:\tlearn: 0.3315550\ttotal: 12.6s\tremaining: 1.4s\n",
      "900:\tlearn: 0.3315007\ttotal: 12.6s\tremaining: 1.39s\n",
      "901:\tlearn: 0.3313999\ttotal: 12.6s\tremaining: 1.37s\n",
      "902:\tlearn: 0.3313827\ttotal: 12.6s\tremaining: 1.36s\n",
      "903:\tlearn: 0.3313444\ttotal: 12.7s\tremaining: 1.34s\n",
      "904:\tlearn: 0.3312888\ttotal: 12.7s\tremaining: 1.33s\n",
      "905:\tlearn: 0.3311767\ttotal: 12.7s\tremaining: 1.31s\n",
      "906:\tlearn: 0.3310768\ttotal: 12.7s\tremaining: 1.3s\n",
      "907:\tlearn: 0.3309791\ttotal: 12.7s\tremaining: 1.29s\n",
      "908:\tlearn: 0.3309212\ttotal: 12.7s\tremaining: 1.27s\n",
      "909:\tlearn: 0.3307692\ttotal: 12.7s\tremaining: 1.26s\n",
      "910:\tlearn: 0.3307320\ttotal: 12.8s\tremaining: 1.25s\n",
      "911:\tlearn: 0.3306713\ttotal: 12.8s\tremaining: 1.23s\n",
      "912:\tlearn: 0.3305665\ttotal: 12.8s\tremaining: 1.22s\n",
      "913:\tlearn: 0.3305340\ttotal: 12.8s\tremaining: 1.21s\n",
      "914:\tlearn: 0.3304757\ttotal: 12.8s\tremaining: 1.19s\n",
      "915:\tlearn: 0.3304028\ttotal: 12.8s\tremaining: 1.18s\n",
      "916:\tlearn: 0.3303478\ttotal: 12.9s\tremaining: 1.16s\n",
      "917:\tlearn: 0.3303110\ttotal: 12.9s\tremaining: 1.15s\n",
      "918:\tlearn: 0.3302756\ttotal: 12.9s\tremaining: 1.14s\n",
      "919:\tlearn: 0.3301458\ttotal: 12.9s\tremaining: 1.12s\n",
      "920:\tlearn: 0.3301285\ttotal: 12.9s\tremaining: 1.11s\n",
      "921:\tlearn: 0.3300664\ttotal: 12.9s\tremaining: 1.09s\n",
      "922:\tlearn: 0.3298801\ttotal: 12.9s\tremaining: 1.08s\n",
      "923:\tlearn: 0.3297078\ttotal: 13s\tremaining: 1.07s\n",
      "924:\tlearn: 0.3295995\ttotal: 13s\tremaining: 1.05s\n",
      "925:\tlearn: 0.3294797\ttotal: 13s\tremaining: 1.04s\n",
      "926:\tlearn: 0.3294299\ttotal: 13s\tremaining: 1.02s\n",
      "927:\tlearn: 0.3293948\ttotal: 13s\tremaining: 1.01s\n",
      "928:\tlearn: 0.3293118\ttotal: 13s\tremaining: 997ms\n",
      "929:\tlearn: 0.3292591\ttotal: 13.1s\tremaining: 983ms\n",
      "930:\tlearn: 0.3291099\ttotal: 13.1s\tremaining: 969ms\n",
      "931:\tlearn: 0.3290618\ttotal: 13.1s\tremaining: 955ms\n",
      "932:\tlearn: 0.3289799\ttotal: 13.1s\tremaining: 941ms\n",
      "933:\tlearn: 0.3288133\ttotal: 13.1s\tremaining: 927ms\n",
      "934:\tlearn: 0.3287577\ttotal: 13.1s\tremaining: 913ms\n",
      "935:\tlearn: 0.3285718\ttotal: 13.1s\tremaining: 899ms\n",
      "936:\tlearn: 0.3284704\ttotal: 13.2s\tremaining: 885ms\n",
      "937:\tlearn: 0.3284602\ttotal: 13.2s\tremaining: 871ms\n",
      "938:\tlearn: 0.3283847\ttotal: 13.2s\tremaining: 857ms\n",
      "939:\tlearn: 0.3283623\ttotal: 13.2s\tremaining: 844ms\n",
      "940:\tlearn: 0.3282900\ttotal: 13.2s\tremaining: 830ms\n",
      "941:\tlearn: 0.3281435\ttotal: 13.2s\tremaining: 816ms\n",
      "942:\tlearn: 0.3281116\ttotal: 13.3s\tremaining: 802ms\n",
      "943:\tlearn: 0.3280713\ttotal: 13.3s\tremaining: 788ms\n",
      "944:\tlearn: 0.3280250\ttotal: 13.3s\tremaining: 774ms\n",
      "945:\tlearn: 0.3279647\ttotal: 13.3s\tremaining: 760ms\n",
      "946:\tlearn: 0.3278158\ttotal: 13.3s\tremaining: 746ms\n",
      "947:\tlearn: 0.3277816\ttotal: 13.3s\tremaining: 732ms\n",
      "948:\tlearn: 0.3277274\ttotal: 13.4s\tremaining: 718ms\n",
      "949:\tlearn: 0.3277228\ttotal: 13.4s\tremaining: 704ms\n",
      "950:\tlearn: 0.3275920\ttotal: 13.4s\tremaining: 690ms\n",
      "951:\tlearn: 0.3275222\ttotal: 13.4s\tremaining: 676ms\n",
      "952:\tlearn: 0.3274910\ttotal: 13.4s\tremaining: 662ms\n",
      "953:\tlearn: 0.3273098\ttotal: 13.4s\tremaining: 648ms\n",
      "954:\tlearn: 0.3271902\ttotal: 13.5s\tremaining: 634ms\n",
      "955:\tlearn: 0.3271724\ttotal: 13.5s\tremaining: 620ms\n",
      "956:\tlearn: 0.3271152\ttotal: 13.5s\tremaining: 606ms\n",
      "957:\tlearn: 0.3270152\ttotal: 13.5s\tremaining: 592ms\n",
      "958:\tlearn: 0.3268902\ttotal: 13.5s\tremaining: 578ms\n",
      "959:\tlearn: 0.3268605\ttotal: 13.5s\tremaining: 564ms\n",
      "960:\tlearn: 0.3267140\ttotal: 13.6s\tremaining: 550ms\n",
      "961:\tlearn: 0.3265788\ttotal: 13.6s\tremaining: 536ms\n",
      "962:\tlearn: 0.3264809\ttotal: 13.6s\tremaining: 522ms\n",
      "963:\tlearn: 0.3263759\ttotal: 13.6s\tremaining: 508ms\n",
      "964:\tlearn: 0.3262344\ttotal: 13.6s\tremaining: 494ms\n",
      "965:\tlearn: 0.3261743\ttotal: 13.6s\tremaining: 480ms\n",
      "966:\tlearn: 0.3261266\ttotal: 13.7s\tremaining: 466ms\n",
      "967:\tlearn: 0.3260866\ttotal: 13.7s\tremaining: 452ms\n",
      "968:\tlearn: 0.3259494\ttotal: 13.7s\tremaining: 438ms\n",
      "969:\tlearn: 0.3258464\ttotal: 13.7s\tremaining: 424ms\n",
      "970:\tlearn: 0.3257147\ttotal: 13.7s\tremaining: 410ms\n",
      "971:\tlearn: 0.3256289\ttotal: 13.7s\tremaining: 396ms\n",
      "972:\tlearn: 0.3255503\ttotal: 13.8s\tremaining: 382ms\n",
      "973:\tlearn: 0.3254726\ttotal: 13.8s\tremaining: 368ms\n",
      "974:\tlearn: 0.3253645\ttotal: 13.8s\tremaining: 353ms\n",
      "975:\tlearn: 0.3253212\ttotal: 13.8s\tremaining: 339ms\n",
      "976:\tlearn: 0.3253019\ttotal: 13.8s\tremaining: 325ms\n",
      "977:\tlearn: 0.3252354\ttotal: 13.8s\tremaining: 311ms\n",
      "978:\tlearn: 0.3250965\ttotal: 13.9s\tremaining: 297ms\n",
      "979:\tlearn: 0.3249407\ttotal: 13.9s\tremaining: 283ms\n",
      "980:\tlearn: 0.3248229\ttotal: 13.9s\tremaining: 269ms\n",
      "981:\tlearn: 0.3247663\ttotal: 13.9s\tremaining: 255ms\n",
      "982:\tlearn: 0.3247465\ttotal: 13.9s\tremaining: 241ms\n",
      "983:\tlearn: 0.3246425\ttotal: 13.9s\tremaining: 227ms\n",
      "984:\tlearn: 0.3245399\ttotal: 14s\tremaining: 213ms\n",
      "985:\tlearn: 0.3244462\ttotal: 14s\tremaining: 198ms\n",
      "986:\tlearn: 0.3243104\ttotal: 14s\tremaining: 184ms\n",
      "987:\tlearn: 0.3242724\ttotal: 14s\tremaining: 170ms\n",
      "988:\tlearn: 0.3242011\ttotal: 14s\tremaining: 156ms\n",
      "989:\tlearn: 0.3241253\ttotal: 14s\tremaining: 142ms\n",
      "990:\tlearn: 0.3239714\ttotal: 14.1s\tremaining: 128ms\n",
      "991:\tlearn: 0.3239349\ttotal: 14.1s\tremaining: 113ms\n",
      "992:\tlearn: 0.3238618\ttotal: 14.1s\tremaining: 99.2ms\n",
      "993:\tlearn: 0.3238314\ttotal: 14.1s\tremaining: 85ms\n",
      "994:\tlearn: 0.3237416\ttotal: 14.1s\tremaining: 70.9ms\n",
      "995:\tlearn: 0.3236323\ttotal: 14.1s\tremaining: 56.7ms\n",
      "996:\tlearn: 0.3235800\ttotal: 14.1s\tremaining: 42.5ms\n",
      "997:\tlearn: 0.3234931\ttotal: 14.1s\tremaining: 28.4ms\n",
      "998:\tlearn: 0.3234538\ttotal: 14.2s\tremaining: 14.2ms\n",
      "999:\tlearn: 0.3233715\ttotal: 14.2s\tremaining: 0us\n"
     ]
    }
   ],
   "source": [
    "from catboost import CatBoostClassifier\n",
    "CBC2 = CatBoostClassifier(cat_features=cat_cols).fit(X=train_feature_matrix, y=train_labels)"
   ]
  },
  {
   "cell_type": "code",
   "execution_count": 263,
   "metadata": {
    "id": "x1SUnruXsx4b"
   },
   "outputs": [],
   "source": [
    "t=CBC2.predict(test_feature_matrix)"
   ]
  },
  {
   "cell_type": "code",
   "execution_count": 264,
   "metadata": {
    "colab": {
     "base_uri": "https://localhost:8080/"
    },
    "id": "lVipIC_rs29-",
    "outputId": "c7913dde-93d3-4d29-ca97-b7e795b5cc0f"
   },
   "outputs": [
    {
     "data": {
      "text/plain": [
       "0.6783530813346755"
      ]
     },
     "execution_count": 264,
     "metadata": {},
     "output_type": "execute_result"
    }
   ],
   "source": [
    "roc_auc_score(test_labels,t)"
   ]
  },
  {
   "cell_type": "code",
   "execution_count": 266,
   "metadata": {
    "colab": {
     "base_uri": "https://localhost:8080/",
     "height": 1000
    },
    "id": "HFaBX42e-mm2",
    "outputId": "97e4ef3f-7c32-4a28-f20e-2882fe326ae2"
   },
   "outputs": [
    {
     "name": "stdout",
     "output_type": "stream",
     "text": [
      "2:\tlearn: 0.4763616\ttest: 0.4944399\tbest: 0.4944399 (2)\ttotal: 39.5ms\tremaining: 2.6s\n",
      "3:\tlearn: 0.4689053\ttest: 0.4864797\tbest: 0.4864797 (3)\ttotal: 43.7ms\tremaining: 2.14s\n",
      "4:\tlearn: 0.4536407\ttest: 0.4697935\tbest: 0.4697935 (4)\ttotal: 46.6ms\tremaining: 1.82s\n",
      "5:\tlearn: 0.4454700\ttest: 0.4623751\tbest: 0.4623751 (5)\ttotal: 104ms\tremaining: 3.37s\n",
      "6:\tlearn: 0.4384329\ttest: 0.4544844\tbest: 0.4544844 (6)\ttotal: 111ms\tremaining: 3.05s\n",
      "7:\tlearn: 0.4316406\ttest: 0.4481836\tbest: 0.4481836 (7)\ttotal: 122ms\tremaining: 2.93s\n",
      "8:\tlearn: 0.4285034\ttest: 0.4463008\tbest: 0.4463008 (8)\ttotal: 148ms\tremaining: 3.14s\n",
      "9:\tlearn: 0.4240808\ttest: 0.4418126\tbest: 0.4418126 (9)\ttotal: 151ms\tremaining: 2.87s\n",
      "10:\tlearn: 0.4203699\ttest: 0.4381243\tbest: 0.4381243 (10)\ttotal: 160ms\tremaining: 2.75s\n",
      "11:\tlearn: 0.4181673\ttest: 0.4369957\tbest: 0.4369957 (11)\ttotal: 214ms\tremaining: 3.36s\n",
      "12:\tlearn: 0.4169374\ttest: 0.4361023\tbest: 0.4361023 (12)\ttotal: 276ms\tremaining: 3.97s\n",
      "13:\tlearn: 0.4155377\ttest: 0.4349033\tbest: 0.4349033 (13)\ttotal: 325ms\tremaining: 4.31s\n",
      "14:\tlearn: 0.4142065\ttest: 0.4338650\tbest: 0.4338650 (14)\ttotal: 377ms\tremaining: 4.66s\n",
      "15:\tlearn: 0.4131126\ttest: 0.4331308\tbest: 0.4331308 (15)\ttotal: 427ms\tremaining: 4.91s\n",
      "16:\tlearn: 0.4122617\ttest: 0.4329923\tbest: 0.4329923 (16)\ttotal: 581ms\tremaining: 6.26s\n",
      "17:\tlearn: 0.4111775\ttest: 0.4326673\tbest: 0.4326673 (17)\ttotal: 721ms\tremaining: 7.29s\n",
      "18:\tlearn: 0.4103664\ttest: 0.4325130\tbest: 0.4325130 (18)\ttotal: 783ms\tremaining: 7.46s\n",
      "19:\tlearn: 0.4094641\ttest: 0.4320837\tbest: 0.4320837 (19)\ttotal: 839ms\tremaining: 7.55s\n",
      "20:\tlearn: 0.4084108\ttest: 0.4312889\tbest: 0.4312889 (20)\ttotal: 895ms\tremaining: 7.63s\n",
      "21:\tlearn: 0.4075238\ttest: 0.4309277\tbest: 0.4309277 (21)\ttotal: 958ms\tremaining: 7.75s\n",
      "22:\tlearn: 0.4067814\ttest: 0.4307659\tbest: 0.4307659 (22)\ttotal: 1.01s\tremaining: 7.82s\n",
      "23:\tlearn: 0.4058528\ttest: 0.4304934\tbest: 0.4304934 (23)\ttotal: 1.07s\tremaining: 7.83s\n",
      "24:\tlearn: 0.4050287\ttest: 0.4300131\tbest: 0.4300131 (24)\ttotal: 1.11s\tremaining: 7.81s\n",
      "25:\tlearn: 0.4043218\ttest: 0.4298312\tbest: 0.4298312 (25)\ttotal: 1.17s\tremaining: 7.81s\n",
      "26:\tlearn: 0.4035007\ttest: 0.4291939\tbest: 0.4291939 (26)\ttotal: 1.24s\tremaining: 7.92s\n",
      "27:\tlearn: 0.4027271\ttest: 0.4286178\tbest: 0.4286178 (27)\ttotal: 1.29s\tremaining: 7.92s\n",
      "28:\tlearn: 0.4019304\ttest: 0.4284090\tbest: 0.4284090 (28)\ttotal: 1.34s\tremaining: 7.93s\n",
      "29:\tlearn: 0.4009996\ttest: 0.4280762\tbest: 0.4280762 (29)\ttotal: 1.4s\tremaining: 7.94s\n",
      "30:\tlearn: 0.4003268\ttest: 0.4276010\tbest: 0.4276010 (30)\ttotal: 1.47s\tremaining: 7.99s\n",
      "31:\tlearn: 0.3995333\ttest: 0.4274167\tbest: 0.4274167 (31)\ttotal: 1.52s\tremaining: 7.97s\n",
      "32:\tlearn: 0.3988748\ttest: 0.4273586\tbest: 0.4273586 (32)\ttotal: 1.57s\tremaining: 7.97s\n",
      "33:\tlearn: 0.3982536\ttest: 0.4273273\tbest: 0.4273273 (33)\ttotal: 1.63s\tremaining: 7.97s\n",
      "34:\tlearn: 0.3975658\ttest: 0.4271213\tbest: 0.4271213 (34)\ttotal: 1.7s\tremaining: 8.01s\n",
      "35:\tlearn: 0.3968135\ttest: 0.4269658\tbest: 0.4269658 (35)\ttotal: 1.75s\tremaining: 7.98s\n",
      "36:\tlearn: 0.3961669\ttest: 0.4267921\tbest: 0.4267921 (36)\ttotal: 1.81s\tremaining: 7.99s\n",
      "37:\tlearn: 0.3955661\ttest: 0.4267360\tbest: 0.4267360 (37)\ttotal: 1.86s\tremaining: 7.95s\n",
      "38:\tlearn: 0.3948701\ttest: 0.4265299\tbest: 0.4265299 (38)\ttotal: 1.92s\tremaining: 7.94s\n",
      "39:\tlearn: 0.3941047\ttest: 0.4262939\tbest: 0.4262939 (39)\ttotal: 1.98s\tremaining: 7.93s\n",
      "40:\tlearn: 0.3932325\ttest: 0.4261196\tbest: 0.4261196 (40)\ttotal: 2.04s\tremaining: 7.91s\n",
      "41:\tlearn: 0.3925547\ttest: 0.4261494\tbest: 0.4261196 (40)\ttotal: 2.1s\tremaining: 7.89s\n",
      "42:\tlearn: 0.3917047\ttest: 0.4260397\tbest: 0.4260397 (42)\ttotal: 2.15s\tremaining: 7.86s\n",
      "43:\tlearn: 0.3909926\ttest: 0.4258956\tbest: 0.4258956 (43)\ttotal: 2.21s\tremaining: 7.84s\n",
      "44:\tlearn: 0.3903561\ttest: 0.4257674\tbest: 0.4257674 (44)\ttotal: 2.26s\tremaining: 7.8s\n",
      "45:\tlearn: 0.3896687\ttest: 0.4256521\tbest: 0.4256521 (45)\ttotal: 2.32s\tremaining: 7.77s\n",
      "46:\tlearn: 0.3889385\ttest: 0.4256142\tbest: 0.4256142 (46)\ttotal: 2.37s\tremaining: 7.72s\n",
      "47:\tlearn: 0.3883032\ttest: 0.4255408\tbest: 0.4255408 (47)\ttotal: 2.44s\tremaining: 7.71s\n",
      "48:\tlearn: 0.3874604\ttest: 0.4252539\tbest: 0.4252539 (48)\ttotal: 2.49s\tremaining: 7.68s\n",
      "49:\tlearn: 0.3866669\ttest: 0.4251285\tbest: 0.4251285 (49)\ttotal: 2.55s\tremaining: 7.66s\n",
      "50:\tlearn: 0.3860919\ttest: 0.4248593\tbest: 0.4248593 (50)\ttotal: 2.62s\tremaining: 7.67s\n",
      "51:\tlearn: 0.3854795\ttest: 0.4247242\tbest: 0.4247242 (51)\ttotal: 2.68s\tremaining: 7.63s\n",
      "52:\tlearn: 0.3848660\ttest: 0.4246982\tbest: 0.4246982 (52)\ttotal: 2.75s\tremaining: 7.62s\n",
      "53:\tlearn: 0.3842894\ttest: 0.4246667\tbest: 0.4246667 (53)\ttotal: 2.81s\tremaining: 7.59s\n",
      "54:\tlearn: 0.3836607\ttest: 0.4245595\tbest: 0.4245595 (54)\ttotal: 2.88s\tremaining: 7.59s\n",
      "55:\tlearn: 0.3830057\ttest: 0.4244949\tbest: 0.4244949 (55)\ttotal: 2.93s\tremaining: 7.54s\n",
      "56:\tlearn: 0.3824276\ttest: 0.4244472\tbest: 0.4244472 (56)\ttotal: 3s\tremaining: 7.53s\n",
      "57:\tlearn: 0.3818409\ttest: 0.4242962\tbest: 0.4242962 (57)\ttotal: 3.06s\tremaining: 7.48s\n",
      "58:\tlearn: 0.3810998\ttest: 0.4240723\tbest: 0.4240723 (58)\ttotal: 3.12s\tremaining: 7.46s\n",
      "59:\tlearn: 0.3803944\ttest: 0.4240560\tbest: 0.4240560 (59)\ttotal: 3.18s\tremaining: 7.42s\n",
      "60:\tlearn: 0.3797169\ttest: 0.4240490\tbest: 0.4240490 (60)\ttotal: 3.24s\tremaining: 7.38s\n",
      "61:\tlearn: 0.3790315\ttest: 0.4238540\tbest: 0.4238540 (61)\ttotal: 3.29s\tremaining: 7.33s\n",
      "62:\tlearn: 0.3783984\ttest: 0.4238887\tbest: 0.4238540 (61)\ttotal: 3.36s\tremaining: 7.31s\n",
      "63:\tlearn: 0.3775753\ttest: 0.4228452\tbest: 0.4228452 (63)\ttotal: 3.41s\tremaining: 7.25s\n",
      "64:\tlearn: 0.3770242\ttest: 0.4228287\tbest: 0.4228287 (64)\ttotal: 3.47s\tremaining: 7.21s\n",
      "65:\tlearn: 0.3764967\ttest: 0.4228246\tbest: 0.4228246 (65)\ttotal: 3.53s\tremaining: 7.17s\n",
      "66:\tlearn: 0.3757405\ttest: 0.4224989\tbest: 0.4224989 (66)\ttotal: 3.61s\tremaining: 7.16s\n",
      "67:\tlearn: 0.3751817\ttest: 0.4224817\tbest: 0.4224817 (67)\ttotal: 3.66s\tremaining: 7.11s\n",
      "68:\tlearn: 0.3746077\ttest: 0.4224836\tbest: 0.4224817 (67)\ttotal: 3.71s\tremaining: 7.05s\n",
      "69:\tlearn: 0.3741210\ttest: 0.4223834\tbest: 0.4223834 (69)\ttotal: 3.77s\tremaining: 7s\n",
      "70:\tlearn: 0.3736249\ttest: 0.4223974\tbest: 0.4223834 (69)\ttotal: 3.84s\tremaining: 6.97s\n",
      "71:\tlearn: 0.3727682\ttest: 0.4221860\tbest: 0.4221860 (71)\ttotal: 3.9s\tremaining: 6.94s\n",
      "72:\tlearn: 0.3721518\ttest: 0.4222718\tbest: 0.4221860 (71)\ttotal: 3.96s\tremaining: 6.89s\n",
      "73:\tlearn: 0.3715616\ttest: 0.4223184\tbest: 0.4221860 (71)\ttotal: 4.02s\tremaining: 6.84s\n",
      "74:\tlearn: 0.3709944\ttest: 0.4223672\tbest: 0.4221860 (71)\ttotal: 4.09s\tremaining: 6.82s\n",
      "75:\tlearn: 0.3704492\ttest: 0.4221406\tbest: 0.4221406 (75)\ttotal: 4.15s\tremaining: 6.77s\n",
      "76:\tlearn: 0.3698298\ttest: 0.4220926\tbest: 0.4220926 (76)\ttotal: 4.2s\tremaining: 6.71s\n",
      "77:\tlearn: 0.3691619\ttest: 0.4218491\tbest: 0.4218491 (77)\ttotal: 4.25s\tremaining: 6.65s\n",
      "78:\tlearn: 0.3685689\ttest: 0.4218194\tbest: 0.4218194 (78)\ttotal: 4.31s\tremaining: 6.61s\n",
      "79:\tlearn: 0.3679212\ttest: 0.4217254\tbest: 0.4217254 (79)\ttotal: 4.37s\tremaining: 6.55s\n",
      "80:\tlearn: 0.3673526\ttest: 0.4216734\tbest: 0.4216734 (80)\ttotal: 4.43s\tremaining: 6.5s\n",
      "81:\tlearn: 0.3667248\ttest: 0.4216887\tbest: 0.4216734 (80)\ttotal: 4.48s\tremaining: 6.45s\n",
      "82:\tlearn: 0.3661802\ttest: 0.4216496\tbest: 0.4216496 (82)\ttotal: 4.56s\tremaining: 6.42s\n",
      "83:\tlearn: 0.3656928\ttest: 0.4217334\tbest: 0.4216496 (82)\ttotal: 4.61s\tremaining: 6.37s\n",
      "84:\tlearn: 0.3651338\ttest: 0.4217201\tbest: 0.4216496 (82)\ttotal: 4.66s\tremaining: 6.31s\n",
      "85:\tlearn: 0.3645691\ttest: 0.4218774\tbest: 0.4216496 (82)\ttotal: 4.72s\tremaining: 6.26s\n",
      "86:\tlearn: 0.3641038\ttest: 0.4217390\tbest: 0.4216496 (82)\ttotal: 4.79s\tremaining: 6.22s\n",
      "87:\tlearn: 0.3636809\ttest: 0.4216605\tbest: 0.4216496 (82)\ttotal: 4.85s\tremaining: 6.18s\n",
      "88:\tlearn: 0.3631093\ttest: 0.4214224\tbest: 0.4214224 (88)\ttotal: 4.9s\tremaining: 6.11s\n",
      "89:\tlearn: 0.3624834\ttest: 0.4212854\tbest: 0.4212854 (89)\ttotal: 4.96s\tremaining: 6.06s\n",
      "90:\tlearn: 0.3619889\ttest: 0.4211345\tbest: 0.4211345 (90)\ttotal: 5.02s\tremaining: 6.01s\n",
      "91:\tlearn: 0.3614855\ttest: 0.4210678\tbest: 0.4210678 (91)\ttotal: 5.08s\tremaining: 5.96s\n",
      "92:\tlearn: 0.3610184\ttest: 0.4210298\tbest: 0.4210298 (92)\ttotal: 5.14s\tremaining: 5.91s\n",
      "93:\tlearn: 0.3605853\ttest: 0.4209637\tbest: 0.4209637 (93)\ttotal: 5.2s\tremaining: 5.86s\n",
      "94:\tlearn: 0.3600733\ttest: 0.4208866\tbest: 0.4208866 (94)\ttotal: 5.26s\tremaining: 5.82s\n",
      "95:\tlearn: 0.3594831\ttest: 0.4207502\tbest: 0.4207502 (95)\ttotal: 5.31s\tremaining: 5.75s\n",
      "96:\tlearn: 0.3590468\ttest: 0.4207345\tbest: 0.4207345 (96)\ttotal: 5.37s\tremaining: 5.7s\n",
      "97:\tlearn: 0.3586079\ttest: 0.4207772\tbest: 0.4207345 (96)\ttotal: 5.42s\tremaining: 5.64s\n",
      "98:\tlearn: 0.3581969\ttest: 0.4208210\tbest: 0.4207345 (96)\ttotal: 5.49s\tremaining: 5.6s\n",
      "99:\tlearn: 0.3578612\ttest: 0.4207055\tbest: 0.4207055 (99)\ttotal: 5.54s\tremaining: 5.54s\n",
      "100:\tlearn: 0.3572699\ttest: 0.4205399\tbest: 0.4205399 (100)\ttotal: 5.6s\tremaining: 5.49s\n",
      "101:\tlearn: 0.3568868\ttest: 0.4205161\tbest: 0.4205161 (101)\ttotal: 5.66s\tremaining: 5.44s\n",
      "102:\tlearn: 0.3565225\ttest: 0.4204991\tbest: 0.4204991 (102)\ttotal: 5.74s\tremaining: 5.41s\n",
      "103:\tlearn: 0.3564972\ttest: 0.4205177\tbest: 0.4204991 (102)\ttotal: 5.79s\tremaining: 5.35s\n",
      "104:\tlearn: 0.3560128\ttest: 0.4205197\tbest: 0.4204991 (102)\ttotal: 5.85s\tremaining: 5.3s\n",
      "105:\tlearn: 0.3556215\ttest: 0.4203735\tbest: 0.4203735 (105)\ttotal: 5.91s\tremaining: 5.24s\n",
      "106:\tlearn: 0.3552947\ttest: 0.4202782\tbest: 0.4202782 (106)\ttotal: 5.98s\tremaining: 5.2s\n",
      "107:\tlearn: 0.3552752\ttest: 0.4202931\tbest: 0.4202782 (106)\ttotal: 6.04s\tremaining: 5.14s\n",
      "108:\tlearn: 0.3548340\ttest: 0.4203739\tbest: 0.4202782 (106)\ttotal: 6.09s\tremaining: 5.08s\n",
      "109:\tlearn: 0.3543477\ttest: 0.4201861\tbest: 0.4201861 (109)\ttotal: 6.15s\tremaining: 5.03s\n",
      "110:\tlearn: 0.3538784\ttest: 0.4201100\tbest: 0.4201100 (110)\ttotal: 6.21s\tremaining: 4.98s\n",
      "111:\tlearn: 0.3534756\ttest: 0.4199807\tbest: 0.4199807 (111)\ttotal: 6.27s\tremaining: 4.92s\n",
      "112:\tlearn: 0.3529037\ttest: 0.4200563\tbest: 0.4199807 (111)\ttotal: 6.33s\tremaining: 4.87s\n",
      "113:\tlearn: 0.3523174\ttest: 0.4199093\tbest: 0.4199093 (113)\ttotal: 6.38s\tremaining: 4.82s\n",
      "114:\tlearn: 0.3518969\ttest: 0.4198697\tbest: 0.4198697 (114)\ttotal: 6.45s\tremaining: 4.77s\n",
      "115:\tlearn: 0.3515431\ttest: 0.4196184\tbest: 0.4196184 (115)\ttotal: 6.51s\tremaining: 4.71s\n",
      "116:\tlearn: 0.3512378\ttest: 0.4196119\tbest: 0.4196119 (116)\ttotal: 6.65s\tremaining: 4.72s\n",
      "117:\tlearn: 0.3508002\ttest: 0.4197319\tbest: 0.4196119 (116)\ttotal: 6.72s\tremaining: 4.67s\n",
      "118:\tlearn: 0.3507711\ttest: 0.4196938\tbest: 0.4196119 (116)\ttotal: 6.78s\tremaining: 4.61s\n",
      "119:\tlearn: 0.3503720\ttest: 0.4196151\tbest: 0.4196119 (116)\ttotal: 6.83s\tremaining: 4.56s\n",
      "120:\tlearn: 0.3500162\ttest: 0.4193819\tbest: 0.4193819 (120)\ttotal: 6.9s\tremaining: 4.5s\n",
      "121:\tlearn: 0.3496509\ttest: 0.4192858\tbest: 0.4192858 (121)\ttotal: 6.97s\tremaining: 4.46s\n",
      "122:\tlearn: 0.3496200\ttest: 0.4193275\tbest: 0.4192858 (121)\ttotal: 7.02s\tremaining: 4.39s\n",
      "123:\tlearn: 0.3491978\ttest: 0.4193843\tbest: 0.4192858 (121)\ttotal: 7.08s\tremaining: 4.34s\n",
      "124:\tlearn: 0.3491799\ttest: 0.4193835\tbest: 0.4192858 (121)\ttotal: 7.13s\tremaining: 4.28s\n",
      "125:\tlearn: 0.3487534\ttest: 0.4192914\tbest: 0.4192858 (121)\ttotal: 7.2s\tremaining: 4.23s\n",
      "126:\tlearn: 0.3486863\ttest: 0.4191949\tbest: 0.4191949 (126)\ttotal: 7.26s\tremaining: 4.17s\n",
      "127:\tlearn: 0.3482868\ttest: 0.4192067\tbest: 0.4191949 (126)\ttotal: 7.31s\tremaining: 4.11s\n",
      "128:\tlearn: 0.3482660\ttest: 0.4191577\tbest: 0.4191577 (128)\ttotal: 7.36s\tremaining: 4.05s\n",
      "129:\tlearn: 0.3479056\ttest: 0.4191177\tbest: 0.4191177 (129)\ttotal: 7.42s\tremaining: 4s\n",
      "130:\tlearn: 0.3478789\ttest: 0.4191533\tbest: 0.4191177 (129)\ttotal: 7.47s\tremaining: 3.94s\n",
      "131:\tlearn: 0.3475850\ttest: 0.4191126\tbest: 0.4191126 (131)\ttotal: 7.53s\tremaining: 3.88s\n",
      "132:\tlearn: 0.3472810\ttest: 0.4190160\tbest: 0.4190160 (132)\ttotal: 7.58s\tremaining: 3.82s\n",
      "133:\tlearn: 0.3472570\ttest: 0.4190061\tbest: 0.4190061 (133)\ttotal: 7.64s\tremaining: 3.76s\n",
      "134:\tlearn: 0.3468760\ttest: 0.4189234\tbest: 0.4189234 (134)\ttotal: 7.7s\tremaining: 3.71s\n",
      "135:\tlearn: 0.3465293\ttest: 0.4189437\tbest: 0.4189234 (134)\ttotal: 7.77s\tremaining: 3.65s\n",
      "136:\tlearn: 0.3461095\ttest: 0.4187670\tbest: 0.4187670 (136)\ttotal: 7.82s\tremaining: 3.6s\n",
      "137:\tlearn: 0.3460161\ttest: 0.4188113\tbest: 0.4187670 (136)\ttotal: 7.89s\tremaining: 3.54s\n",
      "138:\tlearn: 0.3455279\ttest: 0.4186633\tbest: 0.4186633 (138)\ttotal: 7.95s\tremaining: 3.49s\n",
      "139:\tlearn: 0.3450447\ttest: 0.4186526\tbest: 0.4186526 (139)\ttotal: 8.02s\tremaining: 3.44s\n",
      "140:\tlearn: 0.3446373\ttest: 0.4188320\tbest: 0.4186526 (139)\ttotal: 8.08s\tremaining: 3.38s\n",
      "141:\tlearn: 0.3442406\ttest: 0.4188428\tbest: 0.4186526 (139)\ttotal: 8.15s\tremaining: 3.33s\n",
      "142:\tlearn: 0.3438083\ttest: 0.4189879\tbest: 0.4186526 (139)\ttotal: 8.2s\tremaining: 3.27s\n",
      "143:\tlearn: 0.3434325\ttest: 0.4188706\tbest: 0.4186526 (139)\ttotal: 8.26s\tremaining: 3.21s\n",
      "144:\tlearn: 0.3431001\ttest: 0.4188342\tbest: 0.4186526 (139)\ttotal: 8.32s\tremaining: 3.15s\n",
      "145:\tlearn: 0.3427627\ttest: 0.4187042\tbest: 0.4186526 (139)\ttotal: 8.39s\tremaining: 3.1s\n",
      "146:\tlearn: 0.3427269\ttest: 0.4186375\tbest: 0.4186375 (146)\ttotal: 8.45s\tremaining: 3.05s\n",
      "147:\tlearn: 0.3427107\ttest: 0.4186138\tbest: 0.4186138 (147)\ttotal: 8.5s\tremaining: 2.99s\n",
      "148:\tlearn: 0.3423437\ttest: 0.4185456\tbest: 0.4185456 (148)\ttotal: 8.56s\tremaining: 2.93s\n",
      "149:\tlearn: 0.3423244\ttest: 0.4184991\tbest: 0.4184991 (149)\ttotal: 8.63s\tremaining: 2.88s\n",
      "150:\tlearn: 0.3419673\ttest: 0.4185525\tbest: 0.4184991 (149)\ttotal: 8.69s\tremaining: 2.82s\n",
      "151:\tlearn: 0.3414671\ttest: 0.4184892\tbest: 0.4184892 (151)\ttotal: 8.74s\tremaining: 2.76s\n",
      "152:\tlearn: 0.3409840\ttest: 0.4185175\tbest: 0.4184892 (151)\ttotal: 8.82s\tremaining: 2.71s\n",
      "153:\tlearn: 0.3409587\ttest: 0.4185302\tbest: 0.4184892 (151)\ttotal: 8.89s\tremaining: 2.65s\n",
      "154:\tlearn: 0.3405504\ttest: 0.4184727\tbest: 0.4184727 (154)\ttotal: 8.96s\tremaining: 2.6s\n",
      "155:\tlearn: 0.3405193\ttest: 0.4185192\tbest: 0.4184727 (154)\ttotal: 9.02s\tremaining: 2.54s\n",
      "156:\tlearn: 0.3402883\ttest: 0.4183973\tbest: 0.4183973 (156)\ttotal: 9.08s\tremaining: 2.49s\n",
      "157:\tlearn: 0.3402720\ttest: 0.4184146\tbest: 0.4183973 (156)\ttotal: 9.14s\tremaining: 2.43s\n",
      "158:\tlearn: 0.3398249\ttest: 0.4185556\tbest: 0.4183973 (156)\ttotal: 9.19s\tremaining: 2.37s\n",
      "159:\tlearn: 0.3394974\ttest: 0.4185342\tbest: 0.4183973 (156)\ttotal: 9.26s\tremaining: 2.31s\n",
      "160:\tlearn: 0.3391646\ttest: 0.4184894\tbest: 0.4183973 (156)\ttotal: 9.31s\tremaining: 2.26s\n",
      "161:\tlearn: 0.3391304\ttest: 0.4185180\tbest: 0.4183973 (156)\ttotal: 9.37s\tremaining: 2.2s\n",
      "162:\tlearn: 0.3386831\ttest: 0.4184159\tbest: 0.4183973 (156)\ttotal: 9.43s\tremaining: 2.14s\n",
      "163:\tlearn: 0.3383018\ttest: 0.4183828\tbest: 0.4183828 (163)\ttotal: 9.49s\tremaining: 2.08s\n",
      "164:\tlearn: 0.3379316\ttest: 0.4183563\tbest: 0.4183563 (164)\ttotal: 9.56s\tremaining: 2.03s\n",
      "165:\tlearn: 0.3379050\ttest: 0.4183166\tbest: 0.4183166 (165)\ttotal: 9.62s\tremaining: 1.97s\n",
      "166:\tlearn: 0.3376038\ttest: 0.4182452\tbest: 0.4182452 (166)\ttotal: 9.69s\tremaining: 1.91s\n",
      "167:\tlearn: 0.3372889\ttest: 0.4183170\tbest: 0.4182452 (166)\ttotal: 9.74s\tremaining: 1.85s\n",
      "168:\tlearn: 0.3369310\ttest: 0.4182968\tbest: 0.4182452 (166)\ttotal: 9.81s\tremaining: 1.8s\n",
      "169:\tlearn: 0.3366824\ttest: 0.4181260\tbest: 0.4181260 (169)\ttotal: 9.9s\tremaining: 1.75s\n",
      "170:\tlearn: 0.3366292\ttest: 0.4180672\tbest: 0.4180672 (170)\ttotal: 9.96s\tremaining: 1.69s\n",
      "171:\tlearn: 0.3362200\ttest: 0.4180170\tbest: 0.4180170 (171)\ttotal: 10s\tremaining: 1.63s\n",
      "172:\tlearn: 0.3358201\ttest: 0.4181284\tbest: 0.4180170 (171)\ttotal: 10.1s\tremaining: 1.57s\n",
      "173:\tlearn: 0.3356134\ttest: 0.4180891\tbest: 0.4180170 (171)\ttotal: 10.2s\tremaining: 1.52s\n",
      "174:\tlearn: 0.3352491\ttest: 0.4181572\tbest: 0.4180170 (171)\ttotal: 10.2s\tremaining: 1.46s\n",
      "175:\tlearn: 0.3349840\ttest: 0.4180053\tbest: 0.4180053 (175)\ttotal: 10.3s\tremaining: 1.4s\n",
      "176:\tlearn: 0.3347336\ttest: 0.4179857\tbest: 0.4179857 (176)\ttotal: 10.3s\tremaining: 1.34s\n",
      "177:\tlearn: 0.3344260\ttest: 0.4180464\tbest: 0.4179857 (176)\ttotal: 10.4s\tremaining: 1.28s\n",
      "178:\tlearn: 0.3340565\ttest: 0.4181597\tbest: 0.4179857 (176)\ttotal: 10.4s\tremaining: 1.23s\n",
      "179:\tlearn: 0.3337684\ttest: 0.4181026\tbest: 0.4179857 (176)\ttotal: 10.5s\tremaining: 1.17s\n",
      "180:\tlearn: 0.3335834\ttest: 0.4179040\tbest: 0.4179040 (180)\ttotal: 10.6s\tremaining: 1.11s\n",
      "181:\tlearn: 0.3331872\ttest: 0.4178676\tbest: 0.4178676 (181)\ttotal: 10.6s\tremaining: 1.05s\n",
      "182:\tlearn: 0.3329289\ttest: 0.4177063\tbest: 0.4177063 (182)\ttotal: 10.7s\tremaining: 993ms\n",
      "183:\tlearn: 0.3328838\ttest: 0.4176160\tbest: 0.4176160 (183)\ttotal: 10.7s\tremaining: 934ms\n",
      "184:\tlearn: 0.3328546\ttest: 0.4175937\tbest: 0.4175937 (184)\ttotal: 10.8s\tremaining: 878ms\n",
      "185:\tlearn: 0.3327695\ttest: 0.4175960\tbest: 0.4175937 (184)\ttotal: 10.9s\tremaining: 819ms\n",
      "186:\tlearn: 0.3327184\ttest: 0.4176393\tbest: 0.4175937 (184)\ttotal: 10.9s\tremaining: 761ms\n",
      "187:\tlearn: 0.3324040\ttest: 0.4174344\tbest: 0.4174344 (187)\ttotal: 11s\tremaining: 702ms\n",
      "188:\tlearn: 0.3323819\ttest: 0.4174140\tbest: 0.4174140 (188)\ttotal: 11.1s\tremaining: 644ms\n",
      "189:\tlearn: 0.3323545\ttest: 0.4174347\tbest: 0.4174140 (188)\ttotal: 11.1s\tremaining: 586ms\n",
      "190:\tlearn: 0.3321617\ttest: 0.4174471\tbest: 0.4174140 (188)\ttotal: 11.2s\tremaining: 526ms\n",
      "191:\tlearn: 0.3317989\ttest: 0.4174421\tbest: 0.4174140 (188)\ttotal: 11.2s\tremaining: 468ms\n",
      "192:\tlearn: 0.3317875\ttest: 0.4173838\tbest: 0.4173838 (192)\ttotal: 11.3s\tremaining: 410ms\n"
     ]
    },
    {
     "ename": "KeyboardInterrupt",
     "evalue": "ignored",
     "output_type": "error",
     "traceback": [
      "\u001b[0;31m---------------------------------------------------------------------------\u001b[0m",
      "\u001b[0;31mKeyboardInterrupt\u001b[0m                         Traceback (most recent call last)",
      "\u001b[0;32m<ipython-input-266-9cb0135d7d89>\u001b[0m in \u001b[0;36m<module>\u001b[0;34m()\u001b[0m\n\u001b[1;32m     11\u001b[0m }\n\u001b[1;32m     12\u001b[0m \u001b[0;34m\u001b[0m\u001b[0m\n\u001b[0;32m---> 13\u001b[0;31m \u001b[0mgrid_search_result\u001b[0m \u001b[0;34m=\u001b[0m \u001b[0mCBC1\u001b[0m\u001b[0;34m.\u001b[0m\u001b[0mgrid_search\u001b[0m\u001b[0;34m(\u001b[0m\u001b[0mgrid\u001b[0m\u001b[0;34m,\u001b[0m \u001b[0mX\u001b[0m\u001b[0;34m=\u001b[0m\u001b[0mtrain_feature_matrix\u001b[0m\u001b[0;34m,\u001b[0m \u001b[0my\u001b[0m\u001b[0;34m=\u001b[0m\u001b[0mtrain_labels\u001b[0m\u001b[0;34m,\u001b[0m \u001b[0mplot\u001b[0m\u001b[0;34m=\u001b[0m\u001b[0;32mTrue\u001b[0m\u001b[0;34m,\u001b[0m\u001b[0mcv\u001b[0m\u001b[0;34m=\u001b[0m\u001b[0;36m5\u001b[0m\u001b[0;34m,\u001b[0m\u001b[0mpartition_random_seed\u001b[0m\u001b[0;34m=\u001b[0m\u001b[0;36m42\u001b[0m\u001b[0;34m,\u001b[0m \u001b[0mrefit\u001b[0m\u001b[0;34m=\u001b[0m\u001b[0;32mTrue\u001b[0m\u001b[0;34m)\u001b[0m\u001b[0;34m\u001b[0m\u001b[0;34m\u001b[0m\u001b[0m\n\u001b[0m",
      "\u001b[0;32m/usr/local/lib/python3.7/dist-packages/catboost/core.py\u001b[0m in \u001b[0;36mgrid_search\u001b[0;34m(self, param_grid, X, y, cv, partition_random_seed, calc_cv_statistics, search_by_train_test_split, refit, shuffle, stratified, train_size, verbose, plot, log_cout, log_cerr)\u001b[0m\n\u001b[1;32m   3777\u001b[0m             \u001b[0msearch_by_train_test_split\u001b[0m\u001b[0;34m=\u001b[0m\u001b[0msearch_by_train_test_split\u001b[0m\u001b[0;34m,\u001b[0m \u001b[0mrefit\u001b[0m\u001b[0;34m=\u001b[0m\u001b[0mrefit\u001b[0m\u001b[0;34m,\u001b[0m \u001b[0mshuffle\u001b[0m\u001b[0;34m=\u001b[0m\u001b[0mshuffle\u001b[0m\u001b[0;34m,\u001b[0m\u001b[0;34m\u001b[0m\u001b[0;34m\u001b[0m\u001b[0m\n\u001b[1;32m   3778\u001b[0m             \u001b[0mstratified\u001b[0m\u001b[0;34m=\u001b[0m\u001b[0mstratified\u001b[0m\u001b[0;34m,\u001b[0m \u001b[0mtrain_size\u001b[0m\u001b[0;34m=\u001b[0m\u001b[0mtrain_size\u001b[0m\u001b[0;34m,\u001b[0m \u001b[0mverbose\u001b[0m\u001b[0;34m=\u001b[0m\u001b[0mverbose\u001b[0m\u001b[0;34m,\u001b[0m \u001b[0mplot\u001b[0m\u001b[0;34m=\u001b[0m\u001b[0mplot\u001b[0m\u001b[0;34m,\u001b[0m\u001b[0;34m\u001b[0m\u001b[0;34m\u001b[0m\u001b[0m\n\u001b[0;32m-> 3779\u001b[0;31m             \u001b[0mlog_cout\u001b[0m\u001b[0;34m=\u001b[0m\u001b[0mlog_cout\u001b[0m\u001b[0;34m,\u001b[0m \u001b[0mlog_cerr\u001b[0m\u001b[0;34m=\u001b[0m\u001b[0mlog_cerr\u001b[0m\u001b[0;34m,\u001b[0m\u001b[0;34m\u001b[0m\u001b[0;34m\u001b[0m\u001b[0m\n\u001b[0m\u001b[1;32m   3780\u001b[0m         )\n\u001b[1;32m   3781\u001b[0m \u001b[0;34m\u001b[0m\u001b[0m\n",
      "\u001b[0;32m/usr/local/lib/python3.7/dist-packages/catboost/core.py\u001b[0m in \u001b[0;36m_tune_hyperparams\u001b[0;34m(self, param_grid, X, y, cv, n_iter, partition_random_seed, calc_cv_statistics, search_by_train_test_split, refit, shuffle, stratified, train_size, verbose, plot, log_cout, log_cerr)\u001b[0m\n\u001b[1;32m   3672\u001b[0m                 \u001b[0mparam_grid\u001b[0m\u001b[0;34m,\u001b[0m \u001b[0mtrain_params\u001b[0m\u001b[0;34m[\u001b[0m\u001b[0;34m\"train_pool\"\u001b[0m\u001b[0;34m]\u001b[0m\u001b[0;34m,\u001b[0m \u001b[0mparams\u001b[0m\u001b[0;34m,\u001b[0m \u001b[0mn_iter\u001b[0m\u001b[0;34m,\u001b[0m\u001b[0;34m\u001b[0m\u001b[0;34m\u001b[0m\u001b[0m\n\u001b[1;32m   3673\u001b[0m                 \u001b[0mfold_count\u001b[0m\u001b[0;34m,\u001b[0m \u001b[0mpartition_random_seed\u001b[0m\u001b[0;34m,\u001b[0m \u001b[0mshuffle\u001b[0m\u001b[0;34m,\u001b[0m \u001b[0mstratified\u001b[0m\u001b[0;34m,\u001b[0m \u001b[0mtrain_size\u001b[0m\u001b[0;34m,\u001b[0m\u001b[0;34m\u001b[0m\u001b[0;34m\u001b[0m\u001b[0m\n\u001b[0;32m-> 3674\u001b[0;31m                 \u001b[0msearch_by_train_test_split\u001b[0m\u001b[0;34m,\u001b[0m \u001b[0mcalc_cv_statistics\u001b[0m\u001b[0;34m,\u001b[0m \u001b[0mcustom_folds\u001b[0m\u001b[0;34m,\u001b[0m \u001b[0mverbose\u001b[0m\u001b[0;34m\u001b[0m\u001b[0;34m\u001b[0m\u001b[0m\n\u001b[0m\u001b[1;32m   3675\u001b[0m             )\n\u001b[1;32m   3676\u001b[0m \u001b[0;34m\u001b[0m\u001b[0m\n",
      "\u001b[0;32m_catboost.pyx\u001b[0m in \u001b[0;36m_catboost._CatBoost._tune_hyperparams\u001b[0;34m()\u001b[0m\n",
      "\u001b[0;32m_catboost.pyx\u001b[0m in \u001b[0;36m_catboost._CatBoost._tune_hyperparams\u001b[0;34m()\u001b[0m\n",
      "\u001b[0;31mKeyboardInterrupt\u001b[0m: "
     ]
    }
   ],
   "source": [
    "CBC1 = CatBoostClassifier(cat_features=cat_cols)\n",
    "\n",
    "grid  = {\n",
    "    'learning_rate': [0.1,0.5, 0.6,0.7,1],\n",
    "        'depth': [4,5,6,7,10],\n",
    "         'iterations' : [100,200,300],\n",
    "         'leaf_estimation_iterations': [1,5,10,20,None],\n",
    "         'l2_leaf_reg':[1,100],\n",
    "         'random_strength':[1,2,10],\n",
    "          'bagging_temperature':[0,1,10]        \n",
    "}\n",
    "\n",
    "grid_search_result = CBC1.grid_search(grid, X=train_feature_matrix, y=train_labels, plot=True,cv=5,partition_random_seed=42, refit=True)"
   ]
  },
  {
   "cell_type": "code",
   "execution_count": 94,
   "metadata": {
    "id": "_j93Z7dolk2E"
   },
   "outputs": [],
   "source": []
  },
  {
   "cell_type": "code",
   "execution_count": 236,
   "metadata": {
    "colab": {
     "base_uri": "https://localhost:8080/"
    },
    "id": "3xjmk0FX_RjF",
    "outputId": "9a174c3f-5800-4187-956d-8bb34133f11f"
   },
   "outputs": [
    {
     "data": {
      "text/plain": [
       "{'learn': {'Logloss': 0.37637342037001686}}"
      ]
     },
     "execution_count": 236,
     "metadata": {},
     "output_type": "execute_result"
    }
   ],
   "source": [
    "CBC1.get_best_score()"
   ]
  },
  {
   "cell_type": "code",
   "execution_count": 237,
   "metadata": {
    "colab": {
     "base_uri": "https://localhost:8080/"
    },
    "id": "iORmTDvNkNov",
    "outputId": "214e1f22-d792-4623-edbd-227ccbede35c"
   },
   "outputs": [
    {
     "data": {
      "text/plain": [
       "{'depth': 4,\n",
       " 'iterations': 100,\n",
       " 'l2_leaf_reg': 200,\n",
       " 'leaf_estimation_iterations': 10,\n",
       " 'learning_rate': 0.7}"
      ]
     },
     "execution_count": 237,
     "metadata": {},
     "output_type": "execute_result"
    }
   ],
   "source": [
    "grid_search_result['params']"
   ]
  },
  {
   "cell_type": "code",
   "execution_count": 267,
   "metadata": {
    "colab": {
     "base_uri": "https://localhost:8080/",
     "height": 1000,
     "referenced_widgets": [
      "e497340aed654449b4643ca7484eeafc"
     ]
    },
    "id": "c0D104p8_6Zg",
    "outputId": "cfb3ed0a-939e-4c0e-b395-78d64b3bdd26"
   },
   "outputs": [
    {
     "name": "stderr",
     "output_type": "stream",
     "text": [
      "Custom logger is already specified. Specify more than one logger at same time is not thread safe."
     ]
    },
    {
     "data": {
      "application/vnd.jupyter.widget-view+json": {
       "model_id": "e497340aed654449b4643ca7484eeafc",
       "version_major": 2,
       "version_minor": 0
      },
      "text/plain": [
       "MetricVisualizer(layout=Layout(align_self='stretch', height='500px'))"
      ]
     },
     "metadata": {},
     "output_type": "display_data"
    },
    {
     "name": "stdout",
     "output_type": "stream",
     "text": [
      "0:\tlearn: 0.4750206\ttotal: 16.5ms\tremaining: 4.94s\n",
      "1:\tlearn: 0.4401441\ttotal: 23.9ms\tremaining: 3.56s\n",
      "2:\tlearn: 0.4216752\ttotal: 35.6ms\tremaining: 3.53s\n",
      "3:\tlearn: 0.4102182\ttotal: 45.5ms\tremaining: 3.37s\n",
      "4:\tlearn: 0.4027088\ttotal: 58ms\tremaining: 3.42s\n",
      "5:\tlearn: 0.3985859\ttotal: 69.1ms\tremaining: 3.38s\n",
      "6:\tlearn: 0.3948814\ttotal: 81.2ms\tremaining: 3.4s\n",
      "7:\tlearn: 0.3912632\ttotal: 92.3ms\tremaining: 3.37s\n",
      "8:\tlearn: 0.3909942\ttotal: 101ms\tremaining: 3.27s\n",
      "9:\tlearn: 0.3876334\ttotal: 112ms\tremaining: 3.25s\n",
      "10:\tlearn: 0.3864114\ttotal: 123ms\tremaining: 3.23s\n",
      "11:\tlearn: 0.3835175\ttotal: 135ms\tremaining: 3.25s\n",
      "12:\tlearn: 0.3809741\ttotal: 146ms\tremaining: 3.22s\n",
      "13:\tlearn: 0.3793061\ttotal: 157ms\tremaining: 3.21s\n",
      "14:\tlearn: 0.3750042\ttotal: 168ms\tremaining: 3.18s\n",
      "15:\tlearn: 0.3714755\ttotal: 180ms\tremaining: 3.2s\n",
      "16:\tlearn: 0.3701739\ttotal: 192ms\tremaining: 3.2s\n",
      "17:\tlearn: 0.3673896\ttotal: 203ms\tremaining: 3.18s\n",
      "18:\tlearn: 0.3654046\ttotal: 214ms\tremaining: 3.16s\n",
      "19:\tlearn: 0.3644465\ttotal: 228ms\tremaining: 3.2s\n",
      "20:\tlearn: 0.3609687\ttotal: 239ms\tremaining: 3.17s\n",
      "21:\tlearn: 0.3586049\ttotal: 250ms\tremaining: 3.15s\n",
      "22:\tlearn: 0.3576290\ttotal: 261ms\tremaining: 3.14s\n",
      "23:\tlearn: 0.3552616\ttotal: 272ms\tremaining: 3.13s\n",
      "24:\tlearn: 0.3524015\ttotal: 283ms\tremaining: 3.12s\n",
      "25:\tlearn: 0.3515447\ttotal: 293ms\tremaining: 3.09s\n",
      "26:\tlearn: 0.3500117\ttotal: 304ms\tremaining: 3.07s\n",
      "27:\tlearn: 0.3465429\ttotal: 315ms\tremaining: 3.06s\n",
      "28:\tlearn: 0.3453248\ttotal: 327ms\tremaining: 3.06s\n",
      "29:\tlearn: 0.3442276\ttotal: 338ms\tremaining: 3.04s\n",
      "30:\tlearn: 0.3430493\ttotal: 350ms\tremaining: 3.03s\n",
      "31:\tlearn: 0.3416038\ttotal: 358ms\tremaining: 3s\n",
      "32:\tlearn: 0.3407394\ttotal: 369ms\tremaining: 2.99s\n",
      "33:\tlearn: 0.3384099\ttotal: 381ms\tremaining: 2.98s\n",
      "34:\tlearn: 0.3363151\ttotal: 391ms\tremaining: 2.96s\n",
      "35:\tlearn: 0.3351497\ttotal: 403ms\tremaining: 2.96s\n",
      "36:\tlearn: 0.3327314\ttotal: 414ms\tremaining: 2.94s\n",
      "37:\tlearn: 0.3316060\ttotal: 425ms\tremaining: 2.93s\n",
      "38:\tlearn: 0.3301031\ttotal: 439ms\tremaining: 2.94s\n",
      "39:\tlearn: 0.3285677\ttotal: 450ms\tremaining: 2.92s\n",
      "40:\tlearn: 0.3269889\ttotal: 461ms\tremaining: 2.91s\n",
      "41:\tlearn: 0.3256105\ttotal: 470ms\tremaining: 2.89s\n",
      "42:\tlearn: 0.3241207\ttotal: 481ms\tremaining: 2.88s\n",
      "43:\tlearn: 0.3216762\ttotal: 491ms\tremaining: 2.86s\n",
      "44:\tlearn: 0.3207639\ttotal: 502ms\tremaining: 2.84s\n",
      "45:\tlearn: 0.3181827\ttotal: 517ms\tremaining: 2.86s\n",
      "46:\tlearn: 0.3165382\ttotal: 529ms\tremaining: 2.85s\n",
      "47:\tlearn: 0.3151645\ttotal: 540ms\tremaining: 2.83s\n",
      "48:\tlearn: 0.3144815\ttotal: 550ms\tremaining: 2.81s\n",
      "49:\tlearn: 0.3123306\ttotal: 562ms\tremaining: 2.81s\n",
      "50:\tlearn: 0.3107093\ttotal: 572ms\tremaining: 2.79s\n",
      "51:\tlearn: 0.3095755\ttotal: 583ms\tremaining: 2.78s\n",
      "52:\tlearn: 0.3066925\ttotal: 594ms\tremaining: 2.77s\n",
      "53:\tlearn: 0.3054771\ttotal: 604ms\tremaining: 2.75s\n",
      "54:\tlearn: 0.3032996\ttotal: 615ms\tremaining: 2.74s\n",
      "55:\tlearn: 0.3015881\ttotal: 625ms\tremaining: 2.72s\n",
      "56:\tlearn: 0.3011106\ttotal: 636ms\tremaining: 2.71s\n",
      "57:\tlearn: 0.2992905\ttotal: 651ms\tremaining: 2.72s\n",
      "58:\tlearn: 0.2977091\ttotal: 663ms\tremaining: 2.71s\n",
      "59:\tlearn: 0.2947940\ttotal: 674ms\tremaining: 2.7s\n",
      "60:\tlearn: 0.2937177\ttotal: 686ms\tremaining: 2.69s\n",
      "61:\tlearn: 0.2926716\ttotal: 698ms\tremaining: 2.68s\n",
      "62:\tlearn: 0.2905236\ttotal: 709ms\tremaining: 2.67s\n",
      "63:\tlearn: 0.2901768\ttotal: 719ms\tremaining: 2.65s\n",
      "64:\tlearn: 0.2881382\ttotal: 730ms\tremaining: 2.64s\n",
      "65:\tlearn: 0.2868889\ttotal: 741ms\tremaining: 2.63s\n",
      "66:\tlearn: 0.2855531\ttotal: 751ms\tremaining: 2.61s\n",
      "67:\tlearn: 0.2847273\ttotal: 762ms\tremaining: 2.6s\n",
      "68:\tlearn: 0.2813652\ttotal: 774ms\tremaining: 2.59s\n",
      "69:\tlearn: 0.2801447\ttotal: 784ms\tremaining: 2.57s\n",
      "70:\tlearn: 0.2786500\ttotal: 795ms\tremaining: 2.56s\n",
      "71:\tlearn: 0.2778976\ttotal: 805ms\tremaining: 2.55s\n",
      "72:\tlearn: 0.2774384\ttotal: 817ms\tremaining: 2.54s\n",
      "73:\tlearn: 0.2754202\ttotal: 836ms\tremaining: 2.55s\n",
      "74:\tlearn: 0.2749769\ttotal: 847ms\tremaining: 2.54s\n",
      "75:\tlearn: 0.2744188\ttotal: 863ms\tremaining: 2.54s\n",
      "76:\tlearn: 0.2736321\ttotal: 874ms\tremaining: 2.53s\n",
      "77:\tlearn: 0.2721372\ttotal: 886ms\tremaining: 2.52s\n",
      "78:\tlearn: 0.2707119\ttotal: 897ms\tremaining: 2.51s\n",
      "79:\tlearn: 0.2693041\ttotal: 908ms\tremaining: 2.5s\n",
      "80:\tlearn: 0.2678794\ttotal: 920ms\tremaining: 2.49s\n",
      "81:\tlearn: 0.2669192\ttotal: 931ms\tremaining: 2.48s\n",
      "82:\tlearn: 0.2656315\ttotal: 943ms\tremaining: 2.46s\n",
      "83:\tlearn: 0.2639142\ttotal: 955ms\tremaining: 2.46s\n",
      "84:\tlearn: 0.2631314\ttotal: 965ms\tremaining: 2.44s\n",
      "85:\tlearn: 0.2611587\ttotal: 977ms\tremaining: 2.43s\n",
      "86:\tlearn: 0.2600573\ttotal: 999ms\tremaining: 2.45s\n",
      "87:\tlearn: 0.2586056\ttotal: 1.01s\tremaining: 2.44s\n",
      "88:\tlearn: 0.2561939\ttotal: 1.02s\tremaining: 2.42s\n",
      "89:\tlearn: 0.2554036\ttotal: 1.03s\tremaining: 2.42s\n",
      "90:\tlearn: 0.2544628\ttotal: 1.05s\tremaining: 2.41s\n",
      "91:\tlearn: 0.2533024\ttotal: 1.07s\tremaining: 2.43s\n",
      "92:\tlearn: 0.2527742\ttotal: 1.08s\tremaining: 2.42s\n",
      "93:\tlearn: 0.2509359\ttotal: 1.1s\tremaining: 2.4s\n",
      "94:\tlearn: 0.2505946\ttotal: 1.11s\tremaining: 2.39s\n",
      "95:\tlearn: 0.2495896\ttotal: 1.12s\tremaining: 2.38s\n",
      "96:\tlearn: 0.2490706\ttotal: 1.13s\tremaining: 2.36s\n",
      "97:\tlearn: 0.2470411\ttotal: 1.14s\tremaining: 2.35s\n",
      "98:\tlearn: 0.2462043\ttotal: 1.15s\tremaining: 2.34s\n",
      "99:\tlearn: 0.2455534\ttotal: 1.16s\tremaining: 2.33s\n",
      "100:\tlearn: 0.2445394\ttotal: 1.17s\tremaining: 2.31s\n",
      "101:\tlearn: 0.2435445\ttotal: 1.19s\tremaining: 2.3s\n",
      "102:\tlearn: 0.2433319\ttotal: 1.2s\tremaining: 2.29s\n",
      "103:\tlearn: 0.2422758\ttotal: 1.21s\tremaining: 2.28s\n",
      "104:\tlearn: 0.2418416\ttotal: 1.22s\tremaining: 2.27s\n",
      "105:\tlearn: 0.2400786\ttotal: 1.23s\tremaining: 2.25s\n",
      "106:\tlearn: 0.2385475\ttotal: 1.24s\tremaining: 2.24s\n",
      "107:\tlearn: 0.2379433\ttotal: 1.25s\tremaining: 2.23s\n",
      "108:\tlearn: 0.2369823\ttotal: 1.26s\tremaining: 2.22s\n",
      "109:\tlearn: 0.2363766\ttotal: 1.28s\tremaining: 2.21s\n",
      "110:\tlearn: 0.2348354\ttotal: 1.29s\tremaining: 2.2s\n",
      "111:\tlearn: 0.2344112\ttotal: 1.3s\tremaining: 2.19s\n",
      "112:\tlearn: 0.2337004\ttotal: 1.31s\tremaining: 2.18s\n",
      "113:\tlearn: 0.2315083\ttotal: 1.33s\tremaining: 2.16s\n",
      "114:\tlearn: 0.2297232\ttotal: 1.34s\tremaining: 2.15s\n",
      "115:\tlearn: 0.2288574\ttotal: 1.35s\tremaining: 2.14s\n",
      "116:\tlearn: 0.2281543\ttotal: 1.36s\tremaining: 2.12s\n",
      "117:\tlearn: 0.2271230\ttotal: 1.37s\tremaining: 2.11s\n",
      "118:\tlearn: 0.2266231\ttotal: 1.38s\tremaining: 2.1s\n",
      "119:\tlearn: 0.2251210\ttotal: 1.39s\tremaining: 2.09s\n",
      "120:\tlearn: 0.2245440\ttotal: 1.4s\tremaining: 2.08s\n",
      "121:\tlearn: 0.2242783\ttotal: 1.41s\tremaining: 2.06s\n",
      "122:\tlearn: 0.2231947\ttotal: 1.43s\tremaining: 2.05s\n",
      "123:\tlearn: 0.2227484\ttotal: 1.44s\tremaining: 2.04s\n",
      "124:\tlearn: 0.2226031\ttotal: 1.45s\tremaining: 2.03s\n",
      "125:\tlearn: 0.2213969\ttotal: 1.46s\tremaining: 2.02s\n",
      "126:\tlearn: 0.2200196\ttotal: 1.47s\tremaining: 2.01s\n",
      "127:\tlearn: 0.2191729\ttotal: 1.49s\tremaining: 2s\n",
      "128:\tlearn: 0.2186986\ttotal: 1.5s\tremaining: 1.99s\n",
      "129:\tlearn: 0.2170684\ttotal: 1.52s\tremaining: 1.99s\n",
      "130:\tlearn: 0.2157020\ttotal: 1.53s\tremaining: 1.97s\n",
      "131:\tlearn: 0.2142812\ttotal: 1.54s\tremaining: 1.96s\n",
      "132:\tlearn: 0.2135777\ttotal: 1.55s\tremaining: 1.95s\n",
      "133:\tlearn: 0.2125388\ttotal: 1.56s\tremaining: 1.94s\n",
      "134:\tlearn: 0.2114238\ttotal: 1.57s\tremaining: 1.93s\n",
      "135:\tlearn: 0.2104835\ttotal: 1.59s\tremaining: 1.91s\n",
      "136:\tlearn: 0.2100892\ttotal: 1.6s\tremaining: 1.9s\n",
      "137:\tlearn: 0.2095388\ttotal: 1.61s\tremaining: 1.89s\n",
      "138:\tlearn: 0.2090735\ttotal: 1.62s\tremaining: 1.88s\n",
      "139:\tlearn: 0.2087956\ttotal: 1.63s\tremaining: 1.86s\n",
      "140:\tlearn: 0.2077620\ttotal: 1.64s\tremaining: 1.85s\n",
      "141:\tlearn: 0.2065488\ttotal: 1.65s\tremaining: 1.84s\n",
      "142:\tlearn: 0.2045665\ttotal: 1.66s\tremaining: 1.82s\n",
      "143:\tlearn: 0.2036272\ttotal: 1.67s\tremaining: 1.81s\n",
      "144:\tlearn: 0.2033967\ttotal: 1.69s\tremaining: 1.8s\n",
      "145:\tlearn: 0.2017772\ttotal: 1.7s\tremaining: 1.79s\n",
      "146:\tlearn: 0.2010596\ttotal: 1.71s\tremaining: 1.78s\n",
      "147:\tlearn: 0.2005059\ttotal: 1.72s\tremaining: 1.77s\n",
      "148:\tlearn: 0.2001508\ttotal: 1.73s\tremaining: 1.75s\n",
      "149:\tlearn: 0.1990254\ttotal: 1.74s\tremaining: 1.74s\n",
      "150:\tlearn: 0.1973367\ttotal: 1.75s\tremaining: 1.73s\n",
      "151:\tlearn: 0.1970503\ttotal: 1.77s\tremaining: 1.72s\n",
      "152:\tlearn: 0.1945244\ttotal: 1.78s\tremaining: 1.71s\n",
      "153:\tlearn: 0.1939936\ttotal: 1.79s\tremaining: 1.7s\n",
      "154:\tlearn: 0.1927396\ttotal: 1.8s\tremaining: 1.68s\n",
      "155:\tlearn: 0.1912718\ttotal: 1.81s\tremaining: 1.67s\n",
      "156:\tlearn: 0.1901319\ttotal: 1.82s\tremaining: 1.66s\n",
      "157:\tlearn: 0.1886896\ttotal: 1.83s\tremaining: 1.65s\n",
      "158:\tlearn: 0.1874413\ttotal: 1.84s\tremaining: 1.64s\n",
      "159:\tlearn: 0.1869094\ttotal: 1.85s\tremaining: 1.62s\n",
      "160:\tlearn: 0.1866845\ttotal: 1.87s\tremaining: 1.61s\n",
      "161:\tlearn: 0.1863196\ttotal: 1.88s\tremaining: 1.6s\n",
      "162:\tlearn: 0.1851815\ttotal: 1.89s\tremaining: 1.59s\n",
      "163:\tlearn: 0.1846149\ttotal: 1.91s\tremaining: 1.58s\n",
      "164:\tlearn: 0.1836603\ttotal: 1.92s\tremaining: 1.57s\n",
      "165:\tlearn: 0.1823918\ttotal: 1.93s\tremaining: 1.56s\n",
      "166:\tlearn: 0.1820770\ttotal: 1.94s\tremaining: 1.55s\n",
      "167:\tlearn: 0.1811562\ttotal: 1.96s\tremaining: 1.54s\n",
      "168:\tlearn: 0.1801113\ttotal: 1.97s\tremaining: 1.53s\n",
      "169:\tlearn: 0.1795320\ttotal: 1.98s\tremaining: 1.51s\n",
      "170:\tlearn: 0.1791073\ttotal: 2s\tremaining: 1.51s\n",
      "171:\tlearn: 0.1783844\ttotal: 2.02s\tremaining: 1.51s\n",
      "172:\tlearn: 0.1774738\ttotal: 2.04s\tremaining: 1.5s\n",
      "173:\tlearn: 0.1773246\ttotal: 2.05s\tremaining: 1.48s\n",
      "174:\tlearn: 0.1769578\ttotal: 2.06s\tremaining: 1.47s\n",
      "175:\tlearn: 0.1759728\ttotal: 2.07s\tremaining: 1.46s\n",
      "176:\tlearn: 0.1753404\ttotal: 2.08s\tremaining: 1.45s\n",
      "177:\tlearn: 0.1748010\ttotal: 2.1s\tremaining: 1.44s\n",
      "178:\tlearn: 0.1744963\ttotal: 2.11s\tremaining: 1.43s\n",
      "179:\tlearn: 0.1734965\ttotal: 2.13s\tremaining: 1.42s\n",
      "180:\tlearn: 0.1708339\ttotal: 2.14s\tremaining: 1.41s\n",
      "181:\tlearn: 0.1688121\ttotal: 2.15s\tremaining: 1.4s\n",
      "182:\tlearn: 0.1684031\ttotal: 2.17s\tremaining: 1.38s\n",
      "183:\tlearn: 0.1679292\ttotal: 2.18s\tremaining: 1.37s\n",
      "184:\tlearn: 0.1663435\ttotal: 2.19s\tremaining: 1.36s\n",
      "185:\tlearn: 0.1663434\ttotal: 2.2s\tremaining: 1.35s\n",
      "186:\tlearn: 0.1661275\ttotal: 2.21s\tremaining: 1.34s\n",
      "187:\tlearn: 0.1652372\ttotal: 2.22s\tremaining: 1.32s\n",
      "188:\tlearn: 0.1643806\ttotal: 2.23s\tremaining: 1.31s\n",
      "189:\tlearn: 0.1640810\ttotal: 2.25s\tremaining: 1.3s\n",
      "190:\tlearn: 0.1636982\ttotal: 2.26s\tremaining: 1.29s\n",
      "191:\tlearn: 0.1626454\ttotal: 2.27s\tremaining: 1.28s\n",
      "192:\tlearn: 0.1625560\ttotal: 2.28s\tremaining: 1.26s\n",
      "193:\tlearn: 0.1612321\ttotal: 2.29s\tremaining: 1.25s\n",
      "194:\tlearn: 0.1603774\ttotal: 2.3s\tremaining: 1.24s\n",
      "195:\tlearn: 0.1593899\ttotal: 2.32s\tremaining: 1.23s\n",
      "196:\tlearn: 0.1590434\ttotal: 2.33s\tremaining: 1.22s\n",
      "197:\tlearn: 0.1581720\ttotal: 2.34s\tremaining: 1.21s\n",
      "198:\tlearn: 0.1577257\ttotal: 2.35s\tremaining: 1.19s\n",
      "199:\tlearn: 0.1562602\ttotal: 2.36s\tremaining: 1.18s\n",
      "200:\tlearn: 0.1558408\ttotal: 2.38s\tremaining: 1.17s\n",
      "201:\tlearn: 0.1552178\ttotal: 2.39s\tremaining: 1.16s\n",
      "202:\tlearn: 0.1548118\ttotal: 2.4s\tremaining: 1.15s\n",
      "203:\tlearn: 0.1544120\ttotal: 2.41s\tremaining: 1.13s\n",
      "204:\tlearn: 0.1539748\ttotal: 2.42s\tremaining: 1.12s\n",
      "205:\tlearn: 0.1534829\ttotal: 2.43s\tremaining: 1.11s\n",
      "206:\tlearn: 0.1529098\ttotal: 2.44s\tremaining: 1.1s\n",
      "207:\tlearn: 0.1526641\ttotal: 2.45s\tremaining: 1.08s\n",
      "208:\tlearn: 0.1521360\ttotal: 2.47s\tremaining: 1.07s\n",
      "209:\tlearn: 0.1506690\ttotal: 2.48s\tremaining: 1.06s\n",
      "210:\tlearn: 0.1502592\ttotal: 2.49s\tremaining: 1.05s\n",
      "211:\tlearn: 0.1496808\ttotal: 2.5s\tremaining: 1.04s\n",
      "212:\tlearn: 0.1489945\ttotal: 2.52s\tremaining: 1.03s\n",
      "213:\tlearn: 0.1483335\ttotal: 2.53s\tremaining: 1.02s\n",
      "214:\tlearn: 0.1477944\ttotal: 2.54s\tremaining: 1.01s\n",
      "215:\tlearn: 0.1476292\ttotal: 2.56s\tremaining: 994ms\n",
      "216:\tlearn: 0.1472685\ttotal: 2.57s\tremaining: 982ms\n",
      "217:\tlearn: 0.1467035\ttotal: 2.58s\tremaining: 970ms\n",
      "218:\tlearn: 0.1454199\ttotal: 2.59s\tremaining: 958ms\n",
      "219:\tlearn: 0.1449264\ttotal: 2.6s\tremaining: 946ms\n",
      "220:\tlearn: 0.1443298\ttotal: 2.61s\tremaining: 934ms\n",
      "221:\tlearn: 0.1438689\ttotal: 2.62s\tremaining: 922ms\n",
      "222:\tlearn: 0.1429089\ttotal: 2.63s\tremaining: 910ms\n",
      "223:\tlearn: 0.1422286\ttotal: 2.65s\tremaining: 898ms\n",
      "224:\tlearn: 0.1412175\ttotal: 2.66s\tremaining: 886ms\n",
      "225:\tlearn: 0.1408399\ttotal: 2.67s\tremaining: 874ms\n",
      "226:\tlearn: 0.1404941\ttotal: 2.68s\tremaining: 862ms\n",
      "227:\tlearn: 0.1393214\ttotal: 2.69s\tremaining: 850ms\n",
      "228:\tlearn: 0.1390484\ttotal: 2.7s\tremaining: 838ms\n",
      "229:\tlearn: 0.1388234\ttotal: 2.71s\tremaining: 826ms\n",
      "230:\tlearn: 0.1381210\ttotal: 2.73s\tremaining: 814ms\n",
      "231:\tlearn: 0.1376837\ttotal: 2.74s\tremaining: 804ms\n",
      "232:\tlearn: 0.1371375\ttotal: 2.75s\tremaining: 792ms\n",
      "233:\tlearn: 0.1364577\ttotal: 2.76s\tremaining: 780ms\n",
      "234:\tlearn: 0.1360386\ttotal: 2.77s\tremaining: 768ms\n",
      "235:\tlearn: 0.1358090\ttotal: 2.79s\tremaining: 756ms\n",
      "236:\tlearn: 0.1352105\ttotal: 2.8s\tremaining: 744ms\n",
      "237:\tlearn: 0.1348613\ttotal: 2.82s\tremaining: 734ms\n",
      "238:\tlearn: 0.1340296\ttotal: 2.83s\tremaining: 722ms\n",
      "239:\tlearn: 0.1333766\ttotal: 2.84s\tremaining: 710ms\n",
      "240:\tlearn: 0.1333043\ttotal: 2.85s\tremaining: 698ms\n",
      "241:\tlearn: 0.1329933\ttotal: 2.86s\tremaining: 686ms\n",
      "242:\tlearn: 0.1322184\ttotal: 2.87s\tremaining: 674ms\n",
      "243:\tlearn: 0.1319165\ttotal: 2.88s\tremaining: 662ms\n",
      "244:\tlearn: 0.1312859\ttotal: 2.9s\tremaining: 650ms\n",
      "245:\tlearn: 0.1312368\ttotal: 2.91s\tremaining: 638ms\n",
      "246:\tlearn: 0.1302962\ttotal: 2.92s\tremaining: 626ms\n",
      "247:\tlearn: 0.1297810\ttotal: 2.93s\tremaining: 614ms\n",
      "248:\tlearn: 0.1285580\ttotal: 2.94s\tremaining: 602ms\n",
      "249:\tlearn: 0.1282872\ttotal: 2.96s\tremaining: 591ms\n",
      "250:\tlearn: 0.1275014\ttotal: 2.97s\tremaining: 579ms\n",
      "251:\tlearn: 0.1272100\ttotal: 2.98s\tremaining: 568ms\n",
      "252:\tlearn: 0.1266359\ttotal: 3.01s\tremaining: 559ms\n",
      "253:\tlearn: 0.1259168\ttotal: 3.02s\tremaining: 547ms\n",
      "254:\tlearn: 0.1253580\ttotal: 3.03s\tremaining: 535ms\n",
      "255:\tlearn: 0.1251139\ttotal: 3.04s\tremaining: 523ms\n",
      "256:\tlearn: 0.1249208\ttotal: 3.06s\tremaining: 511ms\n",
      "257:\tlearn: 0.1246105\ttotal: 3.07s\tremaining: 499ms\n",
      "258:\tlearn: 0.1234246\ttotal: 3.08s\tremaining: 487ms\n",
      "259:\tlearn: 0.1231152\ttotal: 3.09s\tremaining: 475ms\n",
      "260:\tlearn: 0.1227486\ttotal: 3.1s\tremaining: 463ms\n",
      "261:\tlearn: 0.1225887\ttotal: 3.11s\tremaining: 451ms\n",
      "262:\tlearn: 0.1221129\ttotal: 3.13s\tremaining: 440ms\n",
      "263:\tlearn: 0.1214898\ttotal: 3.15s\tremaining: 430ms\n",
      "264:\tlearn: 0.1210447\ttotal: 3.17s\tremaining: 418ms\n",
      "265:\tlearn: 0.1207718\ttotal: 3.18s\tremaining: 406ms\n",
      "266:\tlearn: 0.1202535\ttotal: 3.19s\tremaining: 394ms\n",
      "267:\tlearn: 0.1198994\ttotal: 3.2s\tremaining: 382ms\n",
      "268:\tlearn: 0.1194820\ttotal: 3.21s\tremaining: 371ms\n",
      "269:\tlearn: 0.1189263\ttotal: 3.23s\tremaining: 359ms\n",
      "270:\tlearn: 0.1187787\ttotal: 3.24s\tremaining: 347ms\n",
      "271:\tlearn: 0.1185365\ttotal: 3.25s\tremaining: 335ms\n",
      "272:\tlearn: 0.1180046\ttotal: 3.26s\tremaining: 323ms\n",
      "273:\tlearn: 0.1171635\ttotal: 3.27s\tremaining: 311ms\n",
      "274:\tlearn: 0.1170922\ttotal: 3.29s\tremaining: 299ms\n",
      "275:\tlearn: 0.1160712\ttotal: 3.3s\tremaining: 287ms\n",
      "276:\tlearn: 0.1156414\ttotal: 3.31s\tremaining: 275ms\n",
      "277:\tlearn: 0.1148756\ttotal: 3.32s\tremaining: 263ms\n",
      "278:\tlearn: 0.1141228\ttotal: 3.33s\tremaining: 251ms\n",
      "279:\tlearn: 0.1133291\ttotal: 3.34s\tremaining: 239ms\n",
      "280:\tlearn: 0.1132479\ttotal: 3.36s\tremaining: 227ms\n",
      "281:\tlearn: 0.1130701\ttotal: 3.37s\tremaining: 215ms\n",
      "282:\tlearn: 0.1126417\ttotal: 3.38s\tremaining: 203ms\n",
      "283:\tlearn: 0.1124455\ttotal: 3.4s\tremaining: 191ms\n",
      "284:\tlearn: 0.1122453\ttotal: 3.41s\tremaining: 179ms\n",
      "285:\tlearn: 0.1115970\ttotal: 3.42s\tremaining: 167ms\n",
      "286:\tlearn: 0.1110632\ttotal: 3.43s\tremaining: 155ms\n",
      "287:\tlearn: 0.1103014\ttotal: 3.44s\tremaining: 143ms\n",
      "288:\tlearn: 0.1096201\ttotal: 3.45s\tremaining: 131ms\n",
      "289:\tlearn: 0.1090680\ttotal: 3.46s\tremaining: 119ms\n",
      "290:\tlearn: 0.1085544\ttotal: 3.47s\tremaining: 107ms\n",
      "291:\tlearn: 0.1078447\ttotal: 3.48s\tremaining: 95.5ms\n",
      "292:\tlearn: 0.1073467\ttotal: 3.5s\tremaining: 83.6ms\n",
      "293:\tlearn: 0.1071063\ttotal: 3.51s\tremaining: 71.6ms\n",
      "294:\tlearn: 0.1066920\ttotal: 3.53s\tremaining: 59.8ms\n",
      "295:\tlearn: 0.1062490\ttotal: 3.54s\tremaining: 47.8ms\n",
      "296:\tlearn: 0.1059965\ttotal: 3.55s\tremaining: 35.9ms\n",
      "297:\tlearn: 0.1051932\ttotal: 3.56s\tremaining: 23.9ms\n",
      "298:\tlearn: 0.1050761\ttotal: 3.58s\tremaining: 12ms\n",
      "299:\tlearn: 0.1048450\ttotal: 3.59s\tremaining: 0us\n"
     ]
    }
   ],
   "source": [
    "CBC = CatBoostClassifier(learning_rate=0.7,\n",
    "        depth=5,\n",
    "         iterations = 300,\n",
    "         leaf_estimation_iterations= 5,\n",
    "         l2_leaf_reg=1,\n",
    "         random_strength=1,\n",
    "          bagging_temperature=1,custom_metric='AUC', cat_features=cat_cols).fit(X=train_feature_matrix, y=train_labels,plot=True)"
   ]
  },
  {
   "cell_type": "code",
   "execution_count": 268,
   "metadata": {
    "id": "PjWhPriHnvNf"
   },
   "outputs": [],
   "source": [
    "e = CBC.predict(test_feature_matrix)"
   ]
  },
  {
   "cell_type": "code",
   "execution_count": 269,
   "metadata": {
    "colab": {
     "base_uri": "https://localhost:8080/"
    },
    "id": "bksjqCtRn-Kq",
    "outputId": "6f71430d-c6e1-4bf4-be20-6134c3dac404"
   },
   "outputs": [
    {
     "data": {
      "text/plain": [
       "0.6806803594351732"
      ]
     },
     "execution_count": 269,
     "metadata": {},
     "output_type": "execute_result"
    }
   ],
   "source": [
    "roc_auc_score(test_labels,e)"
   ]
  },
  {
   "cell_type": "markdown",
   "metadata": {
    "id": "rf4Kjt96EEZU"
   },
   "source": [
    "Выпишите какое лучшее качество и с какими параметрами вам удалось получить"
   ]
  },
  {
   "cell_type": "markdown",
   "metadata": {
    "id": "d2d9GolXEEZV"
   },
   "source": []
  },
  {
   "cell_type": "markdown",
   "metadata": {
    "id": "dDMXbvNZEEZV"
   },
   "source": [
    "# Предсказания"
   ]
  },
  {
   "cell_type": "code",
   "execution_count": 270,
   "metadata": {
    "id": "G_P4wFNaEEZW"
   },
   "outputs": [],
   "source": [
    "best_model = CBC# какая-то предыдущая модель"
   ]
  },
  {
   "cell_type": "code",
   "execution_count": 271,
   "metadata": {
    "id": "FfSufx0CEEZZ"
   },
   "outputs": [],
   "source": [
    "X_test = pd.read_csv('./test.csv')\n",
    "submission = pd.read_csv('./submission.csv')\n",
    "\n",
    "submission['Churn'] =best_model.predict(check) # best_model.predict_proba(X_test) / best_model.predict(X_test)\n",
    "submission.astype('str')\n",
    "submission.to_csv('./my_submission.csv')"
   ]
  },
  {
   "cell_type": "markdown",
   "metadata": {
    "id": "mkxjbGkVEEZc"
   },
   "source": [
    "# Kaggle (5 баллов)\n",
    "\n",
    "Как выставить баллы:\n",
    "\n",
    "1) 1 >= roc auc > 0.84 это 5 баллов\n",
    "\n",
    "2) 0.84 >= roc auc > 0.7 это 3 балла\n",
    "\n",
    "3) 0.7 >= roc auc > 0.6 это 1 балл\n",
    "\n",
    "4) 0.6 >= roc auc это 0 баллов\n",
    "\n",
    "\n",
    "Для выполнения задания необходимо выполнить следующие шаги.\n",
    "* Зарегистрироваться на платформе [kaggle.com](kaggle.com). Процесс выставления оценок будет проходить при подведении итогового рейтинга. Пожалуйста, укажите во вкладке Team -> Team name свои имя и фамилию в формате Имя_Фамилия (важно, чтобы имя и фамилия совпадали с данными на Stepik).\n",
    "* Обучить модель, получить файл с ответами в формате .csv и сдать его в конкурс. Пробуйте и экспериментируйте. Обратите внимание, что вы можете выполнять до 20 попыток сдачи на kaggle в день.\n",
    "* После окончания соревнования отправить в итоговый ноутбук с решением на степик. \n",
    "* После дедлайна проверьте посылки других участников по критериям. Для этого надо зайти на степик, скачать их ноутбук и проверить скор в соревновании."
   ]
  }
 ],
 "metadata": {
  "accelerator": "GPU",
  "colab": {
   "collapsed_sections": [
    "Tu_JvqcBEN8Y",
    "mkxjbGkVEEZc"
   ],
   "name": "baseline.ipynb",
   "provenance": []
  },
  "kernelspec": {
   "display_name": "Python 3",
   "language": "python",
   "name": "python3"
  },
  "language_info": {
   "codemirror_mode": {
    "name": "ipython",
    "version": 3
   },
   "file_extension": ".py",
   "mimetype": "text/x-python",
   "name": "python",
   "nbconvert_exporter": "python",
   "pygments_lexer": "ipython3",
   "version": "3.8.8"
  },
  "widgets": {
   "application/vnd.jupyter.widget-state+json": {
    "e497340aed654449b4643ca7484eeafc": {
     "model_module": "catboost-widget",
     "model_module_version": "^1.0.0",
     "model_name": "CatboostWidgetModel",
     "state": {
      "_dom_classes": [],
      "_model_module": "catboost-widget",
      "_model_module_version": "^1.0.0",
      "_model_name": "CatboostWidgetModel",
      "_view_count": null,
      "_view_module": "catboost-widget",
      "_view_module_version": "^1.0.0",
      "_view_name": "CatboostWidgetView",
      "data": {
       "catboost_info": {
        "content": {
         "data": {
          "iterations": [
           {
            "iteration": 0,
            "learn": [
             0.4750206154
            ],
            "passed_time": 0.01651358205,
            "remaining_time": 4.937561034
           },
           {
            "iteration": 1,
            "learn": [
             0.440144079
            ],
            "passed_time": 0.02391078334,
            "remaining_time": 3.562706717
           },
           {
            "iteration": 2,
            "learn": [
             0.421675165
            ],
            "passed_time": 0.03563398039,
            "remaining_time": 3.527764059
           },
           {
            "iteration": 3,
            "learn": [
             0.4102181694
            ],
            "passed_time": 0.04553199696,
            "remaining_time": 3.369367775
           },
           {
            "iteration": 4,
            "learn": [
             0.4027087575
            ],
            "passed_time": 0.0579793893,
            "remaining_time": 3.420783969
           },
           {
            "iteration": 5,
            "learn": [
             0.3985858821
            ],
            "passed_time": 0.06908256442,
            "remaining_time": 3.385045657
           },
           {
            "iteration": 6,
            "learn": [
             0.3948814146
            ],
            "passed_time": 0.08124802416,
            "remaining_time": 3.400810154
           },
           {
            "iteration": 7,
            "learn": [
             0.3912632123
            ],
            "passed_time": 0.09225525904,
            "remaining_time": 3.367316955
           },
           {
            "iteration": 8,
            "learn": [
             0.3909942055
            ],
            "passed_time": 0.1012603185,
            "remaining_time": 3.27408363
           },
           {
            "iteration": 9,
            "learn": [
             0.3876333742
            ],
            "passed_time": 0.1119161175,
            "remaining_time": 3.245567407
           },
           {
            "iteration": 10,
            "learn": [
             0.3864113741
            ],
            "passed_time": 0.1229704786,
            "remaining_time": 3.230769848
           },
           {
            "iteration": 11,
            "learn": [
             0.3835174979
            ],
            "passed_time": 0.1352775485,
            "remaining_time": 3.246661165
           },
           {
            "iteration": 12,
            "learn": [
             0.380974126
            ],
            "passed_time": 0.1457841508,
            "remaining_time": 3.218465482
           },
           {
            "iteration": 13,
            "learn": [
             0.3793060681
            ],
            "passed_time": 0.1570448145,
            "remaining_time": 3.20820121
           },
           {
            "iteration": 14,
            "learn": [
             0.3750041988
            ],
            "passed_time": 0.1675526622,
            "remaining_time": 3.183500582
           },
           {
            "iteration": 15,
            "learn": [
             0.3714754724
            ],
            "passed_time": 0.1803352729,
            "remaining_time": 3.200951094
           },
           {
            "iteration": 16,
            "learn": [
             0.370173861
            ],
            "passed_time": 0.1922276748,
            "remaining_time": 3.20002541
           },
           {
            "iteration": 17,
            "learn": [
             0.367389604
            ],
            "passed_time": 0.2029528845,
            "remaining_time": 3.17959519
           },
           {
            "iteration": 18,
            "learn": [
             0.3654045593
            ],
            "passed_time": 0.2139222561,
            "remaining_time": 3.163797577
           },
           {
            "iteration": 19,
            "learn": [
             0.3644464515
            ],
            "passed_time": 0.2284983312,
            "remaining_time": 3.198976636
           },
           {
            "iteration": 20,
            "learn": [
             0.3609687267
            ],
            "passed_time": 0.2390516954,
            "remaining_time": 3.175972524
           },
           {
            "iteration": 21,
            "learn": [
             0.3586048605
            ],
            "passed_time": 0.2497073148,
            "remaining_time": 3.155392433
           },
           {
            "iteration": 22,
            "learn": [
             0.3576289721
            ],
            "passed_time": 0.2607081034,
            "remaining_time": 3.139832375
           },
           {
            "iteration": 23,
            "learn": [
             0.3552616032
            ],
            "passed_time": 0.2718164832,
            "remaining_time": 3.125889557
           },
           {
            "iteration": 24,
            "learn": [
             0.3524014571
            ],
            "passed_time": 0.2834096199,
            "remaining_time": 3.117505818
           },
           {
            "iteration": 25,
            "learn": [
             0.351544701
            ],
            "passed_time": 0.2933362371,
            "remaining_time": 3.091312653
           },
           {
            "iteration": 26,
            "learn": [
             0.3500116606
            ],
            "passed_time": 0.3039028518,
            "remaining_time": 3.072795501
           },
           {
            "iteration": 27,
            "learn": [
             0.3465428695
            ],
            "passed_time": 0.315374778,
            "remaining_time": 3.063640701
           },
           {
            "iteration": 28,
            "learn": [
             0.3453248338
            ],
            "passed_time": 0.3273445098,
            "remaining_time": 3.058978006
           },
           {
            "iteration": 29,
            "learn": [
             0.3442275695
            ],
            "passed_time": 0.3381252124,
            "remaining_time": 3.043126911
           },
           {
            "iteration": 30,
            "learn": [
             0.3430493105
            ],
            "passed_time": 0.3497524253,
            "remaining_time": 3.034948464
           },
           {
            "iteration": 31,
            "learn": [
             0.3416037604
            ],
            "passed_time": 0.3582631523,
            "remaining_time": 3.0004539
           },
           {
            "iteration": 32,
            "learn": [
             0.3407393534
            ],
            "passed_time": 0.3692955434,
            "remaining_time": 2.987936669
           },
           {
            "iteration": 33,
            "learn": [
             0.3384098571
            ],
            "passed_time": 0.3805011221,
            "remaining_time": 2.97686172
           },
           {
            "iteration": 34,
            "learn": [
             0.3363150519
            ],
            "passed_time": 0.3914477198,
            "remaining_time": 2.96381845
           },
           {
            "iteration": 35,
            "learn": [
             0.3351496799
            ],
            "passed_time": 0.4029731721,
            "remaining_time": 2.955136596
           },
           {
            "iteration": 36,
            "learn": [
             0.3327313802
            ],
            "passed_time": 0.4138910866,
            "remaining_time": 2.941982588
           },
           {
            "iteration": 37,
            "learn": [
             0.3316060052
            ],
            "passed_time": 0.4249343592,
            "remaining_time": 2.929810582
           },
           {
            "iteration": 38,
            "learn": [
             0.3301030836
            ],
            "passed_time": 0.4386416931,
            "remaining_time": 2.935525177
           },
           {
            "iteration": 39,
            "learn": [
             0.3285676676
            ],
            "passed_time": 0.4499402653,
            "remaining_time": 2.924611725
           },
           {
            "iteration": 40,
            "learn": [
             0.3269888802
            ],
            "passed_time": 0.4605033603,
            "remaining_time": 2.909033422
           },
           {
            "iteration": 41,
            "learn": [
             0.3256104638
            ],
            "passed_time": 0.4703904062,
            "remaining_time": 2.889541067
           },
           {
            "iteration": 42,
            "learn": [
             0.3241206955
            ],
            "passed_time": 0.4810751081,
            "remaining_time": 2.875262855
           },
           {
            "iteration": 43,
            "learn": [
             0.3216761648
            ],
            "passed_time": 0.491389685,
            "remaining_time": 2.858994531
           },
           {
            "iteration": 44,
            "learn": [
             0.3207638942
            ],
            "passed_time": 0.5017887499,
            "remaining_time": 2.843469583
           },
           {
            "iteration": 45,
            "learn": [
             0.3181826818
            ],
            "passed_time": 0.5174956138,
            "remaining_time": 2.85747578
           },
           {
            "iteration": 46,
            "learn": [
             0.316538182
            ],
            "passed_time": 0.5293306452,
            "remaining_time": 2.849375601
           },
           {
            "iteration": 47,
            "learn": [
             0.3151644654
            ],
            "passed_time": 0.5398651312,
            "remaining_time": 2.834291939
           },
           {
            "iteration": 48,
            "learn": [
             0.3144814763
            ],
            "passed_time": 0.5495115383,
            "remaining_time": 2.814844819
           },
           {
            "iteration": 49,
            "learn": [
             0.3123305689
            ],
            "passed_time": 0.5615133961,
            "remaining_time": 2.807566981
           },
           {
            "iteration": 50,
            "learn": [
             0.3107093385
            ],
            "passed_time": 0.5724866247,
            "remaining_time": 2.795081756
           },
           {
            "iteration": 51,
            "learn": [
             0.3095755193
            ],
            "passed_time": 0.5827169777,
            "remaining_time": 2.77911174
           },
           {
            "iteration": 52,
            "learn": [
             0.3066924522
            ],
            "passed_time": 0.5941489809,
            "remaining_time": 2.768958458
           },
           {
            "iteration": 53,
            "learn": [
             0.3054770564
            ],
            "passed_time": 0.6039968967,
            "remaining_time": 2.751541418
           },
           {
            "iteration": 54,
            "learn": [
             0.303299599
            ],
            "passed_time": 0.6146158206,
            "remaining_time": 2.73783411
           },
           {
            "iteration": 55,
            "learn": [
             0.3015880987
            ],
            "passed_time": 0.6254044223,
            "remaining_time": 2.724976412
           },
           {
            "iteration": 56,
            "learn": [
             0.3011105551
            ],
            "passed_time": 0.6364054609,
            "remaining_time": 2.713096965
           },
           {
            "iteration": 57,
            "learn": [
             0.2992904892
            ],
            "passed_time": 0.6513451741,
            "remaining_time": 2.717681588
           },
           {
            "iteration": 58,
            "learn": [
             0.2977091352
            ],
            "passed_time": 0.6626231575,
            "remaining_time": 2.706647135
           },
           {
            "iteration": 59,
            "learn": [
             0.2947940294
            ],
            "passed_time": 0.6740156866,
            "remaining_time": 2.696062747
           },
           {
            "iteration": 60,
            "learn": [
             0.2937176725
            ],
            "passed_time": 0.6861805986,
            "remaining_time": 2.688478083
           },
           {
            "iteration": 61,
            "learn": [
             0.2926716489
            ],
            "passed_time": 0.6980702934,
            "remaining_time": 2.679689191
           },
           {
            "iteration": 62,
            "learn": [
             0.2905236182
            ],
            "passed_time": 0.7090847358,
            "remaining_time": 2.667509244
           },
           {
            "iteration": 63,
            "learn": [
             0.2901767621
            ],
            "passed_time": 0.7192897508,
            "remaining_time": 2.652380956
           },
           {
            "iteration": 64,
            "learn": [
             0.2881381812
            ],
            "passed_time": 0.7304294494,
            "remaining_time": 2.640783394
           },
           {
            "iteration": 65,
            "learn": [
             0.2868889196
            ],
            "passed_time": 0.7409008385,
            "remaining_time": 2.626830246
           },
           {
            "iteration": 66,
            "learn": [
             0.2855531322
            ],
            "passed_time": 0.7512274973,
            "remaining_time": 2.612477715
           },
           {
            "iteration": 67,
            "learn": [
             0.2847273164
            ],
            "passed_time": 0.7617924852,
            "remaining_time": 2.599056714
           },
           {
            "iteration": 68,
            "learn": [
             0.2813652388
            ],
            "passed_time": 0.7739087375,
            "remaining_time": 2.59091186
           },
           {
            "iteration": 69,
            "learn": [
             0.2801446743
            ],
            "passed_time": 0.7836681014,
            "remaining_time": 2.574909476
           },
           {
            "iteration": 70,
            "learn": [
             0.2786499953
            ],
            "passed_time": 0.7947011425,
            "remaining_time": 2.563191009
           },
           {
            "iteration": 71,
            "learn": [
             0.2778975658
            ],
            "passed_time": 0.8052624925,
            "remaining_time": 2.549997893
           },
           {
            "iteration": 72,
            "learn": [
             0.2774383817
            ],
            "passed_time": 0.8172574196,
            "remaining_time": 2.541334716
           },
           {
            "iteration": 73,
            "learn": [
             0.2754201734
            ],
            "passed_time": 0.8356133049,
            "remaining_time": 2.552008201
           },
           {
            "iteration": 74,
            "learn": [
             0.2749769059
            ],
            "passed_time": 0.8469661466,
            "remaining_time": 2.54089844
           },
           {
            "iteration": 75,
            "learn": [
             0.2744188376
            ],
            "passed_time": 0.862528002,
            "remaining_time": 2.542187795
           },
           {
            "iteration": 76,
            "learn": [
             0.2736321285
            ],
            "passed_time": 0.8742947918,
            "remaining_time": 2.532048553
           },
           {
            "iteration": 77,
            "learn": [
             0.272137208
            ],
            "passed_time": 0.8857753711,
            "remaining_time": 2.521052979
           },
           {
            "iteration": 78,
            "learn": [
             0.2707118761
            ],
            "passed_time": 0.8966354211,
            "remaining_time": 2.508309216
           },
           {
            "iteration": 79,
            "learn": [
             0.269304097
            ],
            "passed_time": 0.9081076708,
            "remaining_time": 2.497296095
           },
           {
            "iteration": 80,
            "learn": [
             0.267879384
            ],
            "passed_time": 0.9202607726,
            "remaining_time": 2.488112459
           },
           {
            "iteration": 81,
            "learn": [
             0.266919183
            ],
            "passed_time": 0.9313133192,
            "remaining_time": 2.475930532
           },
           {
            "iteration": 82,
            "learn": [
             0.2656315088
            ],
            "passed_time": 0.9430381191,
            "remaining_time": 2.465533396
           },
           {
            "iteration": 83,
            "learn": [
             0.2639141666
            ],
            "passed_time": 0.9552930967,
            "remaining_time": 2.456467963
           },
           {
            "iteration": 84,
            "learn": [
             0.2631314147
            ],
            "passed_time": 0.9645788362,
            "remaining_time": 2.439817056
           },
           {
            "iteration": 85,
            "learn": [
             0.2611587106
            ],
            "passed_time": 0.97711942,
            "remaining_time": 2.431436696
           },
           {
            "iteration": 86,
            "learn": [
             0.2600572925
            ],
            "passed_time": 0.9993111568,
            "remaining_time": 2.446589384
           },
           {
            "iteration": 87,
            "learn": [
             0.2586056133
            ],
            "passed_time": 1.010991185,
            "remaining_time": 2.435569674
           },
           {
            "iteration": 88,
            "learn": [
             0.2561938928
            ],
            "passed_time": 1.023138133,
            "remaining_time": 2.42564209
           },
           {
            "iteration": 89,
            "learn": [
             0.2554036335
            ],
            "passed_time": 1.035323,
            "remaining_time": 2.415753667
           },
           {
            "iteration": 90,
            "learn": [
             0.2544627941
            ],
            "passed_time": 1.048928095,
            "remaining_time": 2.409076614
           },
           {
            "iteration": 91,
            "learn": [
             0.2533023715
            ],
            "passed_time": 1.073693041,
            "remaining_time": 2.427479919
           },
           {
            "iteration": 92,
            "learn": [
             0.2527741745
            ],
            "passed_time": 1.085534837,
            "remaining_time": 2.416190443
           },
           {
            "iteration": 93,
            "learn": [
             0.2509358813
            ],
            "passed_time": 1.09684248,
            "remaining_time": 2.403718627
           },
           {
            "iteration": 94,
            "learn": [
             0.2505946024
            ],
            "passed_time": 1.107305387,
            "remaining_time": 2.389448467
           },
           {
            "iteration": 95,
            "learn": [
             0.249589647
            ],
            "passed_time": 1.117717015,
            "remaining_time": 2.375148656
           },
           {
            "iteration": 96,
            "learn": [
             0.2490705996
            ],
            "passed_time": 1.129231878,
            "remaining_time": 2.363237847
           },
           {
            "iteration": 97,
            "learn": [
             0.2470411233
            ],
            "passed_time": 1.140811273,
            "remaining_time": 2.351468134
           },
           {
            "iteration": 98,
            "learn": [
             0.2462042819
            ],
            "passed_time": 1.151478078,
            "remaining_time": 2.337849431
           },
           {
            "iteration": 99,
            "learn": [
             0.2455534078
            ],
            "passed_time": 1.162772678,
            "remaining_time": 2.325545357
           },
           {
            "iteration": 100,
            "learn": [
             0.2445394064
            ],
            "passed_time": 1.174735176,
            "remaining_time": 2.314577229
           },
           {
            "iteration": 101,
            "learn": [
             0.2435444906
            ],
            "passed_time": 1.18626501,
            "remaining_time": 2.302749726
           },
           {
            "iteration": 102,
            "learn": [
             0.2433318589
            ],
            "passed_time": 1.197547242,
            "remaining_time": 2.290454434
           },
           {
            "iteration": 103,
            "learn": [
             0.2422757841
            ],
            "passed_time": 1.208791192,
            "remaining_time": 2.278106477
           },
           {
            "iteration": 104,
            "learn": [
             0.2418416369
            ],
            "passed_time": 1.220338742,
            "remaining_time": 2.266343378
           },
           {
            "iteration": 105,
            "learn": [
             0.2400785754
            ],
            "passed_time": 1.232261674,
            "remaining_time": 2.255271365
           },
           {
            "iteration": 106,
            "learn": [
             0.2385474615
            ],
            "passed_time": 1.244164927,
            "remaining_time": 2.244147952
           },
           {
            "iteration": 107,
            "learn": [
             0.2379432688
            ],
            "passed_time": 1.254208805,
            "remaining_time": 2.229704543
           },
           {
            "iteration": 108,
            "learn": [
             0.2369823258
            ],
            "passed_time": 1.265371228,
            "remaining_time": 2.217301877
           },
           {
            "iteration": 109,
            "learn": [
             0.2363765785
            ],
            "passed_time": 1.279904929,
            "remaining_time": 2.210744877
           },
           {
            "iteration": 110,
            "learn": [
             0.2348353589
            ],
            "passed_time": 1.29198518,
            "remaining_time": 2.199866658
           },
           {
            "iteration": 111,
            "learn": [
             0.2344111578
            ],
            "passed_time": 1.303630429,
            "remaining_time": 2.188236791
           },
           {
            "iteration": 112,
            "learn": [
             0.2337004002
            ],
            "passed_time": 1.31558154,
            "remaining_time": 2.177112814
           },
           {
            "iteration": 113,
            "learn": [
             0.2315083274
            ],
            "passed_time": 1.3268494,
            "remaining_time": 2.164859547
           },
           {
            "iteration": 114,
            "learn": [
             0.2297232344
            ],
            "passed_time": 1.337856301,
            "remaining_time": 2.152203615
           },
           {
            "iteration": 115,
            "learn": [
             0.228857411
            ],
            "passed_time": 1.346692753,
            "remaining_time": 2.136133332
           },
           {
            "iteration": 116,
            "learn": [
             0.2281543375
            ],
            "passed_time": 1.357699506,
            "remaining_time": 2.123581278
           },
           {
            "iteration": 117,
            "learn": [
             0.2271230459
            ],
            "passed_time": 1.369489901,
            "remaining_time": 2.112264085
           },
           {
            "iteration": 118,
            "learn": [
             0.2266231274
            ],
            "passed_time": 1.380666524,
            "remaining_time": 2.100005385
           },
           {
            "iteration": 119,
            "learn": [
             0.2251209686
            ],
            "passed_time": 1.392197504,
            "remaining_time": 2.088296256
           },
           {
            "iteration": 120,
            "learn": [
             0.2245440221
            ],
            "passed_time": 1.403839521,
            "remaining_time": 2.076754333
           },
           {
            "iteration": 121,
            "learn": [
             0.2242782788
            ],
            "passed_time": 1.414884573,
            "remaining_time": 2.064339786
           },
           {
            "iteration": 122,
            "learn": [
             0.2231947006
            ],
            "passed_time": 1.426541297,
            "remaining_time": 2.052827721
           },
           {
            "iteration": 123,
            "learn": [
             0.2227483711
            ],
            "passed_time": 1.437900132,
            "remaining_time": 2.04089051
           },
           {
            "iteration": 124,
            "learn": [
             0.2226031007
            ],
            "passed_time": 1.448718898,
            "remaining_time": 2.028206458
           },
           {
            "iteration": 125,
            "learn": [
             0.2213969471
            ],
            "passed_time": 1.460541845,
            "remaining_time": 2.016938739
           },
           {
            "iteration": 126,
            "learn": [
             0.2200196345
            ],
            "passed_time": 1.472988949,
            "remaining_time": 2.006512506
           },
           {
            "iteration": 127,
            "learn": [
             0.2191729479
            ],
            "passed_time": 1.488916687,
            "remaining_time": 2.000731798
           },
           {
            "iteration": 128,
            "learn": [
             0.2186985515
            ],
            "passed_time": 1.500472396,
            "remaining_time": 1.988998293
           },
           {
            "iteration": 129,
            "learn": [
             0.217068418
            ],
            "passed_time": 1.519124135,
            "remaining_time": 1.986546946
           },
           {
            "iteration": 130,
            "learn": [
             0.2157020279
            ],
            "passed_time": 1.530648737,
            "remaining_time": 1.974653714
           },
           {
            "iteration": 131,
            "learn": [
             0.2142812193
            ],
            "passed_time": 1.542411635,
            "remaining_time": 1.963069354
           },
           {
            "iteration": 132,
            "learn": [
             0.2135777366
            ],
            "passed_time": 1.554478187,
            "remaining_time": 1.951863588
           },
           {
            "iteration": 133,
            "learn": [
             0.2125388271
            ],
            "passed_time": 1.56554121,
            "remaining_time": 1.939401797
           },
           {
            "iteration": 134,
            "learn": [
             0.2114237884
            ],
            "passed_time": 1.575973835,
            "remaining_time": 1.926190243
           },
           {
            "iteration": 135,
            "learn": [
             0.2104835403
            ],
            "passed_time": 1.586961837,
            "remaining_time": 1.913689274
           },
           {
            "iteration": 136,
            "learn": [
             0.2100891764
            ],
            "passed_time": 1.598246617,
            "remaining_time": 1.901563494
           },
           {
            "iteration": 137,
            "learn": [
             0.2095388318
            ],
            "passed_time": 1.609615831,
            "remaining_time": 1.889549019
           },
           {
            "iteration": 138,
            "learn": [
             0.2090735086
            ],
            "passed_time": 1.619515664,
            "remaining_time": 1.875841885
           },
           {
            "iteration": 139,
            "learn": [
             0.208795609
            ],
            "passed_time": 1.630435503,
            "remaining_time": 1.863354861
           },
           {
            "iteration": 140,
            "learn": [
             0.2077619993
            ],
            "passed_time": 1.64068489,
            "remaining_time": 1.850134025
           },
           {
            "iteration": 141,
            "learn": [
             0.2065488201
            ],
            "passed_time": 1.651446323,
            "remaining_time": 1.837524782
           },
           {
            "iteration": 142,
            "learn": [
             0.2045664798
            ],
            "passed_time": 1.662148924,
            "remaining_time": 1.824876791
           },
           {
            "iteration": 143,
            "learn": [
             0.2036271606
            ],
            "passed_time": 1.673977214,
            "remaining_time": 1.813475315
           },
           {
            "iteration": 144,
            "learn": [
             0.203396658
            ],
            "passed_time": 1.685519915,
            "remaining_time": 1.801762668
           },
           {
            "iteration": 145,
            "learn": [
             0.2017772113
            ],
            "passed_time": 1.70035579,
            "remaining_time": 1.793525971
           },
           {
            "iteration": 146,
            "learn": [
             0.2010595937
            ],
            "passed_time": 1.710842175,
            "remaining_time": 1.780672468
           },
           {
            "iteration": 147,
            "learn": [
             0.2005059118
            ],
            "passed_time": 1.722367181,
            "remaining_time": 1.768917645
           },
           {
            "iteration": 148,
            "learn": [
             0.2001507953
            ],
            "passed_time": 1.73267321,
            "remaining_time": 1.755930569
           },
           {
            "iteration": 149,
            "learn": [
             0.1990254
            ],
            "passed_time": 1.744509515,
            "remaining_time": 1.744509515
           },
           {
            "iteration": 150,
            "learn": [
             0.1973367351
            ],
            "passed_time": 1.755609627,
            "remaining_time": 1.732356519
           },
           {
            "iteration": 151,
            "learn": [
             0.197050339
            ],
            "passed_time": 1.767139053,
            "remaining_time": 1.720635394
           },
           {
            "iteration": 152,
            "learn": [
             0.1945244064
            ],
            "passed_time": 1.77882724,
            "remaining_time": 1.709069309
           },
           {
            "iteration": 153,
            "learn": [
             0.1939935878
            ],
            "passed_time": 1.790013158,
            "remaining_time": 1.697025461
           },
           {
            "iteration": 154,
            "learn": [
             0.1927396262
            ],
            "passed_time": 1.801015575,
            "remaining_time": 1.684821022
           },
           {
            "iteration": 155,
            "learn": [
             0.1912717674
            ],
            "passed_time": 1.811750027,
            "remaining_time": 1.67238464
           },
           {
            "iteration": 156,
            "learn": [
             0.190131892
            ],
            "passed_time": 1.822603458,
            "remaining_time": 1.660078309
           },
           {
            "iteration": 157,
            "learn": [
             0.1886895548
            ],
            "passed_time": 1.833789215,
            "remaining_time": 1.648089042
           },
           {
            "iteration": 158,
            "learn": [
             0.1874412642
            ],
            "passed_time": 1.843889984,
            "remaining_time": 1.635147721
           },
           {
            "iteration": 159,
            "learn": [
             0.1869094212
            ],
            "passed_time": 1.855028965,
            "remaining_time": 1.623150345
           },
           {
            "iteration": 160,
            "learn": [
             0.1866845412
            ],
            "passed_time": 1.866715131,
            "remaining_time": 1.611636045
           },
           {
            "iteration": 161,
            "learn": [
             0.1863195779
            ],
            "passed_time": 1.878210551,
            "remaining_time": 1.599957136
           },
           {
            "iteration": 162,
            "learn": [
             0.1851814715
            ],
            "passed_time": 1.890041704,
            "remaining_time": 1.588562659
           },
           {
            "iteration": 163,
            "learn": [
             0.1846149179
            ],
            "passed_time": 1.907072408,
            "remaining_time": 1.58147468
           },
           {
            "iteration": 164,
            "learn": [
             0.1836603396
            ],
            "passed_time": 1.918375498,
            "remaining_time": 1.569579953
           },
           {
            "iteration": 165,
            "learn": [
             0.1823917968
            ],
            "passed_time": 1.930906423,
            "remaining_time": 1.558683498
           },
           {
            "iteration": 166,
            "learn": [
             0.1820770037
            ],
            "passed_time": 1.943178796,
            "remaining_time": 1.547561556
           },
           {
            "iteration": 167,
            "learn": [
             0.1811561593
            ],
            "passed_time": 1.957671623,
            "remaining_time": 1.538170561
           },
           {
            "iteration": 168,
            "learn": [
             0.1801113036
            ],
            "passed_time": 1.968906321,
            "remaining_time": 1.526193657
           },
           {
            "iteration": 169,
            "learn": [
             0.179531991
            ],
            "passed_time": 1.980171146,
            "remaining_time": 1.514248523
           },
           {
            "iteration": 170,
            "learn": [
             0.179107296
            ],
            "passed_time": 2.005711181,
            "remaining_time": 1.513080364
           },
           {
            "iteration": 171,
            "learn": [
             0.178384398
            ],
            "passed_time": 2.024473789,
            "remaining_time": 1.506585145
           },
           {
            "iteration": 172,
            "learn": [
             0.1774737911
            ],
            "passed_time": 2.036601011,
            "remaining_time": 1.495077043
           },
           {
            "iteration": 173,
            "learn": [
             0.1773245703
            ],
            "passed_time": 2.049574479,
            "remaining_time": 1.484174623
           },
           {
            "iteration": 174,
            "learn": [
             0.1769577776
            ],
            "passed_time": 2.061026207,
            "remaining_time": 1.472161577
           },
           {
            "iteration": 175,
            "learn": [
             0.1759727534
            ],
            "passed_time": 2.072676777,
            "remaining_time": 1.460295002
           },
           {
            "iteration": 176,
            "learn": [
             0.1753403691
            ],
            "passed_time": 2.085329011,
            "remaining_time": 1.44912694
           },
           {
            "iteration": 177,
            "learn": [
             0.174800998
            ],
            "passed_time": 2.09751897,
            "remaining_time": 1.437625362
           },
           {
            "iteration": 178,
            "learn": [
             0.1744963474
            ],
            "passed_time": 2.113308087,
            "remaining_time": 1.428549042
           },
           {
            "iteration": 179,
            "learn": [
             0.1734965141
            ],
            "passed_time": 2.126274805,
            "remaining_time": 1.417516537
           },
           {
            "iteration": 180,
            "learn": [
             0.1708338625
            ],
            "passed_time": 2.138922287,
            "remaining_time": 1.406252775
           },
           {
            "iteration": 181,
            "learn": [
             0.1688121412
            ],
            "passed_time": 2.153260866,
            "remaining_time": 1.396070232
           },
           {
            "iteration": 182,
            "learn": [
             0.1684030627
            ],
            "passed_time": 2.16622339,
            "remaining_time": 1.384962495
           },
           {
            "iteration": 183,
            "learn": [
             0.1679291864
            ],
            "passed_time": 2.177592031,
            "remaining_time": 1.372829758
           },
           {
            "iteration": 184,
            "learn": [
             0.1663435361
            ],
            "passed_time": 2.189171342,
            "remaining_time": 1.360836239
           },
           {
            "iteration": 185,
            "learn": [
             0.1663434182
            ],
            "passed_time": 2.199846204,
            "remaining_time": 1.348292835
           },
           {
            "iteration": 186,
            "learn": [
             0.1661274569
            ],
            "passed_time": 2.212406145,
            "remaining_time": 1.336908526
           },
           {
            "iteration": 187,
            "learn": [
             0.1652372049
            ],
            "passed_time": 2.223838329,
            "remaining_time": 1.324839856
           },
           {
            "iteration": 188,
            "learn": [
             0.1643805975
            ],
            "passed_time": 2.235804349,
            "remaining_time": 1.313091443
           },
           {
            "iteration": 189,
            "learn": [
             0.1640809773
            ],
            "passed_time": 2.248258567,
            "remaining_time": 1.301623381
           },
           {
            "iteration": 190,
            "learn": [
             0.1636981785
            ],
            "passed_time": 2.258785433,
            "remaining_time": 1.28904509
           },
           {
            "iteration": 191,
            "learn": [
             0.1626454268
            ],
            "passed_time": 2.269580922,
            "remaining_time": 1.276639268
           },
           {
            "iteration": 192,
            "learn": [
             0.162555959
            ],
            "passed_time": 2.281704687,
            "remaining_time": 1.264986536
           },
           {
            "iteration": 193,
            "learn": [
             0.1612321422
            ],
            "passed_time": 2.293651493,
            "remaining_time": 1.253232259
           },
           {
            "iteration": 194,
            "learn": [
             0.1603774189
            ],
            "passed_time": 2.304076408,
            "remaining_time": 1.240656527
           },
           {
            "iteration": 195,
            "learn": [
             0.159389919
            ],
            "passed_time": 2.318786937,
            "remaining_time": 1.230376742
           },
           {
            "iteration": 196,
            "learn": [
             0.1590433579
            ],
            "passed_time": 2.329443254,
            "remaining_time": 1.21793226
           },
           {
            "iteration": 197,
            "learn": [
             0.1581720126
            ],
            "passed_time": 2.341268949,
            "remaining_time": 1.206108247
           },
           {
            "iteration": 198,
            "learn": [
             0.1577257139
            ],
            "passed_time": 2.352389754,
            "remaining_time": 1.193926458
           },
           {
            "iteration": 199,
            "learn": [
             0.1562601932
            ],
            "passed_time": 2.363908881,
            "remaining_time": 1.181954441
           },
           {
            "iteration": 200,
            "learn": [
             0.155840833
            ],
            "passed_time": 2.375380939,
            "remaining_time": 1.169963746
           },
           {
            "iteration": 201,
            "learn": [
             0.1552178136
            ],
            "passed_time": 2.386798679,
            "remaining_time": 1.157951834
           },
           {
            "iteration": 202,
            "learn": [
             0.154811751
            ],
            "passed_time": 2.397692031,
            "remaining_time": 1.145695207
           },
           {
            "iteration": 203,
            "learn": [
             0.1544119754
            ],
            "passed_time": 2.409476197,
            "remaining_time": 1.133871152
           },
           {
            "iteration": 204,
            "learn": [
             0.1539747911
            ],
            "passed_time": 2.42040542,
            "remaining_time": 1.121651292
           },
           {
            "iteration": 205,
            "learn": [
             0.1534829451
            ],
            "passed_time": 2.431434502,
            "remaining_time": 1.10948953
           },
           {
            "iteration": 206,
            "learn": [
             0.1529098179
            ],
            "passed_time": 2.443086531,
            "remaining_time": 1.097618587
           },
           {
            "iteration": 207,
            "learn": [
             0.1526640626
            ],
            "passed_time": 2.454474159,
            "remaining_time": 1.085632801
           },
           {
            "iteration": 208,
            "learn": [
             0.1521359585
            ],
            "passed_time": 2.466801607,
            "remaining_time": 1.074061944
           },
           {
            "iteration": 209,
            "learn": [
             0.150668993
            ],
            "passed_time": 2.478180309,
            "remaining_time": 1.062077275
           },
           {
            "iteration": 210,
            "learn": [
             0.1502591924
            ],
            "passed_time": 2.488827189,
            "remaining_time": 1.049789667
           },
           {
            "iteration": 211,
            "learn": [
             0.1496807786
            ],
            "passed_time": 2.499356128,
            "remaining_time": 1.037468582
           },
           {
            "iteration": 212,
            "learn": [
             0.148994501
            ],
            "passed_time": 2.515294785,
            "remaining_time": 1.027373926
           },
           {
            "iteration": 213,
            "learn": [
             0.1483334906
            ],
            "passed_time": 2.533086826,
            "remaining_time": 1.017969472
           },
           {
            "iteration": 214,
            "learn": [
             0.1477944111
            ],
            "passed_time": 2.544597074,
            "remaining_time": 1.006003494
           },
           {
            "iteration": 215,
            "learn": [
             0.1476291938
            ],
            "passed_time": 2.555669002,
            "remaining_time": 0.9938712787
           },
           {
            "iteration": 216,
            "learn": [
             0.147268532
            ],
            "passed_time": 2.566981767,
            "remaining_time": 0.9818409524
           },
           {
            "iteration": 217,
            "learn": [
             0.1467034788
            ],
            "passed_time": 2.578942322,
            "remaining_time": 0.9700608733
           },
           {
            "iteration": 218,
            "learn": [
             0.1454198888
            ],
            "passed_time": 2.589430846,
            "remaining_time": 0.9577346965
           },
           {
            "iteration": 219,
            "learn": [
             0.1449264063
            ],
            "passed_time": 2.600485866,
            "remaining_time": 0.9456312241
           },
           {
            "iteration": 220,
            "learn": [
             0.144329764
            ],
            "passed_time": 2.611906258,
            "remaining_time": 0.9336678479
           },
           {
            "iteration": 221,
            "learn": [
             0.1438689256
            ],
            "passed_time": 2.623362138,
            "remaining_time": 0.9217218324
           },
           {
            "iteration": 222,
            "learn": [
             0.1429088862
            ],
            "passed_time": 2.634849909,
            "remaining_time": 0.9097912243
           },
           {
            "iteration": 223,
            "learn": [
             0.142228607
            ],
            "passed_time": 2.647814761,
            "remaining_time": 0.8983657224
           },
           {
            "iteration": 224,
            "learn": [
             0.1412175227
            ],
            "passed_time": 2.658440758,
            "remaining_time": 0.8861469192
           },
           {
            "iteration": 225,
            "learn": [
             0.1408398799
            ],
            "passed_time": 2.669548917,
            "remaining_time": 0.874100088
           },
           {
            "iteration": 226,
            "learn": [
             0.1404941044
            ],
            "passed_time": 2.680786825,
            "remaining_time": 0.862103252
           },
           {
            "iteration": 227,
            "learn": [
             0.1393214136
            ],
            "passed_time": 2.691966869,
            "remaining_time": 0.8500948007
           },
           {
            "iteration": 228,
            "learn": [
             0.1390484489
            ],
            "passed_time": 2.702786003,
            "remaining_time": 0.8379816865
           },
           {
            "iteration": 229,
            "learn": [
             0.1388233506
            ],
            "passed_time": 2.713533615,
            "remaining_time": 0.8258580567
           },
           {
            "iteration": 230,
            "learn": [
             0.1381209936
            ],
            "passed_time": 2.725100119,
            "remaining_time": 0.8139909447
           },
           {
            "iteration": 231,
            "learn": [
             0.1376837385
            ],
            "passed_time": 2.742520161,
            "remaining_time": 0.803842116
           },
           {
            "iteration": 232,
            "learn": [
             0.1371375439
            ],
            "passed_time": 2.753192376,
            "remaining_time": 0.7916905116
           },
           {
            "iteration": 233,
            "learn": [
             0.1364577082
            ],
            "passed_time": 2.764122664,
            "remaining_time": 0.7796243411
           },
           {
            "iteration": 234,
            "learn": [
             0.1360386279
            ],
            "passed_time": 2.775200589,
            "remaining_time": 0.7676086735
           },
           {
            "iteration": 235,
            "learn": [
             0.1358089731
            ],
            "passed_time": 2.786055202,
            "remaining_time": 0.7555403939
           },
           {
            "iteration": 236,
            "learn": [
             0.1352105417
            ],
            "passed_time": 2.797428726,
            "remaining_time": 0.7436202943
           },
           {
            "iteration": 237,
            "learn": [
             0.1348613203
            ],
            "passed_time": 2.81813744,
            "remaining_time": 0.7341366439
           },
           {
            "iteration": 238,
            "learn": [
             0.1340295793
            ],
            "passed_time": 2.830318968,
            "remaining_time": 0.7223826654
           },
           {
            "iteration": 239,
            "learn": [
             0.1333765546
            ],
            "passed_time": 2.841783475,
            "remaining_time": 0.7104458688
           },
           {
            "iteration": 240,
            "learn": [
             0.1333042703
            ],
            "passed_time": 2.851244023,
            "remaining_time": 0.6980223957
           },
           {
            "iteration": 241,
            "learn": [
             0.1329932544
            ],
            "passed_time": 2.862492544,
            "remaining_time": 0.686051932
           },
           {
            "iteration": 242,
            "learn": [
             0.1322183868
            ],
            "passed_time": 2.874047956,
            "remaining_time": 0.674159397
           },
           {
            "iteration": 243,
            "learn": [
             0.1319164641
            ],
            "passed_time": 2.885493882,
            "remaining_time": 0.6622444975
           },
           {
            "iteration": 244,
            "learn": [
             0.1312858586
            ],
            "passed_time": 2.896327463,
            "remaining_time": 0.650195961
           },
           {
            "iteration": 245,
            "learn": [
             0.1312367653
            ],
            "passed_time": 2.907601739,
            "remaining_time": 0.6382540403
           },
           {
            "iteration": 246,
            "learn": [
             0.1302961871
            ],
            "passed_time": 2.919148998,
            "remaining_time": 0.6263761009
           },
           {
            "iteration": 247,
            "learn": [
             0.1297810165
            ],
            "passed_time": 2.928978863,
            "remaining_time": 0.6141407294
           },
           {
            "iteration": 248,
            "learn": [
             0.1285580065
            ],
            "passed_time": 2.939378125,
            "remaining_time": 0.6020413026
           },
           {
            "iteration": 249,
            "learn": [
             0.1282871572
            ],
            "passed_time": 2.956047018,
            "remaining_time": 0.5912094036
           },
           {
            "iteration": 250,
            "learn": [
             0.1275014415
            ],
            "passed_time": 2.967729517,
            "remaining_time": 0.5793575552
           },
           {
            "iteration": 251,
            "learn": [
             0.1272099534
            ],
            "passed_time": 2.979815719,
            "remaining_time": 0.5675839464
           },
           {
            "iteration": 252,
            "learn": [
             0.1266359218
            ],
            "passed_time": 3.010599652,
            "remaining_time": 0.5592813582
           },
           {
            "iteration": 253,
            "learn": [
             0.12591684
            ],
            "passed_time": 3.0215139,
            "remaining_time": 0.5472033048
           },
           {
            "iteration": 254,
            "learn": [
             0.1253580194
            ],
            "passed_time": 3.033009423,
            "remaining_time": 0.5352369569
           },
           {
            "iteration": 255,
            "learn": [
             0.1251139176
            ],
            "passed_time": 3.043827859,
            "remaining_time": 0.5231579133
           },
           {
            "iteration": 256,
            "learn": [
             0.1249207908
            ],
            "passed_time": 3.055481885,
            "remaining_time": 0.5112284866
           },
           {
            "iteration": 257,
            "learn": [
             0.1246105118
            ],
            "passed_time": 3.066083474,
            "remaining_time": 0.4991298678
           },
           {
            "iteration": 258,
            "learn": [
             0.1234246097
            ],
            "passed_time": 3.078254903,
            "remaining_time": 0.4872913166
           },
           {
            "iteration": 259,
            "learn": [
             0.1231151501
            ],
            "passed_time": 3.089466414,
            "remaining_time": 0.4753025252
           },
           {
            "iteration": 260,
            "learn": [
             0.122748629
            ],
            "passed_time": 3.100961631,
            "remaining_time": 0.4633620828
           },
           {
            "iteration": 261,
            "learn": [
             0.1225887331
            ],
            "passed_time": 3.112605024,
            "remaining_time": 0.4514465302
           },
           {
            "iteration": 262,
            "learn": [
             0.12211292
            ],
            "passed_time": 3.125953895,
            "remaining_time": 0.4397729815
           },
           {
            "iteration": 263,
            "learn": [
             0.1214897912
            ],
            "passed_time": 3.150929617,
            "remaining_time": 0.4296722205
           },
           {
            "iteration": 264,
            "learn": [
             0.1210446899
            ],
            "passed_time": 3.166484305,
            "remaining_time": 0.4182149082
           },
           {
            "iteration": 265,
            "learn": [
             0.1207718433
            ],
            "passed_time": 3.178593978,
            "remaining_time": 0.4062864483
           },
           {
            "iteration": 266,
            "learn": [
             0.1202535026
            ],
            "passed_time": 3.190709553,
            "remaining_time": 0.3943573605
           },
           {
            "iteration": 267,
            "learn": [
             0.1198993638
            ],
            "passed_time": 3.202743704,
            "remaining_time": 0.3824171586
           },
           {
            "iteration": 268,
            "learn": [
             0.1194819899
            ],
            "passed_time": 3.215458241,
            "remaining_time": 0.3705546672
           },
           {
            "iteration": 269,
            "learn": [
             0.1189263221
            ],
            "passed_time": 3.227412899,
            "remaining_time": 0.3586014333
           },
           {
            "iteration": 270,
            "learn": [
             0.1187786844
            ],
            "passed_time": 3.239395726,
            "remaining_time": 0.3466512032
           },
           {
            "iteration": 271,
            "learn": [
             0.1185365017
            ],
            "passed_time": 3.250670981,
            "remaining_time": 0.3346278951
           },
           {
            "iteration": 272,
            "learn": [
             0.1180046465
            ],
            "passed_time": 3.263167827,
            "remaining_time": 0.322730884
           },
           {
            "iteration": 273,
            "learn": [
             0.1171635053
            ],
            "passed_time": 3.275785881,
            "remaining_time": 0.310840996
           },
           {
            "iteration": 274,
            "learn": [
             0.1170921503
            ],
            "passed_time": 3.288333364,
            "remaining_time": 0.2989393967
           },
           {
            "iteration": 275,
            "learn": [
             0.1160711575
            ],
            "passed_time": 3.298975206,
            "remaining_time": 0.2868674093
           },
           {
            "iteration": 276,
            "learn": [
             0.1156413571
            ],
            "passed_time": 3.309693759,
            "remaining_time": 0.2748121172
           },
           {
            "iteration": 277,
            "learn": [
             0.1148755878
            ],
            "passed_time": 3.320863288,
            "remaining_time": 0.2628021307
           },
           {
            "iteration": 278,
            "learn": [
             0.1141227813
            ],
            "passed_time": 3.331739416,
            "remaining_time": 0.2507760851
           },
           {
            "iteration": 279,
            "learn": [
             0.1133290946
            ],
            "passed_time": 3.343831432,
            "remaining_time": 0.2388451023
           },
           {
            "iteration": 280,
            "learn": [
             0.1132479388
            ],
            "passed_time": 3.358813415,
            "remaining_time": 0.2271083804
           },
           {
            "iteration": 281,
            "learn": [
             0.1130701174
            ],
            "passed_time": 3.373897428,
            "remaining_time": 0.215355155
           },
           {
            "iteration": 282,
            "learn": [
             0.1126417341
            ],
            "passed_time": 3.385166842,
            "remaining_time": 0.2033492449
           },
           {
            "iteration": 283,
            "learn": [
             0.1124454681
            ],
            "passed_time": 3.396106847,
            "remaining_time": 0.1913299632
           },
           {
            "iteration": 284,
            "learn": [
             0.1122452653
            ],
            "passed_time": 3.407343633,
            "remaining_time": 0.1793338754
           },
           {
            "iteration": 285,
            "learn": [
             0.1115969753
            ],
            "passed_time": 3.417816884,
            "remaining_time": 0.1673057216
           },
           {
            "iteration": 286,
            "learn": [
             0.1110631909
            ],
            "passed_time": 3.429242411,
            "remaining_time": 0.1553315378
           },
           {
            "iteration": 287,
            "learn": [
             0.1103013905
            ],
            "passed_time": 3.440167792,
            "remaining_time": 0.1433403247
           },
           {
            "iteration": 288,
            "learn": [
             0.1096201251
            ],
            "passed_time": 3.451089603,
            "remaining_time": 0.1313563517
           },
           {
            "iteration": 289,
            "learn": [
             0.1090679616
            ],
            "passed_time": 3.462802508,
            "remaining_time": 0.119406983
           },
           {
            "iteration": 290,
            "learn": [
             0.1085543538
            ],
            "passed_time": 3.473595407,
            "remaining_time": 0.1074307858
           },
           {
            "iteration": 291,
            "learn": [
             0.1078446598
            ],
            "passed_time": 3.48552348,
            "remaining_time": 0.09549379397
           },
           {
            "iteration": 292,
            "learn": [
             0.1073467344
            ],
            "passed_time": 3.498557907,
            "remaining_time": 0.08358329472
           },
           {
            "iteration": 293,
            "learn": [
             0.1071063251
            ],
            "passed_time": 3.508218415,
            "remaining_time": 0.07159629418
           },
           {
            "iteration": 294,
            "learn": [
             0.1066919661
            ],
            "passed_time": 3.527091389,
            "remaining_time": 0.05978120998
           },
           {
            "iteration": 295,
            "learn": [
             0.1062489502
            ],
            "passed_time": 3.538829866,
            "remaining_time": 0.04782202522
           },
           {
            "iteration": 296,
            "learn": [
             0.1059964625
            ],
            "passed_time": 3.55033062,
            "remaining_time": 0.03586192546
           },
           {
            "iteration": 297,
            "learn": [
             0.1051931706
            ],
            "passed_time": 3.562232676,
            "remaining_time": 0.02390760185
           },
           {
            "iteration": 298,
            "learn": [
             0.1050760563
            ],
            "passed_time": 3.577551394,
            "remaining_time": 0.01196505483
           },
           {
            "iteration": 299,
            "learn": [
             0.104845026
            ],
            "passed_time": 3.590206703,
            "remaining_time": 0
           }
          ],
          "meta": {
           "iteration_count": 300,
           "launch_mode": "Train",
           "learn_metrics": [
            {
             "best_value": "Min",
             "name": "Logloss"
            }
           ],
           "learn_sets": [
            "learn"
           ],
           "name": "experiment",
           "parameters": "",
           "test_metrics": [],
           "test_sets": []
          }
         },
         "passed_iterations": 299,
         "total_iterations": 300
        },
        "name": "catboost_info",
        "path": "catboost_info"
       }
      },
      "layout": "IPY_MODEL_8dfe826104304e76a7b41c7142742668"
     }
    }
   }
  }
 },
 "nbformat": 4,
 "nbformat_minor": 1
}
